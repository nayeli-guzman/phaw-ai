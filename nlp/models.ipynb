{
 "cells": [
  {
   "cell_type": "markdown",
   "metadata": {},
   "source": [
    "# EmoEvent — Clasificación de emociones con **3 modelos**\n",
    "\n",
    "**Dataset**: EmoEvent (8,409 tuits en español). Emociones: `anger`, `disgust`, `fear`, `joy`, `sadness`, `surprise`, `other`. Además existe una etiqueta binaria **`offensive`** (NO/OFF) separada.\n",
    "\n",
    "🔗 Referencias:\n",
    "- Dataset card: https://huggingface.co/datasets/fmplaza/EmoEvent  \n",
    "- Paper LREC 2020: https://aclanthology.org/2020.lrec-1.186/\n",
    "- Modelo listo (tercer enfoque): https://huggingface.co/pysentimiento/robertuito-emotion-analysis\n",
    "\n",
    "## Objetivo\n",
    "Exploramos **tres enfoques** y reportamos métricas por clase, **matriz de confusión**, y **análisis por evento**:\n",
    "1. **Baseline clásico:** TF‑IDF (word + char) + Linear SVM.\n",
    "2. **Fine‑tuning Transformer:** BETO `dccuchile/bert-base-spanish-wwm-cased`.\n",
    "3. **Modelo listo (zero‑shot-ish):** `pysentimiento/robertuito-emotion-analysis` sin re-entrenar.\n",
    "\n",
    "> **Nota importante**: En EmoEvent, la variable `emotion` tiene **7 clases** (las seis de Ekman + `other`). La variable `offensive` es **binaria e independiente** (NO/OFF). Aquí nos centramos en `emotion`; al final hay un _bonus_ opcional para `offensive`.\n"
   ]
  },
  {
   "cell_type": "markdown",
   "metadata": {},
   "source": [
    "## 0) Instalación de dependencias\n",
    "Ejecuta una vez. (Si usas GPU de Colab, el _runtime_ ya trae PyTorch)."
   ]
  },
  {
   "cell_type": "code",
   "execution_count": 1,
   "metadata": {},
   "outputs": [
    {
     "name": "stdout",
     "output_type": "stream",
     "text": [
      "zsh:1: command not found: pip\n",
      "zsh:1: command not found: pip\n"
     ]
    }
   ],
   "source": [
    "!pip -q install -U datasets transformers accelerate evaluate scikit-learn matplotlib numpy pandas torch torchvision torchaudio --extra-index-url https://download.pytorch.org/whl/cpu\n",
    "!pip -q install -U pysentimiento"
   ]
  },
  {
   "cell_type": "markdown",
   "metadata": {},
   "source": [
    "## 1) Configuración y carga del dataset\n",
    "- Usaremos el subset en **español** de EmoEvent desde 🤗 Datasets.\n",
    "- Si por alguna razón no carga, hay variables para leer los **splits** desde archivos locales (CSV)."
   ]
  },
  {
   "cell_type": "code",
   "execution_count": 2,
   "id": "fb9a20ed",
   "metadata": {},
   "outputs": [],
   "source": [
    "from datasets import load_dataset\n",
    "import pandas as pd, numpy as np, random, os, json\n",
    "import matplotlib.pyplot as plt\n",
    "import torch"
   ]
  },
  {
   "cell_type": "code",
   "execution_count": 3,
   "id": "8c6750f6",
   "metadata": {},
   "outputs": [],
   "source": [
    "SEED = 1337\n",
    "random.seed(SEED); np.random.seed(SEED)\n",
    "torch.manual_seed(SEED)\n",
    "if torch.cuda.is_available():\n",
    "    torch.cuda.manual_seed_all(SEED)"
   ]
  },
  {
   "cell_type": "code",
   "execution_count": 4,
   "id": "077760f3",
   "metadata": {},
   "outputs": [],
   "source": [
    "DATA_DIR = \"./dataset\"   \n",
    "def read_tsv(path):\n",
    "    encodings = [\"utf-8\", \"utf-8-sig\", \"latin-1\"]\n",
    "    last_err = None\n",
    "    for enc in encodings:\n",
    "        try:\n",
    "            return pd.read_csv(\n",
    "                path,\n",
    "                sep=\"\\t\",\n",
    "                encoding=enc,\n",
    "                dtype=str,             # evita que id/labels se casteen raro\n",
    "                keep_default_na=False, \n",
    "                on_bad_lines=\"skip\",   \n",
    "                engine=\"python\",      \n",
    "            )\n",
    "        except Exception as e:\n",
    "            last_err = e\n",
    "    raise RuntimeError(f\"No pude leer {path}: {last_err}\")"
   ]
  },
  {
   "cell_type": "code",
   "execution_count": 5,
   "id": "41380aa2",
   "metadata": {},
   "outputs": [
    {
     "name": "stdout",
     "output_type": "stream",
     "text": [
      "Clases detectadas: ['anger', 'disgust', 'fear', 'joy', 'others', 'sadness', 'surprise']\n"
     ]
    },
    {
     "data": {
      "text/html": [
       "<div>\n",
       "<style scoped>\n",
       "    .dataframe tbody tr th:only-of-type {\n",
       "        vertical-align: middle;\n",
       "    }\n",
       "\n",
       "    .dataframe tbody tr th {\n",
       "        vertical-align: top;\n",
       "    }\n",
       "\n",
       "    .dataframe thead th {\n",
       "        text-align: right;\n",
       "    }\n",
       "</style>\n",
       "<table border=\"1\" class=\"dataframe\">\n",
       "  <thead>\n",
       "    <tr style=\"text-align: right;\">\n",
       "      <th></th>\n",
       "      <th>id</th>\n",
       "      <th>event</th>\n",
       "      <th>tweet</th>\n",
       "      <th>offensive</th>\n",
       "      <th>emotion</th>\n",
       "      <th>split</th>\n",
       "    </tr>\n",
       "  </thead>\n",
       "  <tbody>\n",
       "    <tr>\n",
       "      <th>0</th>\n",
       "      <td>a0c1a858-a9b8-4cb1-8a81-1602736ff5b8</td>\n",
       "      <td>GameOfThrones</td>\n",
       "      <td>La Gran Guerra de #JuegoDeTronos nos ha dejado...</td>\n",
       "      <td>NO</td>\n",
       "      <td>others</td>\n",
       "      <td>train</td>\n",
       "    </tr>\n",
       "    <tr>\n",
       "      <th>1</th>\n",
       "      <td>9b272817-a231-4f68-bdf4-3350d4919330</td>\n",
       "      <td>Venezuela</td>\n",
       "      <td>El golpe de Estado en #Venezuela está más lejo...</td>\n",
       "      <td>NO</td>\n",
       "      <td>others</td>\n",
       "      <td>train</td>\n",
       "    </tr>\n",
       "    <tr>\n",
       "      <th>2</th>\n",
       "      <td>4bd5b1e5-4b74-440a-82f4-c2567a241011</td>\n",
       "      <td>NotreDame</td>\n",
       "      <td>No tengo una foto en la catedral de #NotreDame...</td>\n",
       "      <td>NO</td>\n",
       "      <td>sadness</td>\n",
       "      <td>train</td>\n",
       "    </tr>\n",
       "  </tbody>\n",
       "</table>\n",
       "</div>"
      ],
      "text/plain": [
       "                                     id          event  \\\n",
       "0  a0c1a858-a9b8-4cb1-8a81-1602736ff5b8  GameOfThrones   \n",
       "1  9b272817-a231-4f68-bdf4-3350d4919330      Venezuela   \n",
       "2  4bd5b1e5-4b74-440a-82f4-c2567a241011      NotreDame   \n",
       "\n",
       "                                               tweet offensive  emotion  split  \n",
       "0  La Gran Guerra de #JuegoDeTronos nos ha dejado...        NO   others  train  \n",
       "1  El golpe de Estado en #Venezuela está más lejo...        NO   others  train  \n",
       "2  No tengo una foto en la catedral de #NotreDame...        NO  sadness  train  "
      ]
     },
     "execution_count": 5,
     "metadata": {},
     "output_type": "execute_result"
    }
   ],
   "source": [
    "train_df = read_tsv(os.path.join(DATA_DIR, \"train.tsv\"))\n",
    "dev_df   = read_tsv(os.path.join(DATA_DIR, \"dev.tsv\"))\n",
    "test_df  = read_tsv(os.path.join(DATA_DIR, \"test.tsv\"))\n",
    "\n",
    "# Normaliza nombres/espacios\n",
    "for df in (train_df, dev_df, test_df):\n",
    "    df.columns = [c.strip() for c in df.columns]\n",
    "    if \"tweet\" in df.columns:\n",
    "        df[\"tweet\"] = df[\"tweet\"].astype(str).str.strip()\n",
    "    if \"emotion\" in df.columns:\n",
    "        df[\"emotion\"] = df[\"emotion\"].astype(str).str.strip()\n",
    "\n",
    "# Chequeo de columnas esperadas\n",
    "expected = {\"id\",\"event\",\"tweet\",\"offensive\",\"emotion\"}\n",
    "for name, df in [(\"train\", train_df), (\"dev\", dev_df), (\"test\", test_df)]:\n",
    "    missing = expected - set(df.columns)\n",
    "    if missing:\n",
    "        raise ValueError(f\"Faltan columnas {missing} en {name}. Presentes: {list(df.columns)}\")\n",
    "\n",
    "# Unificado y labels\n",
    "all_df = pd.concat(\n",
    "    [train_df.assign(split=\"train\"),\n",
    "     dev_df.assign(split=\"validation\"),\n",
    "     test_df.assign(split=\"test\")],\n",
    "    ignore_index=True\n",
    ")\n",
    "\n",
    "labels = sorted(all_df[\"emotion\"].unique().tolist())\n",
    "print(\"Clases detectadas:\", labels)\n",
    "all_df.head(3)\n"
   ]
  },
  {
   "cell_type": "markdown",
   "metadata": {},
   "source": [
    "### 1.1 Exploración rápida: distribución de clases y eventos"
   ]
  },
  {
   "cell_type": "code",
   "execution_count": 6,
   "metadata": {},
   "outputs": [
    {
     "data": {
      "image/png": "[encoded data removed]",
      "text/plain": [
       "<Figure size 600x400 with 1 Axes>"
      ]
     },
     "metadata": {},
     "output_type": "display_data"
    },
    {
     "data": {
      "image/png": "[encoded data removed]",
      "text/plain": [
       "<Figure size 600x400 with 1 Axes>"
      ]
     },
     "metadata": {},
     "output_type": "display_data"
    }
   ],
   "source": [
    "def barplot_counts(series, title):\n",
    "    counts = series.value_counts().sort_index()\n",
    "    plt.figure(figsize=(6,4))\n",
    "    counts.plot(kind='bar')\n",
    "    plt.title(title)\n",
    "    plt.xlabel('Categoría')\n",
    "    plt.ylabel('Frecuencia')\n",
    "    plt.tight_layout()\n",
    "    plt.show()\n",
    "\n",
    "barplot_counts(all_df['emotion'], 'Distribución de emociones (dataset completo)')\n",
    "barplot_counts(all_df['event'],   'Frecuencia de eventos (dataset completo)')"
   ]
  },
  {
   "cell_type": "code",
   "execution_count": 7,
   "id": "cbe39094",
   "metadata": {},
   "outputs": [
    {
     "data": {
      "text/html": [
       "<div>\n",
       "<style scoped>\n",
       "    .dataframe tbody tr th:only-of-type {\n",
       "        vertical-align: middle;\n",
       "    }\n",
       "\n",
       "    .dataframe tbody tr th {\n",
       "        vertical-align: top;\n",
       "    }\n",
       "\n",
       "    .dataframe thead th {\n",
       "        text-align: right;\n",
       "    }\n",
       "</style>\n",
       "<table border=\"1\" class=\"dataframe\">\n",
       "  <thead>\n",
       "    <tr style=\"text-align: right;\">\n",
       "      <th>emotion</th>\n",
       "      <th>anger</th>\n",
       "      <th>disgust</th>\n",
       "      <th>fear</th>\n",
       "      <th>joy</th>\n",
       "      <th>others</th>\n",
       "      <th>sadness</th>\n",
       "      <th>surprise</th>\n",
       "    </tr>\n",
       "    <tr>\n",
       "      <th>event</th>\n",
       "      <th></th>\n",
       "      <th></th>\n",
       "      <th></th>\n",
       "      <th></th>\n",
       "      <th></th>\n",
       "      <th></th>\n",
       "      <th></th>\n",
       "    </tr>\n",
       "  </thead>\n",
       "  <tbody>\n",
       "    <tr>\n",
       "      <th></th>\n",
       "      <td>0.07</td>\n",
       "      <td>0.00</td>\n",
       "      <td>0.00</td>\n",
       "      <td>0.20</td>\n",
       "      <td>0.60</td>\n",
       "      <td>0.13</td>\n",
       "      <td>0.00</td>\n",
       "    </tr>\n",
       "    <tr>\n",
       "      <th>ChampionsLeague</th>\n",
       "      <td>0.08</td>\n",
       "      <td>0.02</td>\n",
       "      <td>0.00</td>\n",
       "      <td>0.28</td>\n",
       "      <td>0.55</td>\n",
       "      <td>0.04</td>\n",
       "      <td>0.04</td>\n",
       "    </tr>\n",
       "    <tr>\n",
       "      <th>GameOfThrones</th>\n",
       "      <td>0.09</td>\n",
       "      <td>0.01</td>\n",
       "      <td>0.02</td>\n",
       "      <td>0.22</td>\n",
       "      <td>0.44</td>\n",
       "      <td>0.08</td>\n",
       "      <td>0.13</td>\n",
       "    </tr>\n",
       "    <tr>\n",
       "      <th>GretaThunberg</th>\n",
       "      <td>0.06</td>\n",
       "      <td>0.00</td>\n",
       "      <td>0.00</td>\n",
       "      <td>0.14</td>\n",
       "      <td>0.72</td>\n",
       "      <td>0.05</td>\n",
       "      <td>0.02</td>\n",
       "    </tr>\n",
       "    <tr>\n",
       "      <th>LaLiga</th>\n",
       "      <td>0.05</td>\n",
       "      <td>0.01</td>\n",
       "      <td>0.00</td>\n",
       "      <td>0.30</td>\n",
       "      <td>0.58</td>\n",
       "      <td>0.02</td>\n",
       "      <td>0.03</td>\n",
       "    </tr>\n",
       "    <tr>\n",
       "      <th>NotreDame</th>\n",
       "      <td>0.12</td>\n",
       "      <td>0.03</td>\n",
       "      <td>0.00</td>\n",
       "      <td>0.07</td>\n",
       "      <td>0.28</td>\n",
       "      <td>0.47</td>\n",
       "      <td>0.03</td>\n",
       "    </tr>\n",
       "    <tr>\n",
       "      <th>SpainElection</th>\n",
       "      <td>0.14</td>\n",
       "      <td>0.03</td>\n",
       "      <td>0.03</td>\n",
       "      <td>0.26</td>\n",
       "      <td>0.45</td>\n",
       "      <td>0.06</td>\n",
       "      <td>0.04</td>\n",
       "    </tr>\n",
       "    <tr>\n",
       "      <th>Venezuela</th>\n",
       "      <td>0.20</td>\n",
       "      <td>0.04</td>\n",
       "      <td>0.02</td>\n",
       "      <td>0.10</td>\n",
       "      <td>0.51</td>\n",
       "      <td>0.11</td>\n",
       "      <td>0.02</td>\n",
       "    </tr>\n",
       "    <tr>\n",
       "      <th>WorldBookDay</th>\n",
       "      <td>0.03</td>\n",
       "      <td>0.01</td>\n",
       "      <td>0.00</td>\n",
       "      <td>0.36</td>\n",
       "      <td>0.54</td>\n",
       "      <td>0.05</td>\n",
       "      <td>0.01</td>\n",
       "    </tr>\n",
       "  </tbody>\n",
       "</table>\n",
       "</div>"
      ],
      "text/plain": [
       "emotion          anger  disgust  fear   joy  others  sadness  surprise\n",
       "event                                                                 \n",
       "                  0.07     0.00  0.00  0.20    0.60     0.13      0.00\n",
       "ChampionsLeague   0.08     0.02  0.00  0.28    0.55     0.04      0.04\n",
       "GameOfThrones     0.09     0.01  0.02  0.22    0.44     0.08      0.13\n",
       "GretaThunberg     0.06     0.00  0.00  0.14    0.72     0.05      0.02\n",
       "LaLiga            0.05     0.01  0.00  0.30    0.58     0.02      0.03\n",
       "NotreDame         0.12     0.03  0.00  0.07    0.28     0.47      0.03\n",
       "SpainElection     0.14     0.03  0.03  0.26    0.45     0.06      0.04\n",
       "Venezuela         0.20     0.04  0.02  0.10    0.51     0.11      0.02\n",
       "WorldBookDay      0.03     0.01  0.00  0.36    0.54     0.05      0.01"
      ]
     },
     "execution_count": 7,
     "metadata": {},
     "output_type": "execute_result"
    }
   ],
   "source": [
    "event_emotion = pd.crosstab(all_df['event'], all_df['emotion'])\n",
    "\n",
    "event_emotion_norm = event_emotion.div(event_emotion.sum(axis=1), axis=0)\n",
    "event_emotion_norm.round(2)\n"
   ]
  },
  {
   "cell_type": "markdown",
   "id": "cf7470d2",
   "metadata": {},
   "source": [
    "### **Análisis exploratorio del dataset**\n",
    "\n",
    "#### **Distribución de emociones**\n",
    "- Segun la primera gráfica existe un **desbalance notorio de clases**:\n",
    "  - La categoría **`others`** concentra casi la mitad de los tuits (más de 4000).\n",
    "  - `joy` también tiene una presencia considerable (aprox 1800).\n",
    "  - `anger` y `sadness` aparecen con frecuencia media (aprox 800 cada una).\n",
    "  - `fear`, `disgust` y `surprise` son **muy minoritarias** (menos de 500 cada una).\n",
    "\n",
    "Esto no es bueno para el netrenamiento del modelo, ya que podría traducirse en modelos sesgados, pues tenderán a irse hacia `others` y `joy`. Por ello, es importante reportar métricas como **macro-F1** además de **accuracy**.\n",
    "\n",
    "#### **Distribución de eventos**\n",
    "- La mayoría de eventos tienen entre **600 y 1200 ejemplos**, lo que los hace relativamente balanceados.\n",
    "- Solo un evento aparece con muy pocos tuits (p. ej. *ChampionsLeague*), lo que podría dificultar la generalización.\n",
    "\n",
    "A simple vista se podría suponer un posible sesgo semántico por evento (por la tabla):  \n",
    "  - *NotreDame*: mayor proporción de `sadness`.  \n",
    "  - *GameOfThrones*: emociones más mezcladas (`surprise`, `anger`).  \n",
    "  - *GretaThunberg*: emociones ligadas a `anger` o `fear`.\n",
    "\n",
    "#### **Implicancias a tener en cuenta**\n",
    "-  Se necesitará manejar **clases desbalanceadas**:\n",
    "  - En SVM: `class_weight=\"balanced\"`.\n",
    "  - En Transformers (BETO): evaluar con macro-F1, considerar *oversampling* para n ignorarlos casos minotarios.\n",
    "- Probablemente existirá **confusiones frecuentes** entre:\n",
    "  - `anger` ↔ `disgust` (emociones cercanas con pocos ejemplos).\n",
    "  - `surprise` ↔ `others` (dificultad de separar expresiones ambiguas).\n",
    "- El análisis por evento es clave para entender dónde los modelos fallan o sobresalen."
   ]
  },
  {
   "cell_type": "markdown",
   "metadata": {},
   "source": [
    "## 2) **Modelo #1: TF‑IDF + Linear SVM** (baseline)\n",
    "- n‑gramas de **palabras** (1–2) y **caracteres** (3–5)\n",
    "\n",
    "    - Se escogió unigrama, ya que estos capturan palabras individuales con carga emocional (odio, feliz, triste, asco).\n",
    "    - Los bigramas permitirán representar 'expresiones compuestas' que pueden cambiar el significado (tales com muy feliz, qué asco, muy feo, ... 'muy' no siempre va a acompañado a de algo bueno).\n",
    "    - Los n-gramas de caracteres son bastante útiles en el contexto de Twitter, ya que se puede detectar los siguientes patrones; feliiiiiz, triiiiste, o hashtags y emoticonos.\n",
    "    - Capturan raíces y sufijos comunes sin ser demasiado genéricos (bigramas de caracteres) ni demasiado específicos.\n",
    "\n",
    "- `class_weight='balanced'` por distribución desigual. Como se mencionó, el  dataset es altamente desbalanceado (la clase `others` concentra casi la mitad de los ejemplos). Esta opción ajusta los pesos de cada clase según su frecuencia, penalizando más los errores en clases minoritarias. Tratará de evitar que el modelo se sesgue a predecir siempre la clase mayoritaria.\n",
    "\n",
    "- Reporte: Se usarán las siguientes métricas\n",
    "\n",
    "  - *Accuracy*: indicador general, aunque sensible al desbalance.\n",
    "  - *Macro-F1*: da igual peso a cada clase, evalúa desempeño equilibrado.\n",
    "  - *Weighted-F1*: promedio ponderado, refleja desempeño global teniendo en cuenta el tamaño de las clases.\n",
    "  - *Matriz de confusión*: revela confusiones frecuentes (ej. `anger` y `disgust`).\n",
    "  - *Macro-F1 por evento*: analiza el rendimiento contextualizado en cada evento, relevante dado que las emociones pueden variar según el tema.\n"
   ]
  },
  {
   "cell_type": "code",
   "execution_count": 8,
   "metadata": {},
   "outputs": [
    {
     "name": "stdout",
     "output_type": "stream",
     "text": [
      "VALIDACIÓN (SVM) — accuracy: 0.6409952606635071\n",
      "VALIDACIÓN (SVM) — macro F1: 0.49467416940855025\n",
      "VALIDACIÓN (SVM) — weighted F1: 0.6343896967420706\n",
      "              precision    recall  f1-score   support\n",
      "\n",
      "       anger     0.5476    0.5412    0.5444        85\n",
      "     disgust     0.6667    0.1250    0.2105        16\n",
      "        fear     0.6667    0.4444    0.5333         9\n",
      "         joy     0.5526    0.5801    0.5660       181\n",
      "      others     0.7133    0.7391    0.7260       414\n",
      "     sadness     0.6729    0.6923    0.6825       104\n",
      "    surprise     0.2400    0.1714    0.2000        35\n",
      "\n",
      "    accuracy                         0.6410       844\n",
      "   macro avg     0.5800    0.4705    0.4947       844\n",
      "weighted avg     0.6362    0.6410    0.6344       844\n",
      "\n",
      "TEST (SVM) — accuracy: 0.3641304347826087\n",
      "TEST (SVM) — macro F1: 0.157930415586562\n",
      "TEST (SVM) — weighted F1: 0.34883498240485605\n",
      "              precision    recall  f1-score   support\n",
      "\n",
      "       anger     0.1195    0.1131    0.1162       168\n",
      "     disgust     0.1429    0.0303    0.0500        33\n",
      "        fear     0.0000    0.0000    0.0000        21\n",
      "         joy     0.2614    0.2429    0.2518       354\n",
      "      others     0.5081    0.5799    0.5416       814\n",
      "     sadness     0.1333    0.1206    0.1266       199\n",
      "    surprise     0.0270    0.0149    0.0192        67\n",
      "\n",
      "    accuracy                         0.3641      1656\n",
      "   macro avg     0.1703    0.1574    0.1579      1656\n",
      "weighted avg     0.3377    0.3641    0.3488      1656\n",
      "\n"
     ]
    }
   ],
   "source": [
    "from sklearn.feature_extraction.text import TfidfVectorizer\n",
    "from sklearn.svm import LinearSVC\n",
    "from sklearn.metrics import classification_report, confusion_matrix, f1_score, accuracy_score\n",
    "from scipy.sparse import hstack\n",
    "\n",
    "X_train = train_df['tweet'].tolist(); y_train = train_df['emotion'].tolist()\n",
    "X_dev   = dev_df['tweet'].tolist();   y_val   = dev_df['emotion'].tolist()\n",
    "X_test  = test_df['tweet'].tolist();  y_test  = test_df['emotion'].tolist()\n",
    "\n",
    "tfidf_word = TfidfVectorizer(ngram_range=(1,2), min_df=2)\n",
    "tfidf_char = TfidfVectorizer(analyzer='char', ngram_range=(3,5), min_df=2)\n",
    "\n",
    "Xtr = hstack([tfidf_word.fit_transform(X_train), tfidf_char.fit_transform(X_train)])\n",
    "Xva = hstack([tfidf_word.transform(X_dev),     tfidf_char.transform(X_dev)])\n",
    "Xte = hstack([tfidf_word.transform(X_test),    tfidf_char.transform(X_test)])\n",
    "\n",
    "svm = LinearSVC(class_weight='balanced', random_state=SEED)\n",
    "svm.fit(Xtr, y_train)\n",
    "pred_val = svm.predict(Xva)\n",
    "pred_te  = svm.predict(Xte)\n",
    "\n",
    "def report_and_confusion(y_true, y_pred, title_prefix):\n",
    "    print(f\"{title_prefix} — accuracy:\", accuracy_score(y_true, y_pred))\n",
    "    print(f\"{title_prefix} — macro F1:\", f1_score(y_true, y_pred, average='macro'))\n",
    "    print(f\"{title_prefix} — weighted F1:\", f1_score(y_true, y_pred, average='weighted'))\n",
    "    print(classification_report(y_true, y_pred, labels=labels, digits=4))\n",
    "    cm = confusion_matrix(y_true, y_pred, labels=labels)\n",
    "    return cm\n",
    "\n",
    "cm_val = report_and_confusion(y_val, pred_val, \"VALIDACIÓN (SVM)\")\n",
    "cm_te  = report_and_confusion(y_test, pred_te,  \"TEST (SVM)\")"
   ]
  },
  {
   "cell_type": "markdown",
   "id": "e9ce9883",
   "metadata": {},
   "source": [
    "#### **1. Resultados en validación**\n",
    "- **Accuracy = 0.64**, **macro-F1 = 0.49**, **weighted-F1 = 0.63**, el modelo logra un desempeño razonable en validación.\n",
    "- Buen desempeño relativo en clases frecuentes (`others`, `joy`, `sadness`) con F1 ≈ 0.55–0.72.\n",
    "- Como era de esperarse, las clases minoritarias muestran problemas serios:\n",
    "  - `disgust`: F1 muy bajo (0.21) por pobre recall.\n",
    "  - `fear` y `surprise`: valores bajos y muy inestables por escasez de ejemplos.\n",
    "- En general, se puede decir que el modelo **aprende patrones generales**, pero depende en gran medida del desbalance.\n",
    "\n",
    "#### **2. Resultados en test**\n",
    "- **Accuracy cae a 0.36** y **macro-F1 a 0.15** → fuerte **sobreajuste** o incapacidad de generalizar a test.\n",
    "- Las clases minoritarias (`fear`, `disgust`, `surprise`) prácticamente no son reconocidas (F1 cercano a 0).\n",
    "- Incluso `anger` y `joy` bajan mucho en recall.\n",
    "- La generalización fuera del set de validación es muy pobre; el modelo se **colapsa hacia `others`**."
   ]
  },
  {
   "cell_type": "code",
   "execution_count": 9,
   "metadata": {},
   "outputs": [
    {
     "data": {
      "image/png": "[encoded data removed]",
      "text/plain": [
       "<Figure size 600x500 with 2 Axes>"
      ]
     },
     "metadata": {},
     "output_type": "display_data"
    }
   ],
   "source": [
    "import numpy as np\n",
    "def plot_confusion(cm, labels, title, savepath=None):\n",
    "    plt.figure(figsize=(6,5))\n",
    "    plt.imshow(cm, interpolation='nearest')\n",
    "    plt.title(title)\n",
    "    plt.colorbar()\n",
    "    ticks = np.arange(len(labels))\n",
    "    plt.xticks(ticks, labels, rotation=45, ha='right')\n",
    "    plt.yticks(ticks, labels)\n",
    "    plt.tight_layout()\n",
    "    plt.ylabel('Real')\n",
    "    plt.xlabel('Predicha')\n",
    "    if savepath:\n",
    "        plt.savefig(savepath, bbox_inches='tight', dpi=160)\n",
    "    plt.show()\n",
    "\n",
    "plot_confusion(cm_te, labels, 'Matriz de confusión — TEST (SVM)', savepath='confusion_svm_test.png')"
   ]
  },
  {
   "cell_type": "markdown",
   "id": "63d7cf71",
   "metadata": {},
   "source": [
    "#### **3. Matriz de confusión (TEST)**\n",
    "- El bloque más denso está en la clase **`others`**, confirmando que la mayoría de predicciones son absorbidas allí.\n",
    "- Muchas emociones reales (`anger`, `joy`, `sadness`) se confunden con `others`.\n",
    "- Muy pocas predicciones correctas en clases minoritarias.\n",
    "- Evidentemente se confirma el sesgo del clasificador hacia la clase mayoritaria (others)."
   ]
  },
  {
   "cell_type": "code",
   "execution_count": 10,
   "metadata": {},
   "outputs": [
    {
     "data": {
      "text/html": [
       "<div>\n",
       "<style scoped>\n",
       "    .dataframe tbody tr th:only-of-type {\n",
       "        vertical-align: middle;\n",
       "    }\n",
       "\n",
       "    .dataframe tbody tr th {\n",
       "        vertical-align: top;\n",
       "    }\n",
       "\n",
       "    .dataframe thead th {\n",
       "        text-align: right;\n",
       "    }\n",
       "</style>\n",
       "<table border=\"1\" class=\"dataframe\">\n",
       "  <thead>\n",
       "    <tr style=\"text-align: right;\">\n",
       "      <th></th>\n",
       "      <th>event</th>\n",
       "      <th>n</th>\n",
       "      <th>acc</th>\n",
       "      <th>macro_f1</th>\n",
       "    </tr>\n",
       "  </thead>\n",
       "  <tbody>\n",
       "    <tr>\n",
       "      <th>0</th>\n",
       "      <td></td>\n",
       "      <td>30</td>\n",
       "      <td>0.600000</td>\n",
       "      <td>0.187500</td>\n",
       "    </tr>\n",
       "    <tr>\n",
       "      <th>5</th>\n",
       "      <td>NotreDame</td>\n",
       "      <td>225</td>\n",
       "      <td>0.222222</td>\n",
       "      <td>0.161475</td>\n",
       "    </tr>\n",
       "    <tr>\n",
       "      <th>3</th>\n",
       "      <td>GretaThunberg</td>\n",
       "      <td>139</td>\n",
       "      <td>0.482014</td>\n",
       "      <td>0.158454</td>\n",
       "    </tr>\n",
       "    <tr>\n",
       "      <th>4</th>\n",
       "      <td>LaLiga</td>\n",
       "      <td>119</td>\n",
       "      <td>0.462185</td>\n",
       "      <td>0.148413</td>\n",
       "    </tr>\n",
       "    <tr>\n",
       "      <th>6</th>\n",
       "      <td>SpainElection</td>\n",
       "      <td>218</td>\n",
       "      <td>0.366972</td>\n",
       "      <td>0.145608</td>\n",
       "    </tr>\n",
       "    <tr>\n",
       "      <th>1</th>\n",
       "      <td>ChampionsLeague</td>\n",
       "      <td>232</td>\n",
       "      <td>0.392241</td>\n",
       "      <td>0.143133</td>\n",
       "    </tr>\n",
       "    <tr>\n",
       "      <th>2</th>\n",
       "      <td>GameOfThrones</td>\n",
       "      <td>219</td>\n",
       "      <td>0.315068</td>\n",
       "      <td>0.135354</td>\n",
       "    </tr>\n",
       "    <tr>\n",
       "      <th>7</th>\n",
       "      <td>Venezuela</td>\n",
       "      <td>234</td>\n",
       "      <td>0.367521</td>\n",
       "      <td>0.133275</td>\n",
       "    </tr>\n",
       "    <tr>\n",
       "      <th>8</th>\n",
       "      <td>WorldBookDay</td>\n",
       "      <td>240</td>\n",
       "      <td>0.362500</td>\n",
       "      <td>0.114186</td>\n",
       "    </tr>\n",
       "  </tbody>\n",
       "</table>\n",
       "</div>"
      ],
      "text/plain": [
       "             event    n       acc  macro_f1\n",
       "0                    30  0.600000  0.187500\n",
       "5        NotreDame  225  0.222222  0.161475\n",
       "3    GretaThunberg  139  0.482014  0.158454\n",
       "4           LaLiga  119  0.462185  0.148413\n",
       "6    SpainElection  218  0.366972  0.145608\n",
       "1  ChampionsLeague  232  0.392241  0.143133\n",
       "2    GameOfThrones  219  0.315068  0.135354\n",
       "7        Venezuela  234  0.367521  0.133275\n",
       "8     WorldBookDay  240  0.362500  0.114186"
      ]
     },
     "execution_count": 10,
     "metadata": {},
     "output_type": "execute_result"
    }
   ],
   "source": [
    "def per_event_macro_f1(df, preds, label_col='emotion', event_col='event'):\n",
    "    tmp = df[[event_col, label_col]].copy()\n",
    "    tmp['pred'] = preds\n",
    "    rows = []\n",
    "    for ev, grp in tmp.groupby(event_col):\n",
    "        y_true = grp[label_col].tolist(); y_pred = grp['pred'].tolist()\n",
    "        f1m = f1_score(y_true, y_pred, average='macro')\n",
    "        acc = accuracy_score(y_true, y_pred)\n",
    "        rows.append((ev, len(grp), acc, f1m))\n",
    "    out = pd.DataFrame(rows, columns=['event','n','acc','macro_f1']).sort_values('macro_f1', ascending=False)\n",
    "    return out\n",
    "\n",
    "per_event_svm = per_event_macro_f1(test_df, pred_te)\n",
    "per_event_svm.to_csv('per_event_svm.csv', index=False)\n",
    "per_event_svm.head(10)"
   ]
  },
  {
   "cell_type": "markdown",
   "id": "8492e42a",
   "metadata": {},
   "source": [
    "#### **4. Macro-F1 por evento**\n",
    "- Mejor desempeño en algunos eventos:\n",
    "  - *GretaThunberg* (macro-F1 ~0.16), *LaLiga* (~0.14) → ligeramente mejores que el promedio.\n",
    "  - Un evento pequeño de 30 tuits muestra valores altos pero no representativos.\n",
    "- Peor desempeño en *WorldBookDay* (~0.11) y *Venezuela* (~0.13).\n",
    "- *NotreDame*, a pesar de su tamaño, también obtiene macro-F1 muy bajo (~0.16).\n",
    "- El modelo **no logra capturar patrones específicos por evento**, y su rendimiento varía bastante según el tema.\n",
    "\n",
    "\n",
    "### **Conclusión del baseline SVM**\n",
    "- El **SVM con TF-IDF** funciona como punto de partida, pero:\n",
    "  - Se ve altamente afectado por el **desbalance**.\n",
    "  - Generaliza mal a test (mucha diferencia con validación).\n",
    "  - Las clases minoritarias son prácticamente ignoradas.\n",
    "\n",
    "Frente a esto es que se propondrá modelos más sofisticados (fine-tuning con BERT/BETO) para capturar mejor el contexto y mejorar el equilibrio entre clases.\n"
   ]
  },
  {
   "cell_type": "markdown",
   "metadata": {},
   "source": [
    "## 3) **Modelo #2: Fine‑tuning BETO (BERT español)**\n",
    "Entrenamos `dccuchile/bert-base-spanish-wwm-cased` usando 🤗 `Trainer`."
   ]
  },
  {
   "cell_type": "code",
   "execution_count": null,
   "id": "151b5015",
   "metadata": {},
   "outputs": [],
   "source": [
    "import evaluate\n",
    "import numpy as np\n",
    "from datasets import Dataset, DatasetDict\n",
    "from transformers import (\n",
    "    AutoTokenizer, AutoModelForSequenceClassification,\n",
    "    DataCollatorWithPadding, TrainingArguments, Trainer\n",
    ")\n",
    "from transformers.trainer_utils import IntervalStrategy\n",
    "import pandas as pd\n",
    "\n"
   ]
  },
  {
   "cell_type": "code",
   "execution_count": null,
   "id": "4b2879e7",
   "metadata": {},
   "outputs": [
    {
     "data": {
      "application/vnd.jupyter.widget-view+json": {
       "model_id": "2ee2a8f816cd48e29c31f9010fccef5b",
       "version_major": 2,
       "version_minor": 0
      },
      "text/plain": [
       "Map:   0%|          | 0/5723 [00:00<?, ? examples/s]"
      ]
     },
     "metadata": {},
     "output_type": "display_data"
    },
    {
     "data": {
      "application/vnd.jupyter.widget-view+json": {
       "model_id": "b07f6ea34c4b4d9083f50390c35ce7ae",
       "version_major": 2,
       "version_minor": 0
      },
      "text/plain": [
       "Map:   0%|          | 0/844 [00:00<?, ? examples/s]"
      ]
     },
     "metadata": {},
     "output_type": "display_data"
    },
    {
     "data": {
      "application/vnd.jupyter.widget-view+json": {
       "model_id": "67c9e3b43f3d44099a9d69c10d13cce2",
       "version_major": 2,
       "version_minor": 0
      },
      "text/plain": [
       "Map:   0%|          | 0/1656 [00:00<?, ? examples/s]"
      ]
     },
     "metadata": {},
     "output_type": "display_data"
    },
    {
     "data": {
      "application/vnd.jupyter.widget-view+json": {
       "model_id": "cf21a5d18f6949eba79dc0f8d7290a00",
       "version_major": 2,
       "version_minor": 0
      },
      "text/plain": [
       "Map:   0%|          | 0/5723 [00:00<?, ? examples/s]"
      ]
     },
     "metadata": {},
     "output_type": "display_data"
    },
    {
     "data": {
      "application/vnd.jupyter.widget-view+json": {
       "model_id": "b5adf41cae1843869b41e0c1a16ca341",
       "version_major": 2,
       "version_minor": 0
      },
      "text/plain": [
       "Map:   0%|          | 0/844 [00:00<?, ? examples/s]"
      ]
     },
     "metadata": {},
     "output_type": "display_data"
    },
    {
     "data": {
      "application/vnd.jupyter.widget-view+json": {
       "model_id": "a615cb9e674042e79a4074eef5fadbbe",
       "version_major": 2,
       "version_minor": 0
      },
      "text/plain": [
       "Map:   0%|          | 0/1656 [00:00<?, ? examples/s]"
      ]
     },
     "metadata": {},
     "output_type": "display_data"
    },
    {
     "name": "stdout",
     "output_type": "stream",
     "text": [
      "Dataset({\n",
      "    features: ['labels', 'input_ids', 'token_type_ids', 'attention_mask'],\n",
      "    num_rows: 5723\n",
      "})\n",
      "Cols train: ['labels', 'input_ids', 'token_type_ids', 'attention_mask']\n",
      "Ejemplo labels dtype: torch.int64\n"
     ]
    }
   ],
   "source": [
    "hfds = DatasetDict({\n",
    "    \"train\": Dataset.from_pandas(train_df, preserve_index=False),\n",
    "    \"validation\": Dataset.from_pandas(dev_df,   preserve_index=False),\n",
    "    \"test\": Dataset.from_pandas(test_df,        preserve_index=False),\n",
    "})\n",
    "\n",
    "labels = sorted(pd.concat([train_df[\"emotion\"], dev_df[\"emotion\"], test_df[\"emotion\"]]).unique().tolist())\n",
    "label2id = {l:i for i,l in enumerate(labels)}\n",
    "id2label = {i:l for l,i in label2id.items()}\n",
    "\n",
    "def add_labels(batch):\n",
    "    return {\"labels\": [int(label2id[e]) for e in batch[\"emotion\"]]}\n",
    "\n",
    "hfds = hfds.map(add_labels, batched=True)\n",
    "\n",
    "checkpoint = \"dccuchile/bert-base-spanish-wwm-cased\"\n",
    "tokenizer = AutoTokenizer.from_pretrained(checkpoint)\n",
    "\n",
    "def tokenize_fn(batch):\n",
    "    return tokenizer(batch[\"tweet\"], truncation=True)\n",
    "\n",
    "tok_ds = hfds.map(tokenize_fn, batched=True)\n",
    "\n",
    "# cleaning\n",
    "cols_to_keep = [\"input_ids\", \"attention_mask\", \"labels\"]\n",
    "if \"token_type_ids\" in tok_ds[\"train\"].column_names:\n",
    "    cols_to_keep.append(\"token_type_ids\")\n",
    "\n",
    "tok_ds = tok_ds.remove_columns([c for c in tok_ds[\"train\"].column_names if c not in cols_to_keep])\n",
    "\n",
    "tok_ds = tok_ds.with_format(\"torch\")\n",
    "\n",
    "print(tok_ds[\"train\"])\n",
    "print(\"Cols train:\", tok_ds[\"train\"].column_names)\n",
    "print(\"Ejemplo labels dtype:\", tok_ds[\"train\"][0][\"labels\"].dtype)\n"
   ]
  },
  {
   "cell_type": "code",
   "execution_count": 12,
   "id": "7098569a",
   "metadata": {},
   "outputs": [
    {
     "data": {
      "application/vnd.jupyter.widget-view+json": {
       "model_id": "a03528f0c4814d3e86d06c68d1fd9f21",
       "version_major": 2,
       "version_minor": 0
      },
      "text/plain": [
       "Map:   0%|          | 0/5723 [00:00<?, ? examples/s]"
      ]
     },
     "metadata": {},
     "output_type": "display_data"
    },
    {
     "data": {
      "application/vnd.jupyter.widget-view+json": {
       "model_id": "241f8d629ff34aceab21414b1b372f94",
       "version_major": 2,
       "version_minor": 0
      },
      "text/plain": [
       "Map:   0%|          | 0/844 [00:00<?, ? examples/s]"
      ]
     },
     "metadata": {},
     "output_type": "display_data"
    },
    {
     "data": {
      "application/vnd.jupyter.widget-view+json": {
       "model_id": "894e9b19e2754aa4aa5af9fd881d833f",
       "version_major": 2,
       "version_minor": 0
      },
      "text/plain": [
       "Map:   0%|          | 0/1656 [00:00<?, ? examples/s]"
      ]
     },
     "metadata": {},
     "output_type": "display_data"
    },
    {
     "name": "stderr",
     "output_type": "stream",
     "text": [
      "Some weights of BertForSequenceClassification were not initialized from the model checkpoint at dccuchile/bert-base-spanish-wwm-cased and are newly initialized: ['bert.pooler.dense.bias', 'bert.pooler.dense.weight', 'classifier.bias', 'classifier.weight']\n",
      "You should probably TRAIN this model on a down-stream task to be able to use it for predictions and inference.\n"
     ]
    }
   ],
   "source": [
    "checkpoint = \"dccuchile/bert-base-spanish-wwm-cased\"\n",
    "tokenizer = AutoTokenizer.from_pretrained(checkpoint)\n",
    "\n",
    "label2id = {l:i for i,l in enumerate(labels)}\n",
    "id2label = {i:l for l,i in label2id.items()}\n",
    "\n",
    "def tokenize_fn(batch):\n",
    "    return tokenizer(batch['tweet'], truncation=True)\n",
    "\n",
    "tok_ds = hfds.map(tokenize_fn, batched=True)\n",
    "\n",
    "num_labels = len(labels)\n",
    "model = AutoModelForSequenceClassification.from_pretrained(\n",
    "    checkpoint,\n",
    "    num_labels=num_labels,\n",
    "    id2label=id2label,\n",
    "    label2id=label2id,\n",
    ")\n",
    "\n",
    "data_collator = DataCollatorWithPadding(tokenizer=tokenizer)\n",
    "metric_acc = evaluate.load('accuracy')\n",
    "metric_f1  = evaluate.load('f1')"
   ]
  },
  {
   "cell_type": "code",
   "execution_count": null,
   "metadata": {},
   "outputs": [
    {
     "name": "stderr",
     "output_type": "stream",
     "text": [
      "/var/folders/76/ws8z3mnx1634t9z0jpzfq6k00000gn/T/ipykernel_56147/3452149263.py:26: FutureWarning: `tokenizer` is deprecated and will be removed in version 5.0.0 for `Trainer.__init__`. Use `processing_class` instead.\n",
      "  trainer = Trainer(\n"
     ]
    }
   ],
   "source": [
    "def compute_metrics(eval_pred):\n",
    "    logits, labels_ids = eval_pred\n",
    "    preds = logits.argmax(axis=-1)\n",
    "    acc = metric_acc.compute(predictions=preds, references=labels_ids)['accuracy']\n",
    "    f1m = metric_f1.compute(predictions=preds, references=labels_ids, average='macro')['f1']\n",
    "    f1w = metric_f1.compute(predictions=preds, references=labels_ids, average='weighted')['f1']\n",
    "    return {'accuracy': acc, 'macro_f1': f1m, 'weighted_f1': f1w}\n",
    "\n",
    "args = TrainingArguments(\n",
    "    output_dir=\"beto-emoevent\",\n",
    "    per_device_train_batch_size=16,\n",
    "    per_device_eval_batch_size=32,\n",
    "    learning_rate=2e-5,\n",
    "    num_train_epochs=3,\n",
    "    eval_strategy=IntervalStrategy.EPOCH,    \n",
    "    save_strategy=IntervalStrategy.EPOCH,     \n",
    "    load_best_model_at_end=True,\n",
    "    metric_for_best_model=\"macro_f1\",\n",
    "    greater_is_better=True,\n",
    "    logging_steps=50,\n",
    "    seed=SEED,\n",
    "    report_to=[],     \n",
    "    use_mps_device=True\n",
    ")\n",
    "trainer = Trainer(\n",
    "    model=model,\n",
    "    args=args,\n",
    "    train_dataset=tok_ds['train'],\n",
    "    eval_dataset=tok_ds['validation'],\n",
    "    tokenizer=tokenizer,\n",
    "    data_collator=data_collator,\n",
    "    compute_metrics=compute_metrics,\n",
    ")\n",
    "\n"
   ]
  },
  {
   "cell_type": "code",
   "execution_count": 21,
   "id": "e03d3259",
   "metadata": {},
   "outputs": [
    {
     "data": {
      "text/html": [
       "\n",
       "    <div>\n",
       "      \n",
       "      <progress value='1074' max='1074' style='width:300px; height:20px; vertical-align: middle;'></progress>\n",
       "      [1074/1074 15:11, Epoch 3/3]\n",
       "    </div>\n",
       "    <table border=\"1\" class=\"dataframe\">\n",
       "  <thead>\n",
       " <tr style=\"text-align: left;\">\n",
       "      <th>Epoch</th>\n",
       "      <th>Training Loss</th>\n",
       "      <th>Validation Loss</th>\n",
       "      <th>Accuracy</th>\n",
       "      <th>Macro F1</th>\n",
       "      <th>Weighted F1</th>\n",
       "    </tr>\n",
       "  </thead>\n",
       "  <tbody>\n",
       "    <tr>\n",
       "      <td>1</td>\n",
       "      <td>0.837700</td>\n",
       "      <td>0.849257</td>\n",
       "      <td>0.690758</td>\n",
       "      <td>0.440147</td>\n",
       "      <td>0.672497</td>\n",
       "    </tr>\n",
       "    <tr>\n",
       "      <td>2</td>\n",
       "      <td>0.587300</td>\n",
       "      <td>0.809292</td>\n",
       "      <td>0.725118</td>\n",
       "      <td>0.542607</td>\n",
       "      <td>0.707236</td>\n",
       "    </tr>\n",
       "    <tr>\n",
       "      <td>3</td>\n",
       "      <td>0.423400</td>\n",
       "      <td>0.855557</td>\n",
       "      <td>0.720379</td>\n",
       "      <td>0.567375</td>\n",
       "      <td>0.708998</td>\n",
       "    </tr>\n",
       "  </tbody>\n",
       "</table><p>"
      ],
      "text/plain": [
       "<IPython.core.display.HTML object>"
      ]
     },
     "metadata": {},
     "output_type": "display_data"
    },
    {
     "name": "stderr",
     "output_type": "stream",
     "text": [
      "/Users/nayeli/Library/Python/3.13/lib/python/site-packages/torch/utils/data/dataloader.py:684: UserWarning: 'pin_memory' argument is set as true but not supported on MPS now, then device pinned memory won't be used.\n",
      "  warnings.warn(warn_msg)\n",
      "/Users/nayeli/Library/Python/3.13/lib/python/site-packages/torch/utils/data/dataloader.py:684: UserWarning: 'pin_memory' argument is set as true but not supported on MPS now, then device pinned memory won't be used.\n",
      "  warnings.warn(warn_msg)\n",
      "/Users/nayeli/Library/Python/3.13/lib/python/site-packages/torch/utils/data/dataloader.py:684: UserWarning: 'pin_memory' argument is set as true but not supported on MPS now, then device pinned memory won't be used.\n",
      "  warnings.warn(warn_msg)\n"
     ]
    },
    {
     "data": {
      "text/html": [],
      "text/plain": [
       "<IPython.core.display.HTML object>"
      ]
     },
     "metadata": {},
     "output_type": "display_data"
    }
   ],
   "source": [
    "train_result = trainer.train()\n",
    "preds_test_logits = trainer.predict(tok_ds['test']).predictions\n",
    "preds_test = preds_test_logits.argmax(axis=-1)\n",
    "true_test  = [label2id[l] for l in test_df['emotion'].tolist()]\n",
    "\n"
   ]
  },
  {
   "cell_type": "code",
   "execution_count": 22,
   "id": "fd97d276",
   "metadata": {},
   "outputs": [
    {
     "name": "stderr",
     "output_type": "stream",
     "text": [
      "/opt/homebrew/lib/python3.13/site-packages/sklearn/metrics/_classification.py:1731: UndefinedMetricWarning: Precision is ill-defined and being set to 0.0 in labels with no predicted samples. Use `zero_division` parameter to control this behavior.\n",
      "  _warn_prf(average, modifier, f\"{metric.capitalize()} is\", result.shape[0])\n",
      "/opt/homebrew/lib/python3.13/site-packages/sklearn/metrics/_classification.py:1731: UndefinedMetricWarning: Precision is ill-defined and being set to 0.0 in labels with no predicted samples. Use `zero_division` parameter to control this behavior.\n",
      "  _warn_prf(average, modifier, f\"{metric.capitalize()} is\", result.shape[0])\n",
      "/opt/homebrew/lib/python3.13/site-packages/sklearn/metrics/_classification.py:1731: UndefinedMetricWarning: Precision is ill-defined and being set to 0.0 in labels with no predicted samples. Use `zero_division` parameter to control this behavior.\n",
      "  _warn_prf(average, modifier, f\"{metric.capitalize()} is\", result.shape[0])\n"
     ]
    },
    {
     "name": "stdout",
     "output_type": "stream",
     "text": [
      "              precision    recall  f1-score   support\n",
      "\n",
      "       anger     0.1571    0.1786    0.1671       168\n",
      "     disgust     0.0000    0.0000    0.0000        33\n",
      "        fear     0.0000    0.0000    0.0000        21\n",
      "         joy     0.2393    0.2373    0.2383       354\n",
      "      others     0.5104    0.5442    0.5268       814\n",
      "     sadness     0.1443    0.1457    0.1450       199\n",
      "    surprise     0.0357    0.0149    0.0211        67\n",
      "\n",
      "    accuracy                         0.3545      1656\n",
      "   macro avg     0.1552    0.1601    0.1569      1656\n",
      "weighted avg     0.3367    0.3545    0.3451      1656\n",
      "\n"
     ]
    },
    {
     "data": {
      "image/png": "[encoded data removed]",
      "text/plain": [
       "<Figure size 600x500 with 2 Axes>"
      ]
     },
     "metadata": {},
     "output_type": "display_data"
    },
    {
     "data": {
      "text/html": [
       "<div>\n",
       "<style scoped>\n",
       "    .dataframe tbody tr th:only-of-type {\n",
       "        vertical-align: middle;\n",
       "    }\n",
       "\n",
       "    .dataframe tbody tr th {\n",
       "        vertical-align: top;\n",
       "    }\n",
       "\n",
       "    .dataframe thead th {\n",
       "        text-align: right;\n",
       "    }\n",
       "</style>\n",
       "<table border=\"1\" class=\"dataframe\">\n",
       "  <thead>\n",
       "    <tr style=\"text-align: right;\">\n",
       "      <th></th>\n",
       "      <th>event</th>\n",
       "      <th>n</th>\n",
       "      <th>acc</th>\n",
       "      <th>macro_f1</th>\n",
       "    </tr>\n",
       "  </thead>\n",
       "  <tbody>\n",
       "    <tr>\n",
       "      <th>0</th>\n",
       "      <td></td>\n",
       "      <td>30</td>\n",
       "      <td>0.600000</td>\n",
       "      <td>0.187500</td>\n",
       "    </tr>\n",
       "    <tr>\n",
       "      <th>6</th>\n",
       "      <td>SpainElection</td>\n",
       "      <td>218</td>\n",
       "      <td>0.366972</td>\n",
       "      <td>0.163589</td>\n",
       "    </tr>\n",
       "    <tr>\n",
       "      <th>7</th>\n",
       "      <td>Venezuela</td>\n",
       "      <td>234</td>\n",
       "      <td>0.371795</td>\n",
       "      <td>0.157347</td>\n",
       "    </tr>\n",
       "    <tr>\n",
       "      <th>3</th>\n",
       "      <td>GretaThunberg</td>\n",
       "      <td>139</td>\n",
       "      <td>0.446043</td>\n",
       "      <td>0.153877</td>\n",
       "    </tr>\n",
       "    <tr>\n",
       "      <th>2</th>\n",
       "      <td>GameOfThrones</td>\n",
       "      <td>219</td>\n",
       "      <td>0.315068</td>\n",
       "      <td>0.149986</td>\n",
       "    </tr>\n",
       "    <tr>\n",
       "      <th>4</th>\n",
       "      <td>LaLiga</td>\n",
       "      <td>119</td>\n",
       "      <td>0.428571</td>\n",
       "      <td>0.146507</td>\n",
       "    </tr>\n",
       "    <tr>\n",
       "      <th>1</th>\n",
       "      <td>ChampionsLeague</td>\n",
       "      <td>232</td>\n",
       "      <td>0.366379</td>\n",
       "      <td>0.139020</td>\n",
       "    </tr>\n",
       "    <tr>\n",
       "      <th>8</th>\n",
       "      <td>WorldBookDay</td>\n",
       "      <td>240</td>\n",
       "      <td>0.354167</td>\n",
       "      <td>0.120955</td>\n",
       "    </tr>\n",
       "    <tr>\n",
       "      <th>5</th>\n",
       "      <td>NotreDame</td>\n",
       "      <td>225</td>\n",
       "      <td>0.222222</td>\n",
       "      <td>0.111608</td>\n",
       "    </tr>\n",
       "  </tbody>\n",
       "</table>\n",
       "</div>"
      ],
      "text/plain": [
       "             event    n       acc  macro_f1\n",
       "0                    30  0.600000  0.187500\n",
       "6    SpainElection  218  0.366972  0.163589\n",
       "7        Venezuela  234  0.371795  0.157347\n",
       "3    GretaThunberg  139  0.446043  0.153877\n",
       "2    GameOfThrones  219  0.315068  0.149986\n",
       "4           LaLiga  119  0.428571  0.146507\n",
       "1  ChampionsLeague  232  0.366379  0.139020\n",
       "8     WorldBookDay  240  0.354167  0.120955\n",
       "5        NotreDame  225  0.222222  0.111608"
      ]
     },
     "execution_count": 22,
     "metadata": {},
     "output_type": "execute_result"
    }
   ],
   "source": [
    "from sklearn.metrics import classification_report, confusion_matrix\n",
    "print(classification_report(true_test, preds_test, target_names=labels, digits=4))\n",
    "cm_beto = confusion_matrix(true_test, preds_test)\n",
    "plot_confusion(cm_beto, labels, 'Matriz de confusión — TEST (BETO)', savepath='confusion_beto_test.png')\n",
    "\n",
    "# Per-event\n",
    "preds_labels = [id2label[i] for i in preds_test]\n",
    "per_event_beto = per_event_macro_f1(test_df, preds_labels)\n",
    "per_event_beto.to_csv('per_event_beto.csv', index=False)\n",
    "per_event_beto.head(10)"
   ]
  },
  {
   "cell_type": "markdown",
   "id": "2570109e",
   "metadata": {},
   "source": [
    "### **Resultados BETO (fine-tuning)**\n",
    "\n",
    "#### **Métricas globales**\n",
    "- **Accuracy = 0.35**, similar al baseline SVM.\n",
    "- **Macro-F1 = 0.16**, muy bajo, significa que el modelo no logra equilibrar bien entre clases.\n",
    "- **Weighted-F1 = 0.34**, también bajo, refleja el sesgo hacia las clases grandes.\n",
    "\n",
    "#### **Por clase**\n",
    "- **others** domina el rendimiento (F1 ≈ 0.53), el modelo continua apoyandose en la clase mayoritaria.\n",
    "- `joy` logra un F1 ≈ 0.24, aceptable dentro del bajo desempeño general.\n",
    "- `anger` y `sadness` apenas superan F1 ≈ 0.15–0.17.\n",
    "- Clases **minoritarias** (`disgust`, `fear`, `surprise`) son prácticamente ignoradas (F1 ≈ 0.0–0.02).\n",
    "- BETO no está capturando señales claras de las emociones menos frecuentes.\n",
    "\n",
    "#### **Matriz de confusión**\n",
    "- La mayoría de los casos reales de cualquier emoción terminan predichos como **others**.\n",
    "- Algunas instancias de `joy`, `anger` y `sadness` se predicen correctamente, pero con baja consistencia.\n",
    "- El patrón confirma un **colapso hacia la clase mayoritaria**, con poca diferenciación entre emociones.\n",
    "\n",
    "#### **Comparación con el baseline SVM**\n",
    "- Aunque se esperaba que BETO captara mejor el contexto semántico, los resultados son **similares o peores** que el SVM en macro-F1.\n",
    "- Esto puede deberse a:\n",
    "  - **Desbalance extremo** del dataset.\n",
    "  - **Pocas épocas de entrenamiento** (3 es bajo para un fine-tuning real, por limitaciones de hardware solo se usaron 3 épocas, ya que demoró bastante tan solo con 3 épocas).\n",
    "  - **Batch size pequeño** por limitaciones de memoria.\n",
    "  - Posible necesidad de **estrategias de reequilibrio** (ponderación de clases, oversampling, focal loss).\n",
    "\n",
    "\n",
    "### **Conclusión parcial**\n",
    "- BETO, sin técnicas adicionales de balanceo ni hiperajuste más fino, no mejora sobre el baseline.\n",
    "- Refuerza la importancia de experimentar con:\n",
    "  - Más épocas o *early stopping* con paciencia.\n",
    "  - Ajustar *learning rate*.\n",
    "  - Técnicas para combatir el desbalance.\n"
   ]
  },
  {
   "cell_type": "markdown",
   "metadata": {},
   "source": [
    "## 4) **Modelo #3: Robertuito (pysentimiento) sin entrenamiento**\n",
    "Usamos el modelo `pysentimiento/robertuito-emotion-analysis` vía `transformers.pipeline`. Este modelo trae etiquetas: 6 emociones de Ekman + `neutral`. **Mapeamos `neutral → other`** para comparar con EmoEvent."
   ]
  },
  {
   "cell_type": "code",
   "execution_count": 23,
   "metadata": {},
   "outputs": [
    {
     "data": {
      "application/vnd.jupyter.widget-view+json": {
       "model_id": "fd36b2b720a74b1b9ca02edce360f3bb",
       "version_major": 2,
       "version_minor": 0
      },
      "text/plain": [
       "config.json: 0.00B [00:00, ?B/s]"
      ]
     },
     "metadata": {},
     "output_type": "display_data"
    },
    {
     "data": {
      "application/vnd.jupyter.widget-view+json": {
       "model_id": "e97b4a191a6c406c880d535763edb258",
       "version_major": 2,
       "version_minor": 0
      },
      "text/plain": [
       "pytorch_model.bin:   0%|          | 0.00/435M [00:00<?, ?B/s]"
      ]
     },
     "metadata": {},
     "output_type": "display_data"
    },
    {
     "data": {
      "application/vnd.jupyter.widget-view+json": {
       "model_id": "6070a486daaa494ab551bb4c1b0c6dbd",
       "version_major": 2,
       "version_minor": 0
      },
      "text/plain": [
       "tokenizer_config.json:   0%|          | 0.00/384 [00:00<?, ?B/s]"
      ]
     },
     "metadata": {},
     "output_type": "display_data"
    },
    {
     "data": {
      "application/vnd.jupyter.widget-view+json": {
       "model_id": "471db785e6c84c31bab4cb5df06a1749",
       "version_major": 2,
       "version_minor": 0
      },
      "text/plain": [
       "tokenizer.json: 0.00B [00:00, ?B/s]"
      ]
     },
     "metadata": {},
     "output_type": "display_data"
    },
    {
     "data": {
      "application/vnd.jupyter.widget-view+json": {
       "model_id": "19328fecb75a464f8474ac2b0b86b76d",
       "version_major": 2,
       "version_minor": 0
      },
      "text/plain": [
       "special_tokens_map.json:   0%|          | 0.00/167 [00:00<?, ?B/s]"
      ]
     },
     "metadata": {},
     "output_type": "display_data"
    },
    {
     "data": {
      "application/vnd.jupyter.widget-view+json": {
       "model_id": "742390f3ae2649d2a75775fde90c09eb",
       "version_major": 2,
       "version_minor": 0
      },
      "text/plain": [
       "model.safetensors:   0%|          | 0.00/435M [00:00<?, ?B/s]"
      ]
     },
     "metadata": {},
     "output_type": "display_data"
    },
    {
     "name": "stderr",
     "output_type": "stream",
     "text": [
      "Device set to use mps:0\n"
     ]
    },
    {
     "name": "stdout",
     "output_type": "stream",
     "text": [
      "              precision    recall  f1-score   support\n",
      "\n",
      "       anger     0.1596    0.1786    0.1685       168\n",
      "     disgust     0.0000    0.0000    0.0000        33\n",
      "        fear     0.1071    0.1429    0.1224        21\n",
      "         joy     0.2316    0.2486    0.2398       354\n",
      "      others     0.5225    0.5270    0.5248       814\n",
      "     sadness     0.1571    0.1508    0.1538       199\n",
      "    surprise     0.0208    0.0149    0.0174        67\n",
      "\n",
      "    accuracy                         0.3508      1656\n",
      "   macro avg     0.1712    0.1804    0.1753      1656\n",
      "weighted avg     0.3436    0.3508    0.3470      1656\n",
      "\n"
     ]
    },
    {
     "name": "stderr",
     "output_type": "stream",
     "text": [
      "/opt/homebrew/lib/python3.13/site-packages/sklearn/metrics/_classification.py:1731: UndefinedMetricWarning: Precision is ill-defined and being set to 0.0 in labels with no predicted samples. Use `zero_division` parameter to control this behavior.\n",
      "  _warn_prf(average, modifier, f\"{metric.capitalize()} is\", result.shape[0])\n",
      "/opt/homebrew/lib/python3.13/site-packages/sklearn/metrics/_classification.py:1731: UndefinedMetricWarning: Precision is ill-defined and being set to 0.0 in labels with no predicted samples. Use `zero_division` parameter to control this behavior.\n",
      "  _warn_prf(average, modifier, f\"{metric.capitalize()} is\", result.shape[0])\n",
      "/opt/homebrew/lib/python3.13/site-packages/sklearn/metrics/_classification.py:1731: UndefinedMetricWarning: Precision is ill-defined and being set to 0.0 in labels with no predicted samples. Use `zero_division` parameter to control this behavior.\n",
      "  _warn_prf(average, modifier, f\"{metric.capitalize()} is\", result.shape[0])\n"
     ]
    },
    {
     "data": {
      "image/png": "[encoded data removed]",
      "text/plain": [
       "<Figure size 600x500 with 2 Axes>"
      ]
     },
     "metadata": {},
     "output_type": "display_data"
    },
    {
     "data": {
      "text/html": [
       "<div>\n",
       "<style scoped>\n",
       "    .dataframe tbody tr th:only-of-type {\n",
       "        vertical-align: middle;\n",
       "    }\n",
       "\n",
       "    .dataframe tbody tr th {\n",
       "        vertical-align: top;\n",
       "    }\n",
       "\n",
       "    .dataframe thead th {\n",
       "        text-align: right;\n",
       "    }\n",
       "</style>\n",
       "<table border=\"1\" class=\"dataframe\">\n",
       "  <thead>\n",
       "    <tr style=\"text-align: right;\">\n",
       "      <th></th>\n",
       "      <th>event</th>\n",
       "      <th>n</th>\n",
       "      <th>acc</th>\n",
       "      <th>macro_f1</th>\n",
       "    </tr>\n",
       "  </thead>\n",
       "  <tbody>\n",
       "    <tr>\n",
       "      <th>0</th>\n",
       "      <td></td>\n",
       "      <td>30</td>\n",
       "      <td>0.600000</td>\n",
       "      <td>0.187500</td>\n",
       "    </tr>\n",
       "    <tr>\n",
       "      <th>6</th>\n",
       "      <td>SpainElection</td>\n",
       "      <td>218</td>\n",
       "      <td>0.344037</td>\n",
       "      <td>0.185228</td>\n",
       "    </tr>\n",
       "    <tr>\n",
       "      <th>2</th>\n",
       "      <td>GameOfThrones</td>\n",
       "      <td>219</td>\n",
       "      <td>0.310502</td>\n",
       "      <td>0.184761</td>\n",
       "    </tr>\n",
       "    <tr>\n",
       "      <th>3</th>\n",
       "      <td>GretaThunberg</td>\n",
       "      <td>139</td>\n",
       "      <td>0.424460</td>\n",
       "      <td>0.158838</td>\n",
       "    </tr>\n",
       "    <tr>\n",
       "      <th>7</th>\n",
       "      <td>Venezuela</td>\n",
       "      <td>234</td>\n",
       "      <td>0.363248</td>\n",
       "      <td>0.157711</td>\n",
       "    </tr>\n",
       "    <tr>\n",
       "      <th>1</th>\n",
       "      <td>ChampionsLeague</td>\n",
       "      <td>232</td>\n",
       "      <td>0.370690</td>\n",
       "      <td>0.136138</td>\n",
       "    </tr>\n",
       "    <tr>\n",
       "      <th>5</th>\n",
       "      <td>NotreDame</td>\n",
       "      <td>225</td>\n",
       "      <td>0.275556</td>\n",
       "      <td>0.128402</td>\n",
       "    </tr>\n",
       "    <tr>\n",
       "      <th>4</th>\n",
       "      <td>LaLiga</td>\n",
       "      <td>119</td>\n",
       "      <td>0.411765</td>\n",
       "      <td>0.124249</td>\n",
       "    </tr>\n",
       "    <tr>\n",
       "      <th>8</th>\n",
       "      <td>WorldBookDay</td>\n",
       "      <td>240</td>\n",
       "      <td>0.329167</td>\n",
       "      <td>0.117090</td>\n",
       "    </tr>\n",
       "  </tbody>\n",
       "</table>\n",
       "</div>"
      ],
      "text/plain": [
       "             event    n       acc  macro_f1\n",
       "0                    30  0.600000  0.187500\n",
       "6    SpainElection  218  0.344037  0.185228\n",
       "2    GameOfThrones  219  0.310502  0.184761\n",
       "3    GretaThunberg  139  0.424460  0.158838\n",
       "7        Venezuela  234  0.363248  0.157711\n",
       "1  ChampionsLeague  232  0.370690  0.136138\n",
       "5        NotreDame  225  0.275556  0.128402\n",
       "4           LaLiga  119  0.411765  0.124249\n",
       "8     WorldBookDay  240  0.329167  0.117090"
      ]
     },
     "execution_count": 23,
     "metadata": {},
     "output_type": "execute_result"
    }
   ],
   "source": [
    "from transformers import pipeline\n",
    "clf_pipe = pipeline('text-classification', model='pysentimiento/robertuito-emotion-analysis', top_k=None, truncation=True)\n",
    "\n",
    "label_map = {'neutral': 'other'}\n",
    "\n",
    "def predict_robertuito(texts):\n",
    "    outs = clf_pipe(texts)\n",
    "    # pipeline returns list[ list[ {label, score} ] ] if top_k=None\n",
    "    preds = []\n",
    "    for out in outs:\n",
    "        # pick highest score label\n",
    "        best = max(out, key=lambda x: x['score'])\n",
    "        lab = label_map.get(best['label'].lower(), best['label'].lower())\n",
    "        preds.append(lab)\n",
    "    return preds\n",
    "\n",
    "rt_preds = predict_robertuito(test_df['tweet'].tolist())\n",
    "print(classification_report(test_df['emotion'], rt_preds, labels=labels, digits=4))\n",
    "cm_rt = confusion_matrix(test_df['emotion'], rt_preds, labels=labels)\n",
    "plot_confusion(cm_rt, labels, 'Matriz de confusión — TEST (Robertuito)', savepath='confusion_robertuito_test.png')\n",
    "\n",
    "per_event_rt = per_event_macro_f1(test_df, rt_preds)\n",
    "per_event_rt.to_csv('per_event_robertuito.csv', index=False)\n",
    "per_event_rt.head(10)"
   ]
  },
  {
   "cell_type": "markdown",
   "id": "c03d3442",
   "metadata": {},
   "source": [
    "### **Resultados Robertuito (TEST)**\n",
    "\n",
    "#### **Matriz de confusión**\n",
    "- Igual que en SVM y BETO, la clase **`others`** absorbe la mayoría de predicciones.\n",
    "- Sin embargo, se observa **un poco más de dispersión** hacia `joy` y `sadness`, aunque sigue siendo débil.\n",
    "- Las clases minoritarias (`fear`, `disgust`, `surprise`) siguen prácticamente ignoradas.\n",
    "\n",
    "#### **Por evento**\n",
    "- **SpainElection (macro-F1 ≈ 0.18)** y **GameOfThrones (macro-F1 ≈ 0.18)**, mejor desempeño relativo dentro del conjunto, aunque sigue siendo bajo.\n",
    "- **GretaThunberg (macro-F1 ≈ 0.15)** y **Venezuela (macro-F1 ≈ 0.16)**, rendimiento intermedio, sin mejoras claras respecto a BETO.\n",
    "- **NotreDame (macro-F1 ≈ 0.12)** y **LaLiga (macro-F1 ≈ 0.12)** → resultados pobres, confirmando la dificultad de modelar emociones dominadas por `sadness` o mezcladas.\n",
    "- **ChampionsLeague (macro-F1 ≈ 0.13)**, comportamiento muy similar a BETO.\n",
    "- **Evento pequeño (n=30, macro-F1 ≈ 0.18)**, destaca artificialmente por el bajo tamaño de muestra.\n",
    "\n",
    "#### **Comparación global**\n",
    "- Robertuito logra **macro-F1 por evento ligeramente más alto** en algunos casos (SpainElection, GameOfThrones), pero en promedio sigue atrapado en el mismo problema: colapso hacia `others`.\n",
    "- El patrón de confusiones es casi idéntico al de BETO.\n",
    "- No se observa una mejora sustancial frente a BETO en términos de balance entre clases.\n",
    "\n",
    "### **Conclusión parcial**\n",
    "- Robertuito no supera de manera significativa a BETO en este dataset.\n",
    "- El problema central sigue siendo el **alto desbalance de clases** y la **falta de señal clara en emociones minoritarias**.\n",
    "- Para mejorar:\n",
    "  - Aumentar el número de épocas de entrenamiento.\n",
    "  - Aplicar **estrategias de balanceo** (oversampling, focal loss).\n",
    "  - Explorar arquitecturas multitarea que aprovechen la señal de la columna `offensive`.\n"
   ]
  },
  {
   "cell_type": "markdown",
   "metadata": {},
   "source": [
    "## 5) Comparativa consolidada y _leaderboard_ interno\n",
    "Guardamos métricas globales y por clase en tablas CSV para el informe."
   ]
  },
  {
   "cell_type": "code",
   "execution_count": 24,
   "metadata": {},
   "outputs": [
    {
     "data": {
      "text/html": [
       "<div>\n",
       "<style scoped>\n",
       "    .dataframe tbody tr th:only-of-type {\n",
       "        vertical-align: middle;\n",
       "    }\n",
       "\n",
       "    .dataframe tbody tr th {\n",
       "        vertical-align: top;\n",
       "    }\n",
       "\n",
       "    .dataframe thead th {\n",
       "        text-align: right;\n",
       "    }\n",
       "</style>\n",
       "<table border=\"1\" class=\"dataframe\">\n",
       "  <thead>\n",
       "    <tr style=\"text-align: right;\">\n",
       "      <th></th>\n",
       "      <th>modelo</th>\n",
       "      <th>accuracy</th>\n",
       "      <th>macro_f1</th>\n",
       "      <th>weighted_f1</th>\n",
       "    </tr>\n",
       "  </thead>\n",
       "  <tbody>\n",
       "    <tr>\n",
       "      <th>2</th>\n",
       "      <td>robertuito</td>\n",
       "      <td>0.350845</td>\n",
       "      <td>0.175254</td>\n",
       "      <td>0.347049</td>\n",
       "    </tr>\n",
       "    <tr>\n",
       "      <th>0</th>\n",
       "      <td>svm</td>\n",
       "      <td>0.364130</td>\n",
       "      <td>0.157930</td>\n",
       "      <td>0.348835</td>\n",
       "    </tr>\n",
       "    <tr>\n",
       "      <th>1</th>\n",
       "      <td>beto</td>\n",
       "      <td>0.354469</td>\n",
       "      <td>0.156891</td>\n",
       "      <td>0.345096</td>\n",
       "    </tr>\n",
       "  </tbody>\n",
       "</table>\n",
       "</div>"
      ],
      "text/plain": [
       "       modelo  accuracy  macro_f1  weighted_f1\n",
       "2  robertuito  0.350845  0.175254     0.347049\n",
       "0         svm  0.364130  0.157930     0.348835\n",
       "1        beto  0.354469  0.156891     0.345096"
      ]
     },
     "execution_count": 24,
     "metadata": {},
     "output_type": "execute_result"
    }
   ],
   "source": [
    "from sklearn.metrics import precision_recall_fscore_support\n",
    "\n",
    "def per_class_table(y_true, y_pred, labels):\n",
    "    p, r, f1, sup = precision_recall_fscore_support(y_true, y_pred, labels=labels, zero_division=0)\n",
    "    return pd.DataFrame({'label': labels, 'precision': p, 'recall': r, 'f1': f1, 'support': sup})\n",
    "\n",
    "tables = {}\n",
    "tables['svm'] = per_class_table(y_test, pred_te, labels)\n",
    "tables['beto'] = per_class_table([id2label[i] for i in true_test], [id2label[i] for i in preds_test], labels)\n",
    "tables['robertuito'] = per_class_table(test_df['emotion'].tolist(), rt_preds, labels)\n",
    "\n",
    "for name, df in tables.items():\n",
    "    df.to_csv(f'per_class_{name}.csv', index=False)\n",
    "\n",
    "summary = []\n",
    "for name, (y_true, y_pred) in {\n",
    "    'svm': (y_test, pred_te),\n",
    "    'beto': ([id2label[i] for i in true_test], [id2label[i] for i in preds_test]),\n",
    "    'robertuito': (test_df['emotion'].tolist(), rt_preds)\n",
    "}.items():\n",
    "    acc = accuracy_score(y_true, y_pred)\n",
    "    f1m = f1_score(y_true, y_pred, average='macro')\n",
    "    f1w = f1_score(y_true, y_pred, average='weighted')\n",
    "    summary.append((name, acc, f1m, f1w))\n",
    "\n",
    "summary_df = pd.DataFrame(summary, columns=['modelo','accuracy','macro_f1','weighted_f1']).sort_values('macro_f1', ascending=False)\n",
    "summary_df.to_csv('summary_models.csv', index=False)\n",
    "summary_df"
   ]
  },
  {
   "cell_type": "markdown",
   "id": "55100331",
   "metadata": {},
   "source": [
    "### **Conlusión**\n",
    "\n",
    "- **SVM (baseline)**  \n",
    "  - Alcanzó la **mayor accuracy (0.36)** y un **weighted-F1 (0.35)** muy similar al resto.  \n",
    "  - Su **macro-F1 (0.16)** es bajo, pero comparable con los modelos más complejos.  \n",
    "  - Entrenamiento **rápido y eficiente**, con bajo costo computacional.  \n",
    "\n",
    "- **BETO (fine-tuning)**  \n",
    "  - Obtuvo **accuracy (0.35)** y **macro-F1 (0.16)** prácticamente iguales al SVM.  \n",
    "  - No logró superar al baseline pese a ser un modelo contextual avanzado.  \n",
    "  - El entrenamiento fue **más costoso en tiempo y recursos**, con beneficios mínimos.  \n",
    "\n",
    "- **Robertuito (modelo preentrenado listo)**  \n",
    "  - Tuvo el **mejor macro-F1 (0.18)**, lo que indica un desempeño ligeramente superior en clases minoritarias.  \n",
    "  - Sin embargo, su accuracy y weighted-F1 no superaron claramente al SVM.   \n",
    "\n",
    "Entonces se puede concluir que:\n",
    "\n",
    "- El **SVM baseline** ofrece un desempeño **similar** a los modelos más complejos, pero con una **gran ventaja en eficiencia**.  \n",
    "- **BETO y Robertuito no lograron ventajas significativas**, evidenciando que el **alto desbalance del dataset** limita fuertemente a modelos incluso de última generación.  \n",
    "- Para mejorar resultados se requiere:  \n",
    "  - Técnicas de **balanceo de clases** (oversampling, focal loss, reweighting).  \n",
    "  - Mayor **fine-tuning** (más épocas, ajuste de hiperparámetros).  \n",
    "  - Aprovechar la señal de la etiqueta **offensive** como tarea auxiliar (*multitask learning*).\n",
    "\n",
    "**SVM es la opción más costo-beneficio**, mientras que los Transformers muestran potencial, pero necesitan ajustes específicos para superar el baseline.\n"
   ]
  }
 ],
 "metadata": {
  "kernelspec": {
   "display_name": "Python 3",
   "language": "python",
   "name": "python3"
  },
  "language_info": {
   "codemirror_mode": {
    "name": "ipython",
    "version": 3
   },
   "file_extension": ".py",
   "mimetype": "text/x-python",
   "name": "python",
   "nbconvert_exporter": "python",
   "pygments_lexer": "ipython3",
   "version": "3.13.5"
  }
 },
 "nbformat": 4,
 "nbformat_minor": 5
}
