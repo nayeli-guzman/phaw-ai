{
  "nbformat": 4,
  "nbformat_minor": 0,
  "metadata": {
    "colab": {
      "provenance": [],
      "collapsed_sections": [
        "JjQFbe34C1-8"
      ]
    },
    "kernelspec": {
      "name": "python3",
      "display_name": "Python 3"
    },
    "language_info": {
      "name": "python"
    }
  },
  "cells": [
    {
      "cell_type": "markdown",
      "source": [
        "*© Copyright: Este notebook no puede ser distribuido parcial o totalmente sin autorizacion*\n",
        "\n"
      ],
      "metadata": {
        "id": "0cz1ypp5vYdQ"
      }
    },
    {
      "cell_type": "markdown",
      "source": [
        "# **1. Python**"
      ],
      "metadata": {
        "id": "bDPxmxkHE-5Q"
      }
    },
    {
      "cell_type": "markdown",
      "source": [
        "Python es uno de los lenguajes de programación más utilizados y populares del mundo. Es potente, versátil y fácil de aprender. Python se usa ampliamente en varias aplicaciones, entre ellas:\n",
        "\n",
        "*   Desarrollo web\n",
        "*   Data Science\n",
        "*   Data analysis\n",
        "*   Machine learning\n",
        "*   Inteligencia artificial (IA)\n",
        "*   Desarrollo de videojuegos"
      ],
      "metadata": {
        "id": "UP0rHOxBBvM3"
      }
    },
    {
      "cell_type": "markdown",
      "source": [
        "## ¿Quién usa python?\n",
        "\n",
        "Según se informa, 275 495 empresas utilizan Python principalmente para la industria de servicios y tecnología de la información, incluidas empresas como Netflix, Uber, Google y Pinterest.\n",
        "\n",
        "![python](https://www.megatrend.com/wp-content/uploads/2022/03/Slika3_Python_kompanije-1.png)\n",
        "\n",
        "Fuente: [Megatrend](https://www.megatrend.com/en/the-rise-of-the-python-programming-language/) y [Enlyft](https://enlyft.com/tech/products/python).\n",
        "\n"
      ],
      "metadata": {
        "id": "mq9bkZH7E02y"
      }
    },
    {
      "cell_type": "markdown",
      "source": [
        "## ¿Qué es Colab?\n",
        "\n",
        "Colab, también conocido como \"Colaboratory\", permite programar y ejecutar Python en el navegador con las siguientes ventajas:\n",
        "- No requiere configuración\n",
        "- Se guarda en la nube\n",
        "- Acceso a GPUs sin coste adicional\n",
        "- Permite compartir contenido fácilmente"
      ],
      "metadata": {
        "id": "rl3m6XCasODc"
      }
    },
    {
      "cell_type": "markdown",
      "source": [
        "Un script Python es un archivo que contiene código Python y tiene la extensión **.py** mientras que un cuaderno o notebook tiene la extension **.ipynb**."
      ],
      "metadata": {
        "id": "JcgZy6PxkfpI"
      }
    },
    {
      "cell_type": "markdown",
      "source": [
        "Un <strong>cuaderno o notebook de Colab</strong> es un entorno interactivo que permite escribir y ejecutar código. Por ejemplo, a continuación se muestra una <strong>celda de código</strong> con una breve secuencia de comandos de Python que calcula un valor, lo almacena en una variable e imprime el resultado:"
      ],
      "metadata": {
        "id": "alQFC_1Ks45O"
      }
    },
    {
      "cell_type": "code",
      "source": [
        "# Ejemplo de programa que agrega el impuesto al precio\n",
        "precio_base = 36\n",
        "igv = precio_base * 0.18\n",
        "precio_final = precio_base + igv\n",
        "print(precio_final)"
      ],
      "metadata": {
        "id": "8RqghImWE9da"
      },
      "execution_count": null,
      "outputs": []
    },
    {
      "cell_type": "markdown",
      "source": [
        "Si quieres **ejecutar** el código de la celda anterior, haz clic para seleccionarlo y **pulsa el botón de reproducir (play)** situado a la izquierda del código o usa la combinación de teclas **\"Comando/Ctrl + Enter\"**. Para editar el código, solo tienes que hacer clic en la celda.\n",
        "\n",
        "Podemos escribir comentarios de dos formas:\n",
        "\n",
        "\n",
        "*   Comentarios de una sola linea usando `# `al inicio\n",
        "*   Comentarios de más de una linea usando `'''` al inicio y al final\n",
        "\n"
      ],
      "metadata": {
        "id": "tglvO5i0trFx"
      }
    },
    {
      "cell_type": "code",
      "source": [
        "'''\n",
        "Parametros importantes de la función print\n",
        "sep: Texto usado en la separación de los argumentos recibidos.\n",
        "end: Texto impreso al final de la ejecución de la función.\n",
        "'''\n",
        "print(\"Python for Data Science\", \"Posgrado UCSP\", sep = \" - \", end = \"!!!\\n\")\n"
      ],
      "metadata": {
        "id": "yKge2RUTkQdx"
      },
      "execution_count": null,
      "outputs": []
    },
    {
      "cell_type": "markdown",
      "source": [
        " **Ejercicio:** *Los siguientes comandos producen el mismo resultado?*\n",
        "\n",
        "```\n",
        "1) print(\"Hello world!\")\n",
        "2) print(\"Hello\", \"world!\")\n",
        "3) print(\"Hello\", \"world!\", sep = \" \")\n",
        "```\n",
        "\n",
        "\n"
      ],
      "metadata": {
        "id": "EnhG_oHfYzu0"
      }
    },
    {
      "cell_type": "code",
      "source": [],
      "metadata": {
        "id": "bUjQoDd1Yzby"
      },
      "execution_count": null,
      "outputs": []
    },
    {
      "cell_type": "markdown",
      "source": [
        "##  Estructura Básica de un programa en Python\n",
        "Un programa es una secuencia de comandos. El programa debe tener **un comando por linea**, Los comandos serán ejecutados en ese ordem, **de arriba para abajo**, uno a la vez.\n",
        "\n",
        "\n",
        "\n",
        "```\n",
        "comando 1\n",
        "comando 2\n",
        "...\n",
        "comando n\n",
        "```\n",
        "\n"
      ],
      "metadata": {
        "id": "ikTAht5sr0nh"
      }
    },
    {
      "cell_type": "code",
      "source": [
        "print(\"Hola, Bienvenidos a PhawAI-TaReCDa 2025\")\n",
        "print(\"Vamos a programar en Python =D\")"
      ],
      "metadata": {
        "id": "NoH_OsWHsY3X"
      },
      "execution_count": null,
      "outputs": []
    },
    {
      "cell_type": "code",
      "source": [
        "# ¿Qué ocurre si ponemos dos comandos en una misma linea?\n"
      ],
      "metadata": {
        "id": "hqKvApcSs8Z8"
      },
      "execution_count": null,
      "outputs": []
    },
    {
      "cell_type": "code",
      "source": [
        "# ¿Cómo podemos solucionarlo?\n"
      ],
      "metadata": {
        "id": "UWTVG13VtNnC"
      },
      "execution_count": null,
      "outputs": []
    },
    {
      "cell_type": "markdown",
      "source": [
        "# **2. Tipos de Datos**"
      ],
      "metadata": {
        "id": "fKddSj9ArW3H"
      }
    },
    {
      "cell_type": "markdown",
      "source": [
        "## **2.1 Variables**\n",
        "\n",
        "\n",
        "Las variables nos permiten asociar un nombre dado por el programador con un objeto (número, cadena de texto, etc.).\n",
        "\n",
        "En Python existen **3 tipos de Datos Básicos** ( lógico, númerico y textual) .\n",
        "\n",
        "En Python, **las variables no se declaran y no están fuertemente tipadas**.\n",
        "\n",
        "Para verificar el tipo usamos `type()`."
      ],
      "metadata": {
        "id": "312VRhpbuhJs"
      }
    },
    {
      "cell_type": "code",
      "source": [
        "nombre = \"Rosa\"\n",
        "apellidos = \"Paccotacya Yanque\"\n",
        "codigo = 2023852\n",
        "year = 2023\n",
        "tiene_codigo = True\n",
        "\n",
        "print(nombre, type(codigo))\n",
        "print(year, type(year))\n",
        "print(tiene_codigo, type(tiene_codigo))"
      ],
      "metadata": {
        "id": "E4AupGfylKEL"
      },
      "execution_count": null,
      "outputs": []
    },
    {
      "cell_type": "code",
      "source": [
        "print(Nombre) # Python es sensible a mayúsculas?"
      ],
      "metadata": {
        "id": "UXCYxz5_BhCg"
      },
      "execution_count": null,
      "outputs": []
    },
    {
      "cell_type": "markdown",
      "source": [
        "### Nombres de variables\n",
        "\n"
      ],
      "metadata": {
        "id": "uGom1EjHpLOn"
      }
    },
    {
      "cell_type": "markdown",
      "source": [
        "\n",
        "\n",
        "*   Debe comenzar con una letra (mayúscula o minúscula) o guion bajo(`_`). Nunca puede comenzar con un número.\n",
        "*   Puede contener letras mayúsculas, minúsculas, números y subguíones.\n",
        "*   No se puede utilizar como parte de un nombre de variable: { ( + - * / \\ n ; . , ? $\n",
        "*   Las letras mayúsculas y minúsculas son diferentes: `c = 4`  `C = 3`\n",
        "\n",
        "\n",
        "\n",
        "\n",
        "\n",
        "\n"
      ],
      "metadata": {
        "id": "9Po5DruvsXUF"
      }
    },
    {
      "cell_type": "code",
      "source": [
        "# Ejemplo Python es case-sensitive\n",
        "x = 52\n",
        "X = \"52\"\n",
        "\n",
        "print(x, type(x))\n",
        "print(X, type(X))"
      ],
      "metadata": {
        "id": "AW7Fcde4sWfy"
      },
      "execution_count": null,
      "outputs": []
    },
    {
      "cell_type": "markdown",
      "source": [
        "***Ejercicio:*** Los siguientes nombres de variables están correctos?\n",
        "\n",
        "\n",
        "1.   `2025_curso = \"Data Science\"`\n",
        "2.   `tasa$ = 1.5`\n",
        "3.   `class = \"Python\"`\n",
        "\n",
        "\n"
      ],
      "metadata": {
        "id": "lKpD6299ujZk"
      }
    },
    {
      "cell_type": "code",
      "source": [
        "# Test nombres de variables"
      ],
      "metadata": {
        "id": "sDjo_CJuv1Em"
      },
      "execution_count": null,
      "outputs": []
    },
    {
      "cell_type": "markdown",
      "source": [
        "Resulta que `class` es una de las palabras clave de Python.\n",
        "\n",
        "Las palabras reservadas definen la sintaxis y la estructura del lenguaje de programación y no pueden usarse como nombres de variables.\n",
        "\n",
        "Python tiene poco más de 30 palabras reservadas (y de vez en cuando las mejoras de Python introducen o eliminan una o dos)."
      ],
      "metadata": {
        "id": "mcxWR1wXvSHO"
      }
    },
    {
      "cell_type": "code",
      "source": [
        "import keyword\n",
        "print(keyword.kwlist)"
      ],
      "metadata": {
        "id": "k3UHfJ-IkpJG"
      },
      "execution_count": null,
      "outputs": []
    },
    {
      "cell_type": "markdown",
      "source": [
        "Tambien debemos tener en cuenta no utilizare el nombre de una función común como nombre de variable. Los nombres de funciones ya definidas en Python más comunes son :\n",
        "\n",
        "`len abs min max int float list str dict range map filter format`"
      ],
      "metadata": {
        "id": "Wvw-C10DlIp5"
      }
    },
    {
      "cell_type": "code",
      "source": [
        "nombre = \"Rosa\"\n",
        "len(nombre)"
      ],
      "metadata": {
        "id": "L2s-XCTKlrHO"
      },
      "execution_count": null,
      "outputs": []
    },
    {
      "cell_type": "code",
      "source": [
        "# Qué pasaria si uso len como nombre de una de mis variables?\n",
        "\n",
        "len =    # redefine len\n",
        "len(nombre)"
      ],
      "metadata": {
        "id": "yIM7DW3BlWKT"
      },
      "execution_count": null,
      "outputs": []
    },
    {
      "cell_type": "markdown",
      "source": [
        "## **2.2  Datos booleanos**\n",
        "\n",
        "En Python, el tipo bool especifica los valores booleanos falso (`False`) y verdadero (`True`).\n",
        "Podemos crear variables asociadas con booleanos, pero el uso más común es verificar los resultados de expresiones relacionales y lógicas.\n",
        "\n",
        "Las operaciones relacionales que podemos realizar son:\n",
        "\n",
        "\n",
        "<table align=\"left\">\n",
        "<thead>\n",
        "<tr>\n",
        "<th>Símbolo</th>\n",
        "<th>Significado</th>\n",
        "<th>Ejemplo</th>\n",
        "<th>Resultado</th>\n",
        "</tr>\n",
        "</thead>\n",
        "<tbody>\n",
        "<tr>\n",
        "<td><code>==</code></td>\n",
        "<td>Igual que</td>\n",
        "<td><code>5 == 7</code></td>\n",
        "<td><code>False</code></td>\n",
        "</tr>\n",
        "<tr>\n",
        "<td><code>!=</code></td>\n",
        "<td>Distinto que</td>\n",
        "<td><code>rojo != verde</code></td>\n",
        "<td><code>True</code></td>\n",
        "</tr>\n",
        "<tr>\n",
        "<td><code>&lt;</code></td>\n",
        "<td>Menor que</td>\n",
        "<td><code>8 &lt; 12</code></td>\n",
        "<td><code>True</code></td>\n",
        "</tr>\n",
        "<tr>\n",
        "<td><code>&gt;</code></td>\n",
        "<td>Mayor que</td>\n",
        "<td><code>12 &gt; 7</code></td>\n",
        "<td><code>True</code></td>\n",
        "</tr>\n",
        "<tr>\n",
        "<td><code>&lt;=</code></td>\n",
        "<td>Menor o igual que</td>\n",
        "<td><code>12 &lt;= 12</code></td>\n",
        "<td><code>True</code></td>\n",
        "</tr>\n",
        "<tr>\n",
        "<td><code>&gt;=</code></td>\n",
        "<td>Mayor o igual que</td>\n",
        "<td><code>4 &gt;= 5</code></td>\n",
        "<td><code>False</code></td>\n",
        "</tr>\n",
        "</tbody>\n",
        "</table>\n",
        "\n"
      ],
      "metadata": {
        "id": "dma8OwSwFQQY"
      }
    },
    {
      "cell_type": "markdown",
      "source": [
        "La lógica booleana se realiza con `and`, `or` y  `not`."
      ],
      "metadata": {
        "id": "XZuXi3nhI_-o"
      }
    },
    {
      "cell_type": "code",
      "source": [
        "# Ejemplos booleano\n",
        "verdadero = True\n",
        "print(type(verdadero))"
      ],
      "metadata": {
        "colab": {
          "base_uri": "https://localhost:8080/"
        },
        "id": "UAN_-2idGjto",
        "outputId": "fff67a43-cf07-48d2-d1ea-3e215b8e0df3"
      },
      "execution_count": null,
      "outputs": [
        {
          "output_type": "stream",
          "name": "stdout",
          "text": [
            "<class 'bool'>\n"
          ]
        }
      ]
    },
    {
      "cell_type": "code",
      "source": [
        "a = 0\n",
        "b = 0\n",
        "( a == 0 and b == 0 )"
      ],
      "metadata": {
        "colab": {
          "base_uri": "https://localhost:8080/"
        },
        "id": "ZT3Qy1epOaw7",
        "outputId": "fe12efe9-864d-4dfd-de72-e926fd526950"
      },
      "execution_count": null,
      "outputs": [
        {
          "output_type": "execute_result",
          "data": {
            "text/plain": [
              "True"
            ]
          },
          "metadata": {},
          "execution_count": 38
        }
      ]
    },
    {
      "cell_type": "markdown",
      "source": [
        "***Ejercicio***\n",
        "Cuales de las siguientes expresiones son booleanas?\n",
        "\n",
        "\n",
        "\n",
        "a. True\n",
        "\n",
        "b. 3 == 4\n",
        "\n",
        "c. 3 + 4\n",
        "\n",
        "d. 3 + 4 == 7\n",
        "\n",
        "e. “False”\n",
        "\n"
      ],
      "metadata": {
        "id": "XwuiIdyHMyis"
      }
    },
    {
      "cell_type": "code",
      "source": [],
      "metadata": {
        "id": "bh9DbeSFNPFf"
      },
      "execution_count": null,
      "outputs": []
    },
    {
      "cell_type": "markdown",
      "source": [
        "***Ejercicio*** Cual es la expresion correcta en Python para verificar si um número almacenado en la variable x está entre 0 e 5? (múltiples respuestas)\n",
        "\n",
        "a. 0 < x < 5\n",
        "\n",
        "b. x > 0 or x < 5\n",
        "\n",
        "c. x > 0 and x < 5\n",
        "\n",
        "d. x > 0 and < 5\n"
      ],
      "metadata": {
        "id": "RyTk-brmNlH8"
      }
    },
    {
      "cell_type": "code",
      "source": [],
      "metadata": {
        "id": "DHYR1aNYN2jW"
      },
      "execution_count": null,
      "outputs": []
    },
    {
      "cell_type": "markdown",
      "source": [
        "El orden de precedencia de los operadores lógicos es el siguiente:\n",
        "* `not`\n",
        "* `and`\n",
        "* `or`\n",
        "\n",
        "Podemos controlar el orden en el que se evalúan las expresiones usando paréntesis."
      ],
      "metadata": {
        "id": "JHdJGKv9cJwa"
      }
    },
    {
      "cell_type": "code",
      "source": [
        "a = 7\n",
        "print(a > 5 or a < 0 and a != 7)"
      ],
      "metadata": {
        "id": "hUdRcOCEcYMU"
      },
      "execution_count": null,
      "outputs": []
    },
    {
      "cell_type": "code",
      "source": [
        "print((a > 5 or a < 0) and a != 7)"
      ],
      "metadata": {
        "id": "6vAlsNFjcclY"
      },
      "execution_count": null,
      "outputs": []
    },
    {
      "cell_type": "markdown",
      "source": [
        "## **2.3 Datos numéricos**\n",
        "\n",
        "En Python podemos encontrar números enteros (`int`), números de punto flotante (`float`) y complejos (`complex`).\n"
      ],
      "metadata": {
        "id": "r4xNAPWipJ4l"
      }
    },
    {
      "cell_type": "code",
      "source": [
        "# Números enteros y de punto flotante\n",
        "nota_1 = 10\n",
        "nota_2 = 7.8\n",
        "nota_final = 8.75\n",
        "\n"
      ],
      "metadata": {
        "id": "kRV0-xSX1O2Q"
      },
      "execution_count": null,
      "outputs": []
    },
    {
      "cell_type": "code",
      "source": [
        "# Numeros complejos van en el formato R +aj\n",
        "num_comp = 21 + 3j\n",
        "print(num_comp.real)\n",
        "print(num_comp.imag)\n",
        "print(num_comp)\n",
        "print(type(num_comp))\n"
      ],
      "metadata": {
        "colab": {
          "base_uri": "https://localhost:8080/"
        },
        "id": "GzQ-YIbW5HeD",
        "outputId": "38f78a7d-6d45-42f3-a12d-302c0006180f"
      },
      "execution_count": null,
      "outputs": [
        {
          "output_type": "stream",
          "name": "stdout",
          "text": [
            "21.0\n",
            "3.0\n",
            "(21+3j)\n",
            "<class 'complex'>\n"
          ]
        }
      ]
    },
    {
      "cell_type": "code",
      "source": [
        "# Números en notación científica con e\n",
        "num_dec = 1.0e-5\n",
        "print(num_dec)\n",
        "print(num_dec * (10**5))"
      ],
      "metadata": {
        "colab": {
          "base_uri": "https://localhost:8080/"
        },
        "id": "L7Un00Q65ubJ",
        "outputId": "c77937bc-92c1-4e34-8e4b-af78d1b613d0"
      },
      "execution_count": null,
      "outputs": [
        {
          "output_type": "stream",
          "name": "stdout",
          "text": [
            "1.0\n"
          ]
        }
      ]
    },
    {
      "cell_type": "markdown",
      "source": [
        "Podemos realizar diferentes operaciones con datos numéricos:\n",
        "```\n",
        "---------------------------------------------------------------------------\n",
        " Símbolo  Significado        Ejemplo            Resultado    Precedencia\n",
        "   +       suma              a = 10 + 5         a es 15            3\n",
        "   -       resta             a = 12 - 7         a es  5            3\n",
        "   *       multiplicación    a = 7 * 5          a es 35            2\n",
        "   /       división          a = 12.5 / 2       a es  6.25         2\n",
        "  //       división entera   a = 12.5 // 2      a es  6.0          2\n",
        "   %       módulo            a = 27 % 4         a es  3            2\n",
        "  **       potencia          a = 2 ** 3         a es  8            1\n",
        "---------------------------------------------------------------------------\n",
        "```"
      ],
      "metadata": {
        "id": "YldH-FSGEGqG"
      }
    },
    {
      "cell_type": "code",
      "source": [
        "# Diferentes operaciones con enteros y flotantes de suma, la resta, la multiplicación y la división"
      ],
      "metadata": {
        "id": "Gf1-HLpMznN8"
      },
      "execution_count": null,
      "outputs": []
    },
    {
      "cell_type": "code",
      "source": [
        "# Ejemplo modulo"
      ],
      "metadata": {
        "id": "GmDhDOzg_QOz"
      },
      "execution_count": null,
      "outputs": []
    },
    {
      "cell_type": "markdown",
      "source": [
        "### Precedencia\n",
        "\n",
        "Así como en las matemáticas normales, la multiplicación y la división tienen mayor \"precedencia\" que la suma y la resta, por lo que se evalúan primero en una expresión. Después de tener en cuenta la precedencia, la aritmética se realiza de izquierda a derecha."
      ],
      "metadata": {
        "id": "hs5BeOwF8clZ"
      }
    },
    {
      "cell_type": "code",
      "source": [
        "# Ejemplos de precedencia"
      ],
      "metadata": {
        "id": "C8g8-TiRz_ru"
      },
      "execution_count": null,
      "outputs": []
    },
    {
      "cell_type": "code",
      "source": [
        "(2 + 3) * 4"
      ],
      "metadata": {
        "colab": {
          "base_uri": "https://localhost:8080/"
        },
        "id": "fLoVz3WzRaUO",
        "outputId": "81780dd5-04bc-4b8d-90a2-5193d3f9fbf3"
      },
      "execution_count": null,
      "outputs": [
        {
          "output_type": "execute_result",
          "data": {
            "text/plain": [
              "20"
            ]
          },
          "metadata": {},
          "execution_count": 3
        }
      ]
    },
    {
      "cell_type": "markdown",
      "source": [
        "***Ejercicio :*** Cuál es el resultado de `120 / 4 * 3` ?"
      ],
      "metadata": {
        "id": "rSIdCWrc8v5q"
      }
    },
    {
      "cell_type": "code",
      "source": [
        "# Test ejercicio"
      ],
      "metadata": {
        "id": "2i6xSLJD8lEL"
      },
      "execution_count": null,
      "outputs": []
    },
    {
      "cell_type": "markdown",
      "source": [
        "***Ejercicio :*** Cuál es el resultado de `100 - 99 / 3 % 2` ?"
      ],
      "metadata": {
        "id": "tnj_Ily7aUP2"
      }
    },
    {
      "cell_type": "markdown",
      "source": [
        "### División retorna Flotantes\n"
      ],
      "metadata": {
        "id": "5p16nEbF9hHw"
      }
    },
    {
      "cell_type": "code",
      "source": [
        "# Ejemplos división"
      ],
      "metadata": {
        "id": "2jRyHndW97Zk"
      },
      "execution_count": null,
      "outputs": []
    },
    {
      "cell_type": "markdown",
      "source": [
        "### División entera `//`\n",
        "\n"
      ],
      "metadata": {
        "id": "xldJtUIM9NBc"
      }
    },
    {
      "cell_type": "code",
      "source": [
        "# Ejemplos division entera"
      ],
      "metadata": {
        "id": "PIhuffze-ZvE"
      },
      "execution_count": null,
      "outputs": []
    },
    {
      "cell_type": "markdown",
      "source": [
        "### Floats : error de precisión\n",
        "\n",
        "Los números de punto flotante tienen un pequeño error de precisión que se acumula unos 15 dígitos a la derecha. En general, este error no se muestra cuando se imprime el valor flotante, ya que algunos dígitos no se imprimen. Sin embargo, los dígitos de error son reales.\n"
      ],
      "metadata": {
        "id": "C616Jzbx-dG_"
      }
    },
    {
      "cell_type": "code",
      "source": [
        "nfloat = 0.1 + 0.2\n",
        "print(nfloat)"
      ],
      "metadata": {
        "colab": {
          "base_uri": "https://localhost:8080/"
        },
        "id": "Ji5n5MnPSbJx",
        "outputId": "10472a2f-2251-4473-d567-aa5a9350f35d"
      },
      "execution_count": null,
      "outputs": [
        {
          "output_type": "stream",
          "name": "stdout",
          "text": [
            "0.30000000000000004\n"
          ]
        }
      ]
    },
    {
      "cell_type": "code",
      "source": [
        "nfloat == 0.3"
      ],
      "metadata": {
        "colab": {
          "base_uri": "https://localhost:8080/"
        },
        "id": "3J9umCcBA0GG",
        "outputId": "1ed72fb7-5d1a-45a7-b7d6-ab1489b3d10c"
      },
      "execution_count": null,
      "outputs": [
        {
          "output_type": "execute_result",
          "data": {
            "text/plain": [
              "False"
            ]
          },
          "metadata": {},
          "execution_count": 23
        }
      ]
    },
    {
      "cell_type": "markdown",
      "source": [
        "En general, un error de aproximadamente 15 dígitos a la derecha no invalida un cálculo. Sin embargo, significa que el código no debe usar `==` con valores flotantes, ya que el error de precisión desviará la comparación. Para comparar valores flotantes, réstelos y compare el valor absoluto de la diferencia con algún número pequeño.\n",
        "\n"
      ],
      "metadata": {
        "id": "mJZ2kJPaAKrr"
      }
    },
    {
      "cell_type": "code",
      "source": [
        "diferencia = abs(nfloat - 0.3)\n",
        "diferencia < 1.0e-9"
      ],
      "metadata": {
        "colab": {
          "base_uri": "https://localhost:8080/"
        },
        "id": "VwI9pePkAeHb",
        "outputId": "c1e5b46a-b010-4675-cff1-f03e350fa3c7"
      },
      "execution_count": null,
      "outputs": [
        {
          "output_type": "execute_result",
          "data": {
            "text/plain": [
              "True"
            ]
          },
          "metadata": {},
          "execution_count": 25
        }
      ]
    },
    {
      "cell_type": "markdown",
      "source": [
        "## **2.4 Strings o Cadenas de texto**\n",
        "\n",
        "Los objetos de cadena almacenan texto.\n",
        "Una cadena cadena debe estar entre comillas simples o dobles. Ejemplos de cadenas:\n",
        "\n",
        "`'¡Hola Arequipa!'` o `\"Hola Arequipa!\"`.\n"
      ],
      "metadata": {
        "id": "hpKXk3GkTKiG"
      }
    },
    {
      "cell_type": "code",
      "source": [
        "# ejemplos cadenas \"\"''"
      ],
      "metadata": {
        "id": "5Je2aHSvXQ6c"
      },
      "execution_count": null,
      "outputs": []
    },
    {
      "cell_type": "code",
      "source": [
        "# ejemplo concatenación con +"
      ],
      "metadata": {
        "id": "rrwMLl1dAyqV"
      },
      "execution_count": null,
      "outputs": []
    },
    {
      "cell_type": "code",
      "source": [
        "# ejemplo replicación con *"
      ],
      "metadata": {
        "id": "HwpcY0NvbADv"
      },
      "execution_count": null,
      "outputs": []
    },
    {
      "cell_type": "code",
      "source": [
        "# ejemplo in"
      ],
      "metadata": {
        "id": "yEsTLxYiUuy0"
      },
      "execution_count": null,
      "outputs": []
    },
    {
      "cell_type": "code",
      "source": [
        "# Comparación de strings, el orden es  ABC...XYZabc...xyz\n"
      ],
      "metadata": {
        "id": "00VXal_MbOGr"
      },
      "execution_count": null,
      "outputs": []
    },
    {
      "cell_type": "markdown",
      "source": [
        "Para conocer el orden relativo de otros caracteres, consulte la tabla ASCII:  https://es.wikipedia.org/wiki/ASCII"
      ],
      "metadata": {
        "id": "Q1G8xKz1bc8q"
      }
    },
    {
      "cell_type": "markdown",
      "source": [
        "## **2.5 Tipado dinámico en Python**\n",
        "\n",
        "Una variable en Python tiene el tipo correspondiente al objeto al que está asociada en ese momento.\n",
        "Python no está fuertemente tipado como otros lenguajes, esto significa que puedes asignar objetos de diferentes tipos a la misma variable.\n"
      ],
      "metadata": {
        "id": "GuJZcfTdQj3V"
      }
    },
    {
      "cell_type": "code",
      "source": [
        "# Ejemplo tipado dinamico dia\n"
      ],
      "metadata": {
        "id": "O0SDcu_eRre5"
      },
      "execution_count": null,
      "outputs": []
    },
    {
      "cell_type": "markdown",
      "source": [
        "***Ejercicio :*** Cuál es el valor almacenado en a ?\n",
        "\n",
        "```\n",
        "d = 3\n",
        "c = 2\n",
        "b = 4\n",
        "d = c + b\n",
        "a = d + 1\n",
        "a = a + 1\n",
        "print(a)\n",
        "```\n",
        "\n",
        "\n"
      ],
      "metadata": {
        "id": "wC0BQnfaRy_l"
      }
    },
    {
      "cell_type": "code",
      "source": [],
      "metadata": {
        "id": "lyyB8SEpSgRV"
      },
      "execution_count": null,
      "outputs": []
    },
    {
      "cell_type": "markdown",
      "source": [
        "***Ejercicio :*** Cuál es el error en el siguiente programa ?\n",
        "\n",
        "\n",
        "```\n",
        "d = 3.0\n",
        "c = 2.5\n",
        "b = 4\n",
        "d = b + 90\n",
        "e = c * d\n",
        "f = f + 1\n",
        "print(f)\n",
        "print(e)\n",
        "```\n",
        "\n"
      ],
      "metadata": {
        "id": "CqYwfwDaSikz"
      }
    },
    {
      "cell_type": "markdown",
      "source": [
        "### **Conversión de tipos**\n",
        "\n",
        "Algunos tipos de datos permiten convertir su valor a otro tipo (*cast*).\n",
        "\n",
        "Para ello podemos utilizar las siguientes funciones:\n",
        "\n",
        "\n",
        "*   `int()` convierte el valor al tipo int (entero).\n",
        "*   `float()` convierte el valor al tipo flotante (número real).\n",
        "*   `str()` convierte el valor al tipo str (cadena).\n",
        "*   `bool()` convierte el valor al tipo bool (booleano).\n",
        "\n"
      ],
      "metadata": {
        "id": "EOm5LXUnT7_E"
      }
    },
    {
      "cell_type": "code",
      "source": [
        "# float to int, truncamiento"
      ],
      "metadata": {
        "id": "HpqeHes1TBIb"
      },
      "execution_count": null,
      "outputs": []
    },
    {
      "cell_type": "markdown",
      "source": [
        "Cualquier número, con excepción de 0 (cero), cuando se convierte a booleano da como resultado Verdadero:"
      ],
      "metadata": {
        "id": "qvdvMGEOU8DA"
      }
    },
    {
      "cell_type": "code",
      "source": [],
      "metadata": {
        "id": "5EOu7nVyU9My"
      },
      "execution_count": null,
      "outputs": []
    },
    {
      "cell_type": "markdown",
      "source": [
        "Cualquier cadena, con la excepción de la cadena vacía (\"\"), cuando se convierte a booleano da como resultado Verdadero:"
      ],
      "metadata": {
        "id": "ND_OgJxPVGKG"
      }
    },
    {
      "cell_type": "code",
      "source": [],
      "metadata": {
        "id": "hplick7qVHG2"
      },
      "execution_count": null,
      "outputs": []
    },
    {
      "cell_type": "markdown",
      "source": [
        "Los valores booleanos se pueden convertir a números:"
      ],
      "metadata": {
        "id": "ZYNUNiY7Vtum"
      }
    },
    {
      "cell_type": "code",
      "source": [],
      "metadata": {
        "id": "P2ZhPwCjVs8_"
      },
      "execution_count": null,
      "outputs": []
    },
    {
      "cell_type": "markdown",
      "source": [
        "Los valores booleanos se pueden utilizar en operaciones aritméticas, sin necesidad de una conversión explícita:"
      ],
      "metadata": {
        "id": "5fniclrxV2W9"
      }
    },
    {
      "cell_type": "code",
      "source": [
        "print(5.2 + (3 < 7))"
      ],
      "metadata": {
        "id": "jjNPBr6VV37N"
      },
      "execution_count": null,
      "outputs": []
    },
    {
      "cell_type": "markdown",
      "source": [
        "# **3. Entrada  de datos**\n",
        "\n",
        "* La función **input** es responsable de recibir datos del usuario.\n",
        "* El usuario debe escribir algo y presionar la tecla `enter`.\n",
        "* Normalmente, almacenamos el valor leído en una variable.\n",
        "* La función de entrada obtiene los datos proporcionados por la consola en formato cadena (str).\n",
        "* Debemos convertir los datos si queremos trabajar con números.\n"
      ],
      "metadata": {
        "id": "JHSOngRFf-Qj"
      }
    },
    {
      "cell_type": "code",
      "source": [
        "x = input(\"Mensaje opcional\")"
      ],
      "metadata": {
        "id": "eOs-Ic2_gook"
      },
      "execution_count": null,
      "outputs": []
    },
    {
      "cell_type": "code",
      "source": [
        "#Input con numeros"
      ],
      "metadata": {
        "id": "yOZtXNfkg1hP"
      },
      "execution_count": null,
      "outputs": []
    },
    {
      "cell_type": "markdown",
      "source": [
        "Recordemos que podemos mostrar/imprimir en pantalla de la siguiente manera:"
      ],
      "metadata": {
        "id": "7XSceSYAhKr7"
      }
    },
    {
      "cell_type": "code",
      "source": [
        "name = \"Marco\"\n",
        "age = 37\n",
        "print(\"Hola \" + name + \" tu edad es \" + age + \" años.\" )"
      ],
      "metadata": {
        "id": "2rTQFDZyhbID"
      },
      "execution_count": null,
      "outputs": []
    },
    {
      "cell_type": "markdown",
      "source": [
        "# **¡Vamos a programar!**"
      ],
      "metadata": {
        "id": "za8n1MTYHLls"
      }
    },
    {
      "cell_type": "markdown",
      "source": [
        "1. **IMC** Escribir un programa que pida al usuario su peso (en kg) y estatura (en metros), calcule el índice de masa corporal y lo almacene en una variable, y muestre por pantalla la frase \"Tu índice de masa corporal es x .\", donde x es el índice de masa corporal calculado redondeado con dos decimales."
      ],
      "metadata": {
        "id": "Zy1Pp63EL0bx"
      }
    },
    {
      "cell_type": "code",
      "source": [],
      "metadata": {
        "id": "4Tpeg9OCLwfk"
      },
      "execution_count": null,
      "outputs": []
    },
    {
      "cell_type": "markdown",
      "source": [
        "# **4. Comandos Condicionales**"
      ],
      "metadata": {
        "id": "JhbX4MVcAQp3"
      }
    },
    {
      "cell_type": "markdown",
      "source": [
        "Un comando condicional es aquel que le permite decidir si se debe ejecutar o no un determinado bloque de comandos, en función del resultado de una expresión relacional o lógica."
      ],
      "metadata": {
        "id": "V61Ot3IhBCLE"
      }
    },
    {
      "cell_type": "markdown",
      "source": [
        "<img src=\"https://drive.google.com/uc?export=view&id=113XtQfTeEpzUue_8ltrB2mczDVS0B0jy\" alt=\"d\" width=\"700\">"
      ],
      "metadata": {
        "id": "Bo7yy1NAALBE"
      }
    },
    {
      "cell_type": "code",
      "source": [],
      "metadata": {
        "id": "eHRwpbryHGKk"
      },
      "execution_count": null,
      "outputs": []
    },
    {
      "cell_type": "markdown",
      "source": [
        "## **if/else**\n",
        "\n",
        "El comando condicional principal es if, cuya sintaxis es:\n",
        "\n",
        "```\n",
        "if expresión relacional o lógica:\n",
        "    comandos ejecutados si la expresión es verdadera\n",
        "```\n",
        "\n",
        "Los comandos solo se ejecutan si la expresión relacional/lógica es verdadera."
      ],
      "metadata": {
        "id": "JjQFbe34C1-8"
      }
    },
    {
      "cell_type": "code",
      "source": [
        "# verifica si un numero es par\n",
        "numero = 8\n",
        "if numero % 2 == 0:\n",
        "    print(\"El número es par.\")\n"
      ],
      "metadata": {
        "colab": {
          "base_uri": "https://localhost:8080/"
        },
        "id": "-fR_-on5DrCm",
        "outputId": "bae58724-d8ef-48aa-9f68-7e072840bd41"
      },
      "execution_count": null,
      "outputs": [
        {
          "output_type": "stream",
          "name": "stdout",
          "text": [
            "32\n",
            "El número es par.\n"
          ]
        }
      ]
    },
    {
      "cell_type": "markdown",
      "source": [
        "Una variación del comando if es if/else, cuya sintaxis es:\n",
        "\n",
        "\n",
        "```\n",
        "if  expresión relacional o lógica:\n",
        "    comandos ejecutados si la expresión es verdadera\n",
        "else:\n",
        "    comandos ejecutados si la expresión es falsa\n",
        "```"
      ],
      "metadata": {
        "id": "ZBwBctoCEYUZ"
      }
    },
    {
      "cell_type": "code",
      "source": [
        "# verifica si un numero es par o impar\n",
        "numero = 8\n",
        "if numero % 2 == 0:\n",
        "    print(\"El número es par.\")\n",
        "# ..."
      ],
      "metadata": {
        "id": "4qNx1HdyEUK3"
      },
      "execution_count": null,
      "outputs": []
    },
    {
      "cell_type": "code",
      "source": [
        "# Ejercicio\n",
        "# Escriba un programa para comprobar si una variable numérica tiene el valor 5, 6 o 7"
      ],
      "metadata": {
        "id": "B4NDN9O_wfhg"
      },
      "execution_count": null,
      "outputs": []
    },
    {
      "cell_type": "markdown",
      "source": [
        "## Condicionales Anidados\n",
        "\n",
        "Un condicional también puede estar anidado dentro de otro. Por ejemplo, supongamos que tenemos dos variables enteras x e y. El siguiente patrón de selección muestra cómo podemos decidir cómo se relacionan entre sí."
      ],
      "metadata": {
        "id": "CvT_Gsyv089f"
      }
    },
    {
      "cell_type": "code",
      "source": [
        "x = 10\n",
        "y = 10\n",
        "\n",
        "if x < y:\n",
        "    print(\"x es menor  que y.\")\n",
        "else:\n",
        "    if x > y:\n",
        "        print(\"x es mayor  que y.\")\n",
        "    else:\n",
        "        print(\"x y y devem ser iguales.\")\n"
      ],
      "metadata": {
        "id": "X6Ds-Kfd089f"
      },
      "execution_count": null,
      "outputs": []
    },
    {
      "cell_type": "markdown",
      "source": [
        "En Python, tenemos los bloques que son un conjunto de comandos agrupados.\n",
        "Los programas de Python se estructuran mediante sangría, es decir, los bloques se definen por su espaciado (tabulaciones) en relación al inicio de la línea.\n",
        "\n",
        "\n",
        "\n",
        "```\n",
        "Bloque de comandos 1\n",
        "\n",
        "    Bloque de comandos 2\n",
        "\n",
        "        Bloque de comandos 3\n",
        "\n",
        "            Bloque de comandos 4\n",
        "\n",
        "        Continuación de Bloque de comandos 3\n",
        "\n",
        "    Continuación de Bloque de Comandos 2\n",
        "    \n",
        "Continuación de Bloque de Comandos 1\n",
        "```\n",
        "\n"
      ],
      "metadata": {
        "id": "4iLTjkY9HSyC"
      }
    },
    {
      "cell_type": "markdown",
      "source": [
        "## **elif**\n",
        "\n",
        "Cuando solo una de varias alternativas es verdadera, podemos usar la construcción `if-elif-else`, que en Python se representa por:\n",
        "\n",
        "\n",
        "\n",
        "```\n",
        "if condicion_1:\n",
        "    comandos_1\n",
        "elif condicion_2:\n",
        "    comandos_2\n",
        "elif condicion_3:\n",
        "    comandos_3\n",
        "elif condicion_4:\n",
        "    comandos_4\n",
        "else:\n",
        "    comandos_5\n",
        "```\n",
        "\n",
        "\n"
      ],
      "metadata": {
        "id": "ovu7j74TEF86"
      }
    },
    {
      "cell_type": "code",
      "source": [
        "# verifica si un numero es positivo, negativo o cero\n",
        "numero = -56\n"
      ],
      "metadata": {
        "id": "Tb2XyoUGEFrL"
      },
      "execution_count": null,
      "outputs": []
    },
    {
      "cell_type": "markdown",
      "source": [
        "*Ejercicio*\n",
        "\n",
        "¿Qué imprime el siguiente programa?\n",
        "\n",
        "```\n",
        "if (4 + 5 == 10):\n",
        "    print(\"VERDADERO\")\n",
        "else:\n",
        "    print(\"FALSO\")\n",
        "```\n",
        "\n"
      ],
      "metadata": {
        "id": "FrN1BNUdxnrO"
      }
    },
    {
      "cell_type": "code",
      "source": [],
      "metadata": {
        "id": "8PWZX_sBx2MT"
      },
      "execution_count": null,
      "outputs": []
    },
    {
      "cell_type": "markdown",
      "source": [
        "*Ejercicio*\n",
        "\n",
        "¿Qué imprime el siguiente programa?\n",
        "\n",
        "```\n",
        "if (4 + 5 == 10):\n",
        "    print(\"VERDADERO\")\n",
        "else:\n",
        "    print(\"FALSO\")\n",
        "print(\"VERDADERO\")\n",
        "```\n"
      ],
      "metadata": {
        "id": "oJWHSW2ZzuJZ"
      }
    },
    {
      "cell_type": "code",
      "source": [],
      "metadata": {
        "id": "xqBBiX-1zttm"
      },
      "execution_count": null,
      "outputs": []
    },
    {
      "cell_type": "markdown",
      "source": [
        "*Ejercicio*\n",
        "\n",
        "Hay algún error en el siguiente programa?\n",
        "\n",
        "```\n",
        "x = -10\n",
        "if x < 0:\n",
        "    print(\"El número negativo \",  x, \" no es valido aqui.\")\n",
        "else:\n",
        "    print(x, \" es un número positivo.\")\n",
        "else:\n",
        "    print(\"Esto es siempre impreso.\")\n",
        "```"
      ],
      "metadata": {
        "id": "EsbHxXUOz_m2"
      }
    },
    {
      "cell_type": "code",
      "source": [],
      "metadata": {
        "id": "BO3xTx4az_Sv"
      },
      "execution_count": null,
      "outputs": []
    },
    {
      "cell_type": "markdown",
      "source": [
        "# **5. Buenas prácticas (Reglas de estilo)**"
      ],
      "metadata": {
        "id": "ELVyuF0VGlLN"
      }
    },
    {
      "cell_type": "markdown",
      "source": [
        "El código desordenado funciona mal: es difícil de leer y de depurar. Para ayudarle a desarrollar los hábitos correctos, queremos que siempre entregue código limpio siguiendo un buen estilo.\n",
        "\n",
        "El objetivo del buen estilo es que el código sea \"**legible**\", lo que significa que cuando alguien pasa la vista por el código, lo que ese código hace sea evidente.\n",
        "\n",
        "La experiencia ha demostrado que construir y depurar código legible requiere menos tiempo.\n",
        "\n",
        "A continuación se muestra algunas reglas de estilo:"
      ],
      "metadata": {
        "id": "4yCB1J3VbDQH"
      }
    },
    {
      "cell_type": "markdown",
      "source": [
        "### **Nombres de funciones y variables**"
      ],
      "metadata": {
        "id": "CWNj5nTldM9H"
      }
    },
    {
      "cell_type": "markdown",
      "source": [
        "Las funciones son las acciones en el código, entonces se usan  **verbos** para indicar que hace la función.\n",
        "\n",
        "Las variables son como los **sustantivos** del código por eso preferimos nombres que reflejen qué almacena esa variable.\n",
        "\n",
        "\n",
        "```\n",
        "...\n",
        "url = obtener_url()\n",
        "if tiene_problema_seguridad(url):\n",
        "    mostrar_alerta('Esa url parece sospechosa!')\n",
        "else:\n",
        "    html = descargar_url(url)\n",
        "    mostrar_html(html)\n",
        "...\n",
        "```\n",
        "\n"
      ],
      "metadata": {
        "id": "edws69GBdZSs"
      }
    },
    {
      "cell_type": "markdown",
      "source": [
        "### **Espacio único entre elementos**\n",
        "\n",
        "Siempre rodee estos operadores binarios con un solo espacio a cada lado: asignación `(=)`, asignación aumentada (`+=`, `-=`, etc.), comparaciones `(==, <, >, !=, <>, <=, >=, in, not in, is, is not)`, booleanos `(and, or, not)`.\n",
        "\n",
        "\n",
        "\n",
        "```\n",
        "limite = x * 12 + 13\n",
        "if x >= 4:\n",
        "    print(x + 2)\n",
        "```\n",
        "\n",
        "\n",
        "### **Paréntesis sin espacio**\n",
        "\n",
        "Los paréntesis izquierdo y derecho y los corchetes no tienen espacios que los separe de su contenido. El paréntesis izquierdo de una llamada a función está justo al lado del nombre de la función:\n",
        "\n",
        "```\n",
        "mostrar_evaluacion(152, 'completo')\n",
        "actualizar_datos_alumno()\n",
        "lista = [1, 2, z * 6]\n",
        "```\n",
        "\n",
        "\n"
      ],
      "metadata": {
        "id": "4wSUpzaTgDwa"
      }
    },
    {
      "cell_type": "markdown",
      "source": [
        "### **Sangría de 4 espacios**\n",
        "\n",
        "Código de sangría con 4 espacios. Una línea `def/if/for/ while` termina con dos puntos y las líneas contenidas comienzan en la siguiente línea, todas con sangría de 4 espacios, así:\n",
        "\n",
        "```\n",
        "if color == 'red':\n",
        "    color = 'green'\n",
        "    print(color)\n",
        "\n",
        "```\n",
        "\n",
        "Para hacer que la sangría sea automática en Colab, vamos en el menu superior a  Herramientas -> Configuración -> Editor -> Ancho de Sangria en espacios -> 4 -> Guardar.\n",
        "\n",
        "Aquí también podemos editar la columna de regla vertical para 79, que es lo recomendado por la PEP8.\n",
        "\n",
        "\n",
        "\n",
        "<img src=\"https://drive.google.com/uc?export=view&id=1po9B0mz0kAJPSuVpoG0BV3iDvsj-L2bL\" alt=\"d\" width=\"550\">"
      ],
      "metadata": {
        "id": "KMBV_3_ymhuc"
      }
    },
    {
      "cell_type": "markdown",
      "source": [
        "Pueden encontrar más reglas de estilo en [\n",
        "PEP 8 – Style Guide for Python Code](https://peps.python.org/pep-0008/).\n"
      ],
      "metadata": {
        "id": "s0qYCk8SqCis"
      }
    },
    {
      "cell_type": "markdown",
      "source": [
        "# **6.  Comandos repetitivos: for y while**\n",
        "\n",
        "---\n",
        "\n",
        "\n",
        "\n",
        "Hasta ahora hemos visto cómo escribir programas capaces de ejecutar\n",
        "comandos de forma lineal y, si es necesario, tomar decisiones con\n",
        "con respecto a si ejecutar o no un bloque de comandos.\n",
        "\n",
        "Sin embargo, eventualmente puede ser necesario ejecutar un bloque de\n",
        "comandos varias veces para obtener el resultado esperado.\n",
        "\n",
        "\n"
      ],
      "metadata": {
        "id": "r258zBQ64yKy"
      }
    },
    {
      "cell_type": "markdown",
      "source": [
        "\n",
        "\n",
        "```\n",
        "while <condición>:\n",
        "    # el bloque se repetirá mientras la condición sea verdadera\n",
        "    <comando1>\n",
        "    <comando2>\n",
        "    ...\n",
        "    <comandoY>\n",
        "```\n",
        "\n"
      ],
      "metadata": {
        "id": "2fqqHU0aVGIJ"
      }
    },
    {
      "cell_type": "code",
      "source": [
        "# imprime todos los numeros del 0 al 9"
      ],
      "metadata": {
        "id": "p2yEt3SmVFDO"
      },
      "execution_count": null,
      "outputs": []
    },
    {
      "cell_type": "markdown",
      "source": [
        "Tambien podemos usar **for** que permite tener iteraciones en una cantidad conocida."
      ],
      "metadata": {
        "id": "ZpRTfhLDqVe6"
      }
    },
    {
      "cell_type": "code",
      "source": [
        "# range\n",
        "# Imprime todos los números del 0 al 9\n"
      ],
      "metadata": {
        "id": "dF47bAQ7xSjJ"
      },
      "execution_count": null,
      "outputs": []
    },
    {
      "cell_type": "code",
      "source": [
        "# Imprime todos los números del 1 al 100\n"
      ],
      "metadata": {
        "id": "p_toDqCyxa-O"
      },
      "execution_count": null,
      "outputs": []
    },
    {
      "cell_type": "code",
      "source": [
        "# Imprime todos los números pares entre 0 y 13\n"
      ],
      "metadata": {
        "id": "9uWgkNu1xipY"
      },
      "execution_count": null,
      "outputs": []
    },
    {
      "cell_type": "code",
      "source": [
        "# como paramos un for/while sin que nos de error?\n",
        "# Usamos break!\n",
        "\n",
        "for numero in range(1,11):\n",
        "    if (numero >= 5):\n",
        "        break\n",
        "    print(numero)\n",
        "print(\"Termino el for\")\n",
        "\n"
      ],
      "metadata": {
        "id": "wFhbl7Mtxs2W"
      },
      "execution_count": null,
      "outputs": []
    },
    {
      "cell_type": "code",
      "source": [
        "n = 0\n",
        "\n",
        "while True:\n",
        "    x = int(input(\"Ingrese un numero positivo : \"))\n",
        "    if x <= 0:\n",
        "        break\n",
        "    n = n + 1\n",
        "\n",
        "print(\"Cantidad de numeros brindados: \", n)\n"
      ],
      "metadata": {
        "id": "hCLDoobuNH_w"
      },
      "execution_count": null,
      "outputs": []
    },
    {
      "cell_type": "code",
      "source": [
        "# Y si queremos que continue a la siguiente iteración?\n",
        "# Usamos continue"
      ],
      "metadata": {
        "id": "njWluV5gM3Y1"
      },
      "execution_count": null,
      "outputs": []
    },
    {
      "cell_type": "markdown",
      "source": [
        "### **while o for?**"
      ],
      "metadata": {
        "id": "gtJZAq6UKMK_"
      }
    },
    {
      "cell_type": "markdown",
      "source": [
        "* Utilice un bucle **for** si sabe, antes de iniciar el bucle, el número máximo de veces que necesitará para ejecutar el cuerpo del bucle.\n",
        "* Utilice un bucle **while** si necesita repetir algún cálculo hasta que se cumpla alguna condición y no puede calcular de antemano cuándo sucederá.\n",
        "    * **for**: “iteración definida”\n",
        "    * **while**: “iteración indefinida”, no estamos seguros de cuántas iteraciones necesitamos ni podemos establecer un límite superior."
      ],
      "metadata": {
        "id": "G-quNi4iKQ-0"
      }
    },
    {
      "cell_type": "markdown",
      "source": [
        "***Ejercicio***\n",
        "\n",
        "Escriba un programa que use un número entero positivo n e imprima los valores entre 2 y n, que son divisores de n."
      ],
      "metadata": {
        "id": "10qqmqvwyOvx"
      }
    },
    {
      "cell_type": "code",
      "source": [],
      "metadata": {
        "id": "COsDk5FNx6q6"
      },
      "execution_count": null,
      "outputs": []
    },
    {
      "cell_type": "markdown",
      "source": [],
      "metadata": {
        "id": "S_KKY3jDWzH1"
      }
    },
    {
      "cell_type": "markdown",
      "source": [
        "# **7. Funciones**\n"
      ],
      "metadata": {
        "id": "3p8cMYO8ZVYO"
      }
    },
    {
      "cell_type": "markdown",
      "source": [
        "\n",
        "* Las funciones nos permiten agrupar un conjunto de comandos, que se ejecutan cuando se llama a la función. Previamente, ya vimos ejemplos del uso de funciones (range, sum, min, len, input,etc)."
      ],
      "metadata": {
        "id": "LD2KG6lSd-e3"
      }
    },
    {
      "cell_type": "code",
      "source": [
        "# Ejemplo función print_msj()"
      ],
      "metadata": {
        "id": "ocLo1Ns9d-Rv"
      },
      "execution_count": null,
      "outputs": []
    },
    {
      "cell_type": "markdown",
      "source": [
        "Cuando creamos una variable dentro de una función, solo es accesible en esta función."
      ],
      "metadata": {
        "id": "rCZDZG2Le9-d"
      }
    },
    {
      "cell_type": "code",
      "source": [
        "# Variable global , local"
      ],
      "metadata": {
        "id": "5gJlGomxfsNl"
      },
      "execution_count": null,
      "outputs": []
    },
    {
      "cell_type": "markdown",
      "source": [
        "Podemos proporcionar valores predeterminados para algunos de los argumentos.\n"
      ],
      "metadata": {
        "id": "Z-N0ZYuLft-I"
      }
    },
    {
      "cell_type": "code",
      "source": [
        "def imprime_suma(x, y = 0):\n",
        "    print(x + y)"
      ],
      "metadata": {
        "id": "VVQ0IgGvgjjN"
      },
      "execution_count": null,
      "outputs": []
    },
    {
      "cell_type": "markdown",
      "source": [
        "Los argumentos funcionan como asignaciones. Cuando pasamos variables asociadas con tipos simples, cualquier cambio en el argumento no cambia la variable original."
      ],
      "metadata": {
        "id": "vCSXoTddghz9"
      }
    },
    {
      "cell_type": "code",
      "source": [
        "def incrementa_argumento(x): # x = 1\n",
        "    x = x + 1\n",
        "    print(x)\n",
        "\n",
        "a = 1\n",
        "incrementa_argumento(a)\n",
        "\n",
        "\n"
      ],
      "metadata": {
        "id": "DekvbcvxhBm_"
      },
      "execution_count": null,
      "outputs": []
    },
    {
      "cell_type": "code",
      "source": [
        "print(a)"
      ],
      "metadata": {
        "id": "ozf7ALuXhGnB"
      },
      "execution_count": null,
      "outputs": []
    },
    {
      "cell_type": "markdown",
      "source": [
        "Una función puede devolver un valor. Para determinar el valor devuelto utilizamos el comando `return`.\n"
      ],
      "metadata": {
        "id": "tGQVFcXdfT9h"
      }
    },
    {
      "cell_type": "code",
      "source": [
        "# Ejemplo return, tuplas"
      ],
      "metadata": {
        "id": "rn8Pqs7ihgdJ"
      },
      "execution_count": null,
      "outputs": []
    },
    {
      "cell_type": "markdown",
      "source": [
        "# **8.1 Estructuras de Datos en Python**\n",
        "\n",
        "Las estructuras de datos organizan y almacenan datos, facilitando el acceso a los datos. Python cuenta con cuatro tipos de estructuras de datos: **listas, tuplas, diccionarios y conjuntos**.\n"
      ],
      "metadata": {
        "id": "UbfULyrV-amW"
      }
    },
    {
      "cell_type": "markdown",
      "source": [
        "## **8.1 Listas**\n",
        "\n",
        "Una lista en Python es una estructura que almacena varios datos, que pueden ser o no del mismo tipo.\n",
        "\n",
        "Se crea una lista con la construcción:\n",
        "`  [dato_1, dato_2, ..., dato_n ]`\n",
        "\n",
        "Podemos saber el tamaño de la lista usando `len(lista)`.\n"
      ],
      "metadata": {
        "id": "T241pAbi_dzQ"
      }
    },
    {
      "cell_type": "code",
      "source": [
        "# lista de enteros y su tamaño\n",
        "lista_enteros = [2, 4, 6]\n",
        "print(lista_enteros)\n",
        "print(type(lista_enteros))\n",
        "print(len(lista_enteros))"
      ],
      "metadata": {
        "colab": {
          "base_uri": "https://localhost:8080/"
        },
        "id": "7AiIb9lKWWuD",
        "outputId": "495b3449-6b37-4356-b438-dcb05c2e2566"
      },
      "execution_count": null,
      "outputs": [
        {
          "output_type": "stream",
          "name": "stdout",
          "text": [
            "[2, 4, 6]\n",
            "<class 'list'>\n",
            "3\n"
          ]
        }
      ]
    },
    {
      "cell_type": "code",
      "source": [
        "# lista de dias"
      ],
      "metadata": {
        "id": "HRi0J58UWaLV"
      },
      "execution_count": null,
      "outputs": []
    },
    {
      "cell_type": "code",
      "source": [
        "# lista conteniendo otra lista"
      ],
      "metadata": {
        "id": "rVF3YhpzWdBz"
      },
      "execution_count": null,
      "outputs": []
    },
    {
      "cell_type": "markdown",
      "source": [
        "\n",
        "\n",
        "La sintaxis para acceder a una posición determinada es:\n",
        "` nombre_de_lista[posición]`\n",
        "\n",
        "Siendo n el tamaño de la lista, los índices válidos para ella oscilan entre 0 y n − 1.\n",
        "\n",
        "*   La primera posición de la lista tiene índice 0.\n",
        "*   La última posición de la lista tiene índice n − 1.\n",
        "\n",
        "\n",
        "\n",
        "\n",
        "<img src=\"https://drive.google.com/uc?export=view&id=1mCiiogiCW9X85YFbIcqtUohQdiLkeu9X\" alt=\"d\" width=\"550\">"
      ],
      "metadata": {
        "id": "sGvoyVpmVCk7"
      }
    },
    {
      "cell_type": "code",
      "source": [
        "notas = [8.0, 5.5, 9.3, 7.6, 3.1]\n",
        "print(notas[0])\n",
        "print(notas[1])\n",
        "print(notas[2])\n",
        "print(notas[3])\n",
        "print(notas[4])"
      ],
      "metadata": {
        "id": "eTuTOZauildR"
      },
      "execution_count": null,
      "outputs": []
    },
    {
      "cell_type": "markdown",
      "source": [
        "También podemos accder a los elementos de la lista desde el final empezando en -1.\n",
        "\n",
        "<img src=\"https://drive.google.com/uc?export=view&id=11Q2CJMILZt_ILTVXip5quc-2UphJF0Ct\" alt=\"d\" width=\"550\">"
      ],
      "metadata": {
        "id": "i95rx-qTptaP"
      }
    },
    {
      "cell_type": "code",
      "source": [
        "lista = [2023, \"Data Science\", True, 0.05]\n",
        "print(lista[-1])\n",
        "print(lista[-2])\n",
        "print(lista[-3])\n",
        "print(lista[-4])\n",
        "print(lista[-5])"
      ],
      "metadata": {
        "id": "OHxrIFR_ptJY"
      },
      "execution_count": null,
      "outputs": []
    },
    {
      "cell_type": "markdown",
      "source": [
        "\n",
        "\n",
        "El corte/slicing en Python se logra con\n",
        "`lista[ind1:ind2]`\n",
        "y el resultado es una sublista con elementos de `ind1` a `ind2−1`.\n",
        "\n",
        "<img src=\"https://drive.google.com/uc?export=view&id=1j50Qmn594w7Pl7S7IH7t13LM5XQUiic6\" alt=\"d\" width=\"550\">\n"
      ],
      "metadata": {
        "id": "r2nXCLF9_pst"
      }
    },
    {
      "cell_type": "code",
      "source": [
        "lista = [2023, \"Data Science\", True, 0.05]\n",
        "print(lista[1:3])"
      ],
      "metadata": {
        "colab": {
          "base_uri": "https://localhost:8080/"
        },
        "id": "WfDLommrtBhV",
        "outputId": "523019c7-92c5-40c7-a81d-e9d8b8ffbf95"
      },
      "execution_count": null,
      "outputs": [
        {
          "output_type": "stream",
          "name": "stdout",
          "text": [
            "['Data Science', True]\n"
          ]
        }
      ]
    },
    {
      "cell_type": "markdown",
      "source": [
        "### Métodos\n",
        "```\n",
        "--------------------------------\n",
        "  * append()\t   - Agregar\n",
        "  * extend()\t   - Agregar\n",
        "  * insert()\t   - Agregar\n",
        "  * index()\t\t- Buscar\n",
        "  * pop()\t\t  - Eliminar\n",
        "  * remove()\t   - Eliminar\n",
        "  * reverse()\t  - Ordenar\n",
        "  * sort()\t\t - Ordenar\n",
        "  -----------------------------\n",
        "```\n"
      ],
      "metadata": {
        "id": "siDTSIOBrUdb"
      }
    },
    {
      "cell_type": "markdown",
      "source": [
        "### Insertando elementos\n",
        "**append**\n",
        "\n"
      ],
      "metadata": {
        "id": "nLR7XI_GrUa2"
      }
    },
    {
      "cell_type": "code",
      "execution_count": null,
      "metadata": {
        "id": "CH-R49Ly0g47",
        "colab": {
          "base_uri": "https://localhost:8080/"
        },
        "outputId": "5102d3c4-ea18-46f3-f413-a1ebee09da81"
      },
      "outputs": [
        {
          "output_type": "stream",
          "name": "stdout",
          "text": [
            "['fresa']\n"
          ]
        }
      ],
      "source": [
        "frutas = []\n",
        "frutas.append(\"fresa\")\n",
        "print(frutas)\n",
        "#frutas.append(\"naranja\")\n",
        "#print(frutas)"
      ]
    },
    {
      "cell_type": "markdown",
      "source": [
        "**insert**\n"
      ],
      "metadata": {
        "id": "YwpgfbKUvKnT"
      }
    },
    {
      "cell_type": "code",
      "source": [
        "colores = [ \"azul\", \"blanco\", \"negro\"]\n",
        "colores.insert(1, \"rojo\")\n",
        "print(colores)"
      ],
      "metadata": {
        "colab": {
          "base_uri": "https://localhost:8080/"
        },
        "id": "HydDQfdAvKVl",
        "outputId": "4d2ed07f-97b4-43de-884a-317b1db6cbaf"
      },
      "execution_count": null,
      "outputs": [
        {
          "output_type": "stream",
          "name": "stdout",
          "text": [
            "['azul', 'rojo', 'blanco', 'negro']\n"
          ]
        }
      ]
    },
    {
      "cell_type": "markdown",
      "source": [
        "**extend**\n",
        "\n",
        "El método `extend()` agrega todos los elementos de un iterable (lista, tupla, cadena, etc.) al final de la lista."
      ],
      "metadata": {
        "id": "HZC6bfPnv_cf"
      }
    },
    {
      "cell_type": "code",
      "source": [
        "pares = [2, 4, 6, 8]\n",
        "print(colores)\n",
        "colores.extend(pares)\n",
        "print(colores)"
      ],
      "metadata": {
        "colab": {
          "base_uri": "https://localhost:8080/"
        },
        "id": "gVLKR3_QvtmJ",
        "outputId": "25d65940-0a0c-42dc-ad1b-e54f2c1357b2"
      },
      "execution_count": null,
      "outputs": [
        {
          "output_type": "stream",
          "name": "stdout",
          "text": [
            "['azul', 'rojo', 'blanco', 'negro']\n",
            "['azul', 'rojo', 'blanco', 'negro', 2, 4, 6, 8]\n"
          ]
        }
      ]
    },
    {
      "cell_type": "markdown",
      "source": [
        "### Buscando elementos\n",
        "\n",
        "**in**\n",
        "\n",
        "Podemos comprobar si un elemento está en una lista o no utilizando el operador de prueba de inclusión `in`.\n",
        "\n",
        "Este operador devuelve Verdadero o Falso si el elemento está o no en la lista, respectivamente.\n",
        "\n",
        "**index()**\n",
        "\n",
        "Este método recibe un elemento como argumento, y devuelve el índice de su primera aparición en la lista."
      ],
      "metadata": {
        "id": "lFebd-CnwljB"
      }
    },
    {
      "cell_type": "code",
      "source": [
        "top5 = [\"Black Mirror\", \"Breaking Bad\", \"Friends\",\n",
        "    \"Game of Thrones\", \"The Big Bang Theory\"]\n",
        "print(\"House MD\" in top5)\n",
        "# False\n",
        "print(\"Game of Thrones\" in top5)\n",
        "# True\n",
        "print(\"friends\" in top5)\n"
      ],
      "metadata": {
        "id": "7sEn21AWwlKy"
      },
      "execution_count": null,
      "outputs": []
    },
    {
      "cell_type": "code",
      "source": [
        "# test index"
      ],
      "metadata": {
        "id": "t5SifOp4xNt1"
      },
      "execution_count": null,
      "outputs": []
    },
    {
      "cell_type": "markdown",
      "source": [
        "### Eliminando elementos\n",
        "\n",
        "**remove**\n",
        "El método remove recibe como parámetro el elemento a eliminar de la lista.\n",
        "\n",
        "La primera aparición del elemento especificado como parámetro se elimina de la lista.\n",
        "\n",
        "Si el elemento no está en la lista, se generará un error"
      ],
      "metadata": {
        "id": "o8sySqKnxbmm"
      }
    },
    {
      "cell_type": "code",
      "source": [
        "# ELiminando Argentina y Dinamarca\n",
        "paises = [\"Argentina\", \"Argentina\", \"Brasil\", \"Canadá\"]\n",
        "paises.remove(\"Argentina\")\n",
        "print(paises)\n"
      ],
      "metadata": {
        "id": "wa3vSho5whzx"
      },
      "execution_count": null,
      "outputs": []
    },
    {
      "cell_type": "markdown",
      "source": [
        "**pop**\n",
        "\n",
        "\n",
        "\n",
        "El método pop recibe como parámetro la posición del elemento a eliminar de la lista. Si se omite el parámetro, el último elemento de la lista será eliminado.\n",
        "\n",
        "En respuesta, el método devuelve el elemento eliminado.\n",
        "\n",
        "Cada elemento desde la posición especificada hasta el final de la lista se reubica en la posición anterior."
      ],
      "metadata": {
        "id": "4hCZ2pw8yKz1"
      }
    },
    {
      "cell_type": "code",
      "source": [
        "paises = [\"Argentina\", \"Dinamarca\", \"Brasil\", \"Canadá\"]\n",
        "print(paises.pop(1))\n"
      ],
      "metadata": {
        "id": "08E_p2tzyVum"
      },
      "execution_count": null,
      "outputs": []
    },
    {
      "cell_type": "markdown",
      "source": [
        "### Ordenando Listas\n",
        "\n",
        "Se puede ordenar una lista utilizando el método `sort`.\n",
        "\n",
        "El método `sort` tiene el parámetro inverso opcional, que indica si la lista debe ordenarse de forma ascendente (False) o descendente (True). De forma predeterminada, el valor de este parámetro es Falso (orden ascendente)."
      ],
      "metadata": {
        "id": "mVJNSpN-ycF5"
      }
    },
    {
      "cell_type": "code",
      "source": [
        "a = [5, 3, 1, 4, 2, 6]\n",
        "a.sort()\n",
        "print(a)"
      ],
      "metadata": {
        "id": "DwaDh0Gdyu54"
      },
      "execution_count": null,
      "outputs": []
    },
    {
      "cell_type": "code",
      "source": [
        "#help(list.sort)"
      ],
      "metadata": {
        "id": "WWyLh2IqczSW"
      },
      "execution_count": null,
      "outputs": []
    },
    {
      "cell_type": "code",
      "source": [
        "# reverse = True"
      ],
      "metadata": {
        "id": "9Qd3ilkrzFoq"
      },
      "execution_count": null,
      "outputs": []
    },
    {
      "cell_type": "code",
      "source": [],
      "metadata": {
        "id": "ZvYR4T0WkNYx"
      },
      "execution_count": null,
      "outputs": []
    },
    {
      "cell_type": "markdown",
      "source": [
        "### Usando for\n",
        "\n",
        "\n",
        "```\n",
        "for variable in lista:\n",
        "    comando(s)\n",
        "```\n",
        "\n"
      ],
      "metadata": {
        "id": "LUB2xDY5ZnUC"
      }
    },
    {
      "cell_type": "code",
      "source": [
        "# Imprime todos los números de una lista\n"
      ],
      "metadata": {
        "id": "PeApdKUEpL3A"
      },
      "execution_count": null,
      "outputs": []
    },
    {
      "cell_type": "markdown",
      "source": [
        "***Ejercicio***\n",
        "¿Cual será el resultado?\n",
        "\n",
        "```\n",
        "lista = [4, 2, 8, 6, 5]\n",
        "nueva_lista = [ ]\n",
        "for item in lista:\n",
        "    nuevva_lista.append(item+5)\n",
        "print(nueva_lista)\n",
        "```\n",
        "\n",
        "A. [4, 2, 8, 6, 5]\n",
        "\n",
        "B. [4, 2, 8, 6, 5, 5]\n",
        "\n",
        "C. [9, 7, 13, 11, 10]\n",
        "\n",
        "D. Error, no podemos concatenar dentro de un append."
      ],
      "metadata": {
        "id": "WV5hMroayloM"
      }
    },
    {
      "cell_type": "markdown",
      "source": [
        "***Ejercicio***\n",
        "¿Cual será el resultado?\n",
        "\n",
        "```\n",
        "lista = [ [4, [True, False], 6, 8], [888, 999] ]\n",
        "if lista[0][1][0]:\n",
        "    print(lista[1][0])\n",
        "else:\n",
        "    print(lista[1][1])\n",
        "```\n",
        "\n",
        "A. 6\n",
        "\n",
        "B. 8\n",
        "\n",
        "C. 888\n",
        "\n",
        "D. 999"
      ],
      "metadata": {
        "id": "yNkDPe10zFyD"
      }
    },
    {
      "cell_type": "code",
      "source": [],
      "metadata": {
        "id": "iVjnmdn4ZWn1"
      },
      "execution_count": null,
      "outputs": []
    },
    {
      "cell_type": "markdown",
      "source": [],
      "metadata": {
        "id": "_WYxb8YBbEbV"
      }
    },
    {
      "cell_type": "markdown",
      "source": [
        "## **8.2 Tuplas**\n",
        "\n",
        "Las tuplas son una secuencia de elementos separados por comas,  entre paréntesis.\n",
        "\n",
        "También puedes mezclar elementos de diferentes tipos.\n",
        "Sin embargo, a diferencia de las listas, las tuplas son inmutables.\n",
        "\n",
        "Ejemplo: `(18, \"Abril\", 9.5, 1)` es una tupla de 4 elementos"
      ],
      "metadata": {
        "id": "Y2sFkH1rzIcE"
      }
    },
    {
      "cell_type": "markdown",
      "source": [],
      "metadata": {
        "id": "MRwsWovUzveH"
      }
    },
    {
      "cell_type": "code",
      "source": [
        "tupla1 = ('abril', 18, 4, 2018)\n",
        "tupla2 = (1, 2, 3, 4, 5, 6, 7)"
      ],
      "metadata": {
        "id": "zWm-6G_6zhCO"
      },
      "execution_count": null,
      "outputs": []
    },
    {
      "cell_type": "markdown",
      "source": [
        "***Ejercicio:*** ¿Qué será impreso?\n",
        "\n",
        "```\n",
        "t1 = ('A',)\n",
        "t2 = ('A')\n",
        "print(type(t1))\n",
        "print(type(t2))\n",
        "```\n",
        "\n"
      ],
      "metadata": {
        "id": "o3eZBlhTz7gX"
      }
    },
    {
      "cell_type": "code",
      "source": [
        "# test"
      ],
      "metadata": {
        "id": "VgZbsmzpzieo"
      },
      "execution_count": null,
      "outputs": []
    },
    {
      "cell_type": "code",
      "source": [
        "# Podemos acceder a sus elementos de la misma manera que en las listas.\n"
      ],
      "metadata": {
        "id": "jlrEqlhk0a3O"
      },
      "execution_count": null,
      "outputs": []
    },
    {
      "cell_type": "code",
      "source": [
        "# Las tupas son inmutables. No podemos cambiar sus elementos. Intentemos cambiar\n",
        "#  un elemento para ver que ocurre"
      ],
      "metadata": {
        "id": "oijICqfb03Np"
      },
      "execution_count": null,
      "outputs": []
    },
    {
      "cell_type": "markdown",
      "source": [
        "# **8.3. Diccionarios**\n",
        "\n",
        "Los diccionarios son estructuras de datos que asocian una clave con un valor.\n",
        "\n",
        "Los valores pueden ser datos de cualquier tipo, pero las claves solo pueden ser datos de tipos inmutables.\n",
        "Las claves deben ser únicas.\n",
        "\n"
      ],
      "metadata": {
        "id": "xNnF5nA70v3i"
      }
    },
    {
      "cell_type": "code",
      "source": [
        "ids = {\"Liz\": 229874, \"Hugo\": 215793, \"Sofia\": 199745}\n",
        "print(type(ids))"
      ],
      "metadata": {
        "id": "g2SBUXuv1JXy"
      },
      "execution_count": null,
      "outputs": []
    },
    {
      "cell_type": "code",
      "source": [
        "# El operador in comprueba si una clave está en el diccionario\n",
        "\"Sofia\" in ids"
      ],
      "metadata": {
        "id": "aVY3Sldm1fhT"
      },
      "execution_count": null,
      "outputs": []
    },
    {
      "cell_type": "markdown",
      "source": [
        "### Métodos\n",
        "\n",
        "\n",
        "*   items() devuelve todos los pares clave/contenido del diccionario.\n",
        "*   keys() devuelve todas las claves del diccionario.\n",
        "*   values() devuelve todos los valores del diccionario.\n",
        "\n"
      ],
      "metadata": {
        "id": "0pb7VzTT1aXC"
      }
    },
    {
      "cell_type": "code",
      "source": [
        "ids = {\"Liz\": 229874, \"Hugo\": 215793, \"Sofia\": 199745}\n",
        "ids.items()"
      ],
      "metadata": {
        "id": "oIFDAyBM10sI"
      },
      "execution_count": null,
      "outputs": []
    },
    {
      "cell_type": "code",
      "source": [
        "# Comando del elimina un par de key and value'\n",
        "# del dicccionario[key]\n"
      ],
      "metadata": {
        "id": "4Tn5Gvmurt84"
      },
      "execution_count": null,
      "outputs": []
    },
    {
      "cell_type": "markdown",
      "source": [
        "***Ejercicio*** Cuál es el resultado de el siguiente programa?\n",
        "\n",
        "```\n",
        "mydict = {\"cat\":12, \"dog\":6, \"elephant\":23}\n",
        "mydict[\"mouse\"] = mydict[\"cat\"] + mydict[\"dog\"]\n",
        "print(mydict[\"mouse\"])\n",
        "```\n",
        "\n",
        "A. 12\n",
        "\n",
        "B. 0\n",
        "\n",
        "C. 18\n",
        "\n",
        "D. Error.\n",
        "\n"
      ],
      "metadata": {
        "id": "DI1UM4iZrK1x"
      }
    },
    {
      "cell_type": "markdown",
      "source": [
        "***Ejercicio*** Cuál es el resultado de el siguiente programa?\n",
        "\n",
        "```\n",
        "mydict = {\"cat\":12, \"dog\":6, \"elephant\":23, \"bear\":20}\n",
        "keylist = list(mydict.keys())\n",
        "keylist.sort()\n",
        "print(keylist[3])\n",
        "```\n",
        "\n",
        "A. cat\n",
        "\n",
        "B. dog\n",
        "\n",
        "C. elephant\n",
        "\n",
        "D. bear\n",
        "\n"
      ],
      "metadata": {
        "id": "VPzQHy_FsGJb"
      }
    },
    {
      "cell_type": "markdown",
      "source": [
        "***Ejercicio*** Cuál es el resultado de el siguiente programa?\n",
        "\n",
        "```\n",
        "total = 0\n",
        "mydict = {\"cat\":12, \"dog\":6, \"elephant\":23, \"bear\":20}\n",
        "for akey in mydict:\n",
        "    if len(akey) > 3:\n",
        "        total = total + mydict[akey]\n",
        " print(total)\n",
        "```\n",
        "\n",
        "A. 18\n",
        "\n",
        "B. 43\n",
        "\n",
        "C. 0\n",
        "\n",
        "D. 61  "
      ],
      "metadata": {
        "id": "kD19b8YhsWjl"
      }
    },
    {
      "cell_type": "code",
      "source": [],
      "metadata": {
        "id": "WTjJj6uzrSBd"
      },
      "execution_count": null,
      "outputs": []
    },
    {
      "cell_type": "markdown",
      "source": [],
      "metadata": {
        "id": "dhbF5erEehd9"
      }
    },
    {
      "cell_type": "markdown",
      "source": [
        "# **9. NumPy**"
      ],
      "metadata": {
        "id": "_MPGubgzrJg0"
      }
    },
    {
      "cell_type": "markdown",
      "source": [
        "\n",
        "\n",
        "<img src=\"https://numpy.org/images/numpy-image.jpg\" alt=\"data\" width=\"720\">\n",
        "\n",
        "NumPy, Numerical Python, es uno de los paquetes fundamentales más importantes para la computación numérica en Python. Muchos paquetes computacionales que brindan funcionalidad científica utilizan los objetos array de NumPy como su base.\n",
        "\n"
      ],
      "metadata": {
        "id": "zH-U8S_75g7H"
      }
    },
    {
      "cell_type": "markdown",
      "source": [
        "Numpy es un modulo (archivo Python clases y funciones) que necesita ser llamado mediante el comando **import**.\n",
        "\n",
        "\n",
        "\n",
        "\n",
        "```python\n",
        "import numpy\n",
        "import numpy as np\n",
        "from numpy import *\n",
        "```\n",
        "\n"
      ],
      "metadata": {
        "id": "aKcdHUX8BSvH"
      }
    },
    {
      "cell_type": "code",
      "source": [
        "import numpy as np"
      ],
      "metadata": {
        "id": "L4_EXbjwBSL9"
      },
      "execution_count": null,
      "outputs": []
    },
    {
      "cell_type": "code",
      "source": [
        "import time\n",
        "\n",
        "\n",
        "py_list1 = list(range(1000000))\n",
        "py_list2 = list(range(1000000, 2000000))\n",
        "\n",
        "\n",
        "np_array1 = np.arange(1000000)\n",
        "np_array2 = np.arange(1000000, 2000000)\n",
        "\n",
        "# Sumando Python lists\n",
        "start_time = time.time()\n",
        "result_list = [a + b for a, b in zip(py_list1, py_list2)]\n",
        "print(\"Tiempo usando Python lists: \", time.time() - start_time)\n",
        "\n",
        "# Sumando Numpy arrays\n",
        "start_time = time.time()\n",
        "result_array = np_array1 + np_array2\n",
        "print(\"Tiempo usando Numpy arrays: \", time.time() - start_time)"
      ],
      "metadata": {
        "colab": {
          "base_uri": "https://localhost:8080/"
        },
        "id": "rsBh88qLf-W5",
        "outputId": "e2ee9bf5-bdb7-4dad-faef-86601dce1329"
      },
      "execution_count": null,
      "outputs": [
        {
          "output_type": "stream",
          "name": "stdout",
          "text": [
            "Time taken to add Python lists:  0.0615992546081543\n",
            "Time taken to add Numpy arrays:  0.0045773983001708984\n"
          ]
        }
      ]
    },
    {
      "cell_type": "markdown",
      "source": [
        "## **Numpy Arrays**\n",
        "\n",
        "- Un `array` NumPy es una cuadrícula de valores del mismo tipo.\n",
        "\n",
        "- Las matrices o `array` de Numpy son similares a las listas de Python, excepto que requieren menos memoria y generalmente son más rápidas porque utilizan código C precompilado optimizado.\n",
        "\n",
        "- Cada dimensión de un array es llamada eje (axis_)\n",
        "- Los ejes son numerados a partir de 0\n",
        "- Los elementos son accesados unsado [ ] (semejantes a las listas en Python)\n"
      ],
      "metadata": {
        "id": "PnxYYiMCehs3"
      }
    },
    {
      "cell_type": "markdown",
      "source": [
        "### 1D Arrays"
      ],
      "metadata": {
        "id": "eSsjb7F2FNuf"
      }
    },
    {
      "cell_type": "code",
      "source": [
        "#1D Arrays\n",
        "numeros = np.array([1, 2, 3, 4, 5])"
      ],
      "metadata": {
        "id": "oGfau2LmD_N2"
      },
      "execution_count": null,
      "outputs": []
    },
    {
      "cell_type": "code",
      "source": [
        "# Otras formas de crear arrays\n",
        "a1d = np.arange(10)         # 0 .. n-1  (!)\n",
        "b1d = np.arange(1, 9, 2)    # inicio, fin (exclusivo), salto\n",
        "c1d = np.ones(5)\n",
        "d1d = np.zeros(7)\n",
        "e1d = np.linspace(0, 1, 6)  # start, end, num-points\n",
        "f1d = np.full((13),-4)      # num-veces, num\n",
        "g1d = np.random.rand(9)     # muestras aleatorias de una distribución uniforme\n",
        "                            # sobre [0, 1)\n",
        "\n",
        "print('a1d=',a1d)\n",
        "print('b1d=',b1d)\n",
        "print('c1d=',c1d)\n",
        "print('d1d=',d1d)\n",
        "print('e1d=',e1d)\n",
        "print('f1d=',f1d)\n",
        "print('g1d=',g1d)"
      ],
      "metadata": {
        "colab": {
          "base_uri": "https://localhost:8080/"
        },
        "id": "rSIEM-5kFyIb",
        "outputId": "82d24a67-7625-46a2-e22a-975ebd899146"
      },
      "execution_count": null,
      "outputs": [
        {
          "output_type": "stream",
          "name": "stdout",
          "text": [
            "a1d= [0 1 2 3 4 5 6 7 8 9]\n",
            "b1d= [1 3 5 7]\n",
            "c1d= [1. 1. 1. 1. 1.]\n",
            "d1d= [0. 0. 0. 0. 0. 0. 0.]\n",
            "e1d= [0.  0.2 0.4 0.6 0.8 1. ]\n",
            "f1d= [-4 -4 -4 -4 -4 -4 -4 -4 -4 -4 -4 -4 -4]\n",
            "g1d= [0.8106396  0.43543919 0.95884565 0.87331112 0.76044501 0.6446176\n",
            " 0.39186388 0.41413278 0.7154362 ]\n"
          ]
        }
      ]
    },
    {
      "cell_type": "code",
      "source": [
        "# otra forma de crear un array de aleatorios enteros\n",
        "a= np.random.randint(-100,100,10)\n",
        "print()"
      ],
      "metadata": {
        "id": "5rtb-VhNUcXQ"
      },
      "execution_count": null,
      "outputs": []
    },
    {
      "cell_type": "markdown",
      "source": [
        "Numpy arrays son objetos llamados **_ndarrays_** y poseen diversos atributos\n",
        "- ndarray.ndim - El número de ejes (dimensiones) del array\n",
        "- ndarray.shape - Tupla de enteros indicando el tamaño del array en cada dimensión\n",
        "- ndarray.size - El número total de elementos del array\n",
        "- ndarray.dtype - Un objeto que describe el tipo de elementos del array"
      ],
      "metadata": {
        "id": "25VAaIJVMFfb"
      }
    },
    {
      "cell_type": "code",
      "source": [
        "print(numeros)\n",
        "print(type(numeros))"
      ],
      "metadata": {
        "id": "midYAkDeMEwZ"
      },
      "execution_count": null,
      "outputs": []
    },
    {
      "cell_type": "code",
      "source": [
        "print(numeros.dtype) # Tipo de los datos"
      ],
      "metadata": {
        "colab": {
          "base_uri": "https://localhost:8080/"
        },
        "id": "Ve30GQNaCITg",
        "outputId": "71451c89-f9b4-4c90-c976-0296616112f5"
      },
      "execution_count": null,
      "outputs": [
        {
          "output_type": "stream",
          "name": "stdout",
          "text": [
            "[1 2 3 4 5]\n",
            "<class 'numpy.ndarray'> int64\n"
          ]
        }
      ]
    },
    {
      "cell_type": "code",
      "source": [
        "#array dtype float\n",
        "b = np.array([1., 2., 3.])\n",
        "b.dtype"
      ],
      "metadata": {
        "id": "FcoQmMs0Goqs"
      },
      "execution_count": null,
      "outputs": []
    },
    {
      "cell_type": "markdown",
      "source": [
        "Los diferentes tipos de datos nos permiten almacenar datos de forma más compacta en la memoria, pero la mayoría de las veces simplemente trabajamos con números de punto flotante. En los ejemplos anteriores, NumPy detecta automáticamente el tipo de datos de la entrada."
      ],
      "metadata": {
        "id": "7RP5aAAWGhUL"
      }
    },
    {
      "cell_type": "code",
      "source": [
        "c = np.array([1, 2, 3], dtype=float) # se especifica explicitamente el tipo\n",
        "c.dtype"
      ],
      "metadata": {
        "id": "5wOBLGF5G4Wq"
      },
      "execution_count": null,
      "outputs": []
    },
    {
      "cell_type": "code",
      "source": [
        "# Ejercicio: Como se obtendria los numeros pares desde el 2 hasta el final?"
      ],
      "metadata": {
        "id": "_fOGbyCXQnCX"
      },
      "execution_count": null,
      "outputs": []
    },
    {
      "cell_type": "markdown",
      "source": [
        "### 2D Arrays"
      ],
      "metadata": {
        "id": "xMnnQOdIMSHV"
      }
    },
    {
      "cell_type": "code",
      "source": [
        "## 2D Arrays\n",
        "lista = [(1.5, 2, 3), (4, 5, 6)]\n",
        "a2d = np.array(lista)\n",
        "print(a2d)"
      ],
      "metadata": {
        "colab": {
          "base_uri": "https://localhost:8080/"
        },
        "id": "wLx8wqSBEpOA",
        "outputId": "8073792a-f427-4c74-ea50-bc77a214ddec"
      },
      "execution_count": null,
      "outputs": [
        {
          "output_type": "stream",
          "name": "stdout",
          "text": [
            "[[1.5 2.  3. ]\n",
            " [4.  5.  6. ]]\n"
          ]
        }
      ]
    },
    {
      "cell_type": "code",
      "source": [
        "a2d.shape"
      ],
      "metadata": {
        "colab": {
          "base_uri": "https://localhost:8080/"
        },
        "id": "8_RXqgjnM43r",
        "outputId": "735aae48-d9d4-426d-8b96-a0f741569811"
      },
      "execution_count": null,
      "outputs": [
        {
          "output_type": "execute_result",
          "data": {
            "text/plain": [
              "(2, 3)"
            ]
          },
          "metadata": {},
          "execution_count": 29
        }
      ]
    },
    {
      "cell_type": "code",
      "source": [
        "a2d.dtype"
      ],
      "metadata": {
        "colab": {
          "base_uri": "https://localhost:8080/"
        },
        "id": "YQXYbXwTNYln",
        "outputId": "f4356f1b-7a90-4265-c106-c7895ed4feb8"
      },
      "execution_count": null,
      "outputs": [
        {
          "output_type": "execute_result",
          "data": {
            "text/plain": [
              "dtype('float64')"
            ]
          },
          "metadata": {},
          "execution_count": 31
        }
      ]
    },
    {
      "cell_type": "code",
      "source": [
        "a2d.ndim"
      ],
      "metadata": {
        "colab": {
          "base_uri": "https://localhost:8080/"
        },
        "id": "NAxJqoQKNalj",
        "outputId": "3e21a468-ffb9-44d4-c199-1eead071d8a4"
      },
      "execution_count": null,
      "outputs": [
        {
          "output_type": "execute_result",
          "data": {
            "text/plain": [
              "2"
            ]
          },
          "metadata": {},
          "execution_count": 32
        }
      ]
    },
    {
      "cell_type": "markdown",
      "source": [
        "También podemos usar los mismos métodos que mencionamos anteriormente siempre que les demos una tupla que describa las dimensiones de la matriz que estamos creando:\n",
        "\n",
        "<img src=\"https://jalammar.github.io/images/numpy/numpy-matrix-ones-zeros-random.png\" alt=\"data\" width=\"850\">\n"
      ],
      "metadata": {
        "id": "_DBmP5SHVFgS"
      }
    },
    {
      "cell_type": "code",
      "source": [
        "# Otras formas de crear arrays en  2d\n",
        "c2d = np.ones((2,5))                     # shape en tupla\n",
        "d2d = np.zeros((10,2))\n",
        "e2d = np.eye(3)                          # matriz identidad 1s en la diagonal\n",
        "f2d = np.diag(np.array([1, 2, 3, 4]))    # cuando se le pasa un array crea una matriz\n",
        "\n",
        "print('c1d= \\n',c2d)\n",
        "print('d1d= \\n',d2d)\n",
        "print('e1d= \\n',e2d)\n",
        "print('f1d= \\n',f2d)\n"
      ],
      "metadata": {
        "id": "gRbofN62NPaQ"
      },
      "execution_count": null,
      "outputs": []
    },
    {
      "cell_type": "markdown",
      "source": [
        "### Indexing - Slicing\n",
        "\n",
        "<img src=\"https://jalammar.github.io/images/numpy/numpy-matrix-indexing.png\" alt=\"data\" width=\"850\">"
      ],
      "metadata": {
        "id": "SPLdGjftVqVn"
      }
    },
    {
      "cell_type": "code",
      "source": [
        "a = np.diag(np.arange(5))\n",
        "a"
      ],
      "metadata": {
        "colab": {
          "base_uri": "https://localhost:8080/"
        },
        "id": "qwurcLAENTyU",
        "outputId": "439720a2-e390-4cf7-b625-7a059491cfc9"
      },
      "execution_count": null,
      "outputs": [
        {
          "output_type": "execute_result",
          "data": {
            "text/plain": [
              "array([[0, 0, 0, 0, 0],\n",
              "       [0, 1, 0, 0, 0],\n",
              "       [0, 0, 2, 0, 0],\n",
              "       [0, 0, 0, 3, 0],\n",
              "       [0, 0, 0, 0, 4]])"
            ]
          },
          "metadata": {},
          "execution_count": 42
        }
      ]
    },
    {
      "cell_type": "code",
      "source": [
        "\n",
        "a[3,3]"
      ],
      "metadata": {
        "id": "roSUDYjTPGoL"
      },
      "execution_count": null,
      "outputs": []
    },
    {
      "cell_type": "code",
      "source": [
        "# Primera fila\n",
        "a[0,:]"
      ],
      "metadata": {
        "id": "NMYiHUb2Rj07"
      },
      "execution_count": null,
      "outputs": []
    },
    {
      "cell_type": "code",
      "source": [
        "# Primera columna\n",
        "a[:,1]"
      ],
      "metadata": {
        "id": "K5Kb1-_PRroq"
      },
      "execution_count": null,
      "outputs": []
    },
    {
      "cell_type": "code",
      "source": [
        "#sub matriz\n",
        "a[1:3,1:3]"
      ],
      "metadata": {
        "id": "P6D_P8m_R4v3"
      },
      "execution_count": null,
      "outputs": []
    },
    {
      "cell_type": "markdown",
      "source": [
        "*Ejercicio: Cual seria la forma de retornar los elementos mostrados en la figura?*\n",
        "\n",
        "a) [2,12,22,32,42,52]\n",
        "\n",
        "b) [3,4]\n",
        "\n",
        "c) [ [20,22,24], [40,42,44] ]\n",
        "\n",
        "d) [ [44, 45], [54, 55]]\n",
        "\n",
        "![Screenshot 2023-11-03 172620.png](data:image/png;base64,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)"
      ],
      "metadata": {
        "id": "x51tJq7KSK0-"
      }
    },
    {
      "cell_type": "code",
      "source": [
        "# Tu codigo va aqui"
      ],
      "metadata": {
        "id": "-EQvmpSeSKSA"
      },
      "execution_count": null,
      "outputs": []
    },
    {
      "cell_type": "markdown",
      "source": [
        "### Reshape\n",
        "Permite cambiar la forma de un array\n",
        "\n",
        "<img src=\"https://jalammar.github.io/images/numpy/numpy-reshape.png\" alt=\"data\" width=\"750\">"
      ],
      "metadata": {
        "id": "uX_ODG3KTmVF"
      }
    },
    {
      "cell_type": "code",
      "source": [
        "#Ejemplo"
      ],
      "metadata": {
        "id": "I4-r2NKzS61j"
      },
      "execution_count": null,
      "outputs": []
    },
    {
      "cell_type": "code",
      "source": [
        "# Funcion .ravel() Aplana un array"
      ],
      "metadata": {
        "id": "U-MfMyp3X558"
      },
      "execution_count": null,
      "outputs": []
    },
    {
      "cell_type": "markdown",
      "source": [
        "### Transpuesta"
      ],
      "metadata": {
        "id": "WQ9Yw-QdWS6U"
      }
    },
    {
      "cell_type": "markdown",
      "source": [
        "<img src=\"https://jalammar.github.io/images/numpy/numpy-transpose.png\" alt=\"data\" width=\"550\">"
      ],
      "metadata": {
        "id": "Fie329IMWk0o"
      }
    },
    {
      "cell_type": "code",
      "source": [
        "#Ejemplo"
      ],
      "metadata": {
        "id": "pihtWgOJWbr5"
      },
      "execution_count": null,
      "outputs": []
    },
    {
      "cell_type": "markdown",
      "source": [
        "- Un array de valores booleanos (máscara boolena) puede ser usado para seleccionar elementos en otro array\n",
        "- Máscaras booleanas pueden ser usadas para hacer atribuciones de manera más elegante\n"
      ],
      "metadata": {
        "id": "NrQqjlOIW9iL"
      }
    },
    {
      "cell_type": "code",
      "source": [
        "x = np.arange(18).reshape(3,6)\n",
        "print(x)\n",
        "\n",
        "mask = (x > 7)\n",
        "print(10*\"-\")\n",
        "print(mask)\n",
        "print(10*\"-\")\n",
        "\n",
        "print(x[mask])\n",
        "x[mask]=0\n",
        "print(10*\"-\")\n",
        "print(x)"
      ],
      "metadata": {
        "id": "-NV2p5H8XBwr"
      },
      "execution_count": null,
      "outputs": []
    },
    {
      "cell_type": "markdown",
      "source": [
        "Ejercicio\n",
        "\n",
        "Como acceder a los elementos en rojo:\n",
        " [2,22,52]?\n",
        "\n",
        "![Screenshot 2023-11-03 175816.png](data:image/png;base64,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)\n"
      ],
      "metadata": {
        "id": "e-nI9_g_aA1D"
      }
    },
    {
      "cell_type": "markdown",
      "source": [
        "### Copias y Vistas\n",
        "\n",
        "Una operación de corte (slicing) crea una vista en la matriz original, que es solo una forma de acceder a los datos de la matriz. Por tanto, la matriz original no se copia en la memoria."
      ],
      "metadata": {
        "id": "kCZ1smhEZW1a"
      }
    },
    {
      "cell_type": "code",
      "source": [
        "#Ejemplo modificacion de array original"
      ],
      "metadata": {
        "id": "v-6QEnfxYDwT"
      },
      "execution_count": null,
      "outputs": []
    },
    {
      "cell_type": "code",
      "source": [
        "# Para copiar se debe usar .copy()"
      ],
      "metadata": {
        "id": "s7bPJSjEZt5h"
      },
      "execution_count": null,
      "outputs": []
    },
    {
      "cell_type": "markdown",
      "source": [
        "*Ejercicio: Crear la siguiente matriz*\n",
        "\n",
        "\n",
        "<img src=\"https://drive.google.com/uc?export=view&id=1bUlrG52U0ErC9l1AW6P662caT7bedDCV\" alt=\"data\" width=\"400\">"
      ],
      "metadata": {
        "id": "RKC7GGoiaw-3"
      }
    },
    {
      "cell_type": "code",
      "source": [
        "# Tu codigo va aquí"
      ],
      "metadata": {
        "id": "4gk9LrlXa_07"
      },
      "execution_count": null,
      "outputs": []
    },
    {
      "cell_type": "markdown",
      "source": [
        "## Insertar  y Eliminar elementos\n",
        "\n",
        "\n",
        "1D\n",
        "*   np.delete(array, idx)\n",
        "*   np.append(array, elems)\n",
        "*   np.insert(array, idx, elems)\n",
        "\n",
        "N-dim\n",
        "*   np.delete(array, idx, axis=eje)\n",
        "*   np.append(array, elems, axis=eje)\n",
        "*   np.insert(array, idx, elems, axis=eje)\n",
        "\n",
        "axis=0 hace referencia a filas y axis=1 hace referecia a columnas\n",
        "\n",
        "Estas funciones no son destructivas. Devuelven una copia modificada del array."
      ],
      "metadata": {
        "id": "k4dZVpJTwT7K"
      }
    },
    {
      "cell_type": "code",
      "source": [
        "values = np.arange(15)\n",
        "\n",
        "print(np.delete(values, 2))  # índice (como escalar)\n",
        "\n",
        "print(np.delete(values, (2, 3, 4)))  # índices (como tupla o lista)"
      ],
      "metadata": {
        "id": "pC0mxdRInQZq"
      },
      "execution_count": null,
      "outputs": []
    },
    {
      "cell_type": "code",
      "source": [
        "# No afectan values, son una copia modificada\n",
        "print(values)"
      ],
      "metadata": {
        "id": "xBHPTGaG0Y7W"
      },
      "execution_count": null,
      "outputs": []
    },
    {
      "cell_type": "code",
      "source": [
        "# Ejemplo append"
      ],
      "metadata": {
        "id": "MoQEU4GO0gzi"
      },
      "execution_count": null,
      "outputs": []
    },
    {
      "cell_type": "code",
      "source": [
        "# Ejemplo insert"
      ],
      "metadata": {
        "id": "fWn2M8EG0ob2"
      },
      "execution_count": null,
      "outputs": []
    },
    {
      "cell_type": "code",
      "source": [
        "# 2D\n",
        "values = np.arange(12).reshape(3,4)\n",
        "print(np.delete(values, 0, axis=0))  # Borrado de la primera fila\n",
        "print(np.delete(values, (1, 3), axis=1))  # Borrado de la segunda y cuarta columna"
      ],
      "metadata": {
        "id": "NuH6K6Wu0tor"
      },
      "execution_count": null,
      "outputs": []
    },
    {
      "cell_type": "code",
      "source": [
        "np.append(values, [[5, 6]], axis=0)\n",
        "np.append(values, [[5], [6]], axis=1)\n"
      ],
      "metadata": {
        "id": "1VAGL-iL4XyC"
      },
      "execution_count": null,
      "outputs": []
    },
    {
      "cell_type": "code",
      "source": [
        "# insert"
      ],
      "metadata": {
        "id": "WfI8daNk-BB2"
      },
      "execution_count": null,
      "outputs": []
    },
    {
      "cell_type": "markdown",
      "source": [
        "## Apilación de matrices\n",
        "Para combinar dos matrices (arrays en general)podemos usar el apilado (stacking)."
      ],
      "metadata": {
        "id": "pKQblGEi-S8s"
      }
    },
    {
      "cell_type": "code",
      "source": [
        "m1 = np.random.randint(1, 100, size=(3, 2))\n",
        "m2 = np.random.randint(1, 100, size=(1, 2))"
      ],
      "metadata": {
        "id": "DCidjdJ9-uXE"
      },
      "execution_count": null,
      "outputs": []
    },
    {
      "cell_type": "code",
      "source": [
        "# Apilado vertical, las filas crecen\n",
        "#np.vstack((array1, array2,... ,arrayN))\n"
      ],
      "metadata": {
        "id": "Ju5El6Fw-wJm"
      },
      "execution_count": null,
      "outputs": []
    },
    {
      "cell_type": "code",
      "source": [
        "# Apilado horizontal, las columnas crecen\n",
        "#np.vstack((array1, array2))"
      ],
      "metadata": {
        "id": "jkc2NkWM_JOK"
      },
      "execution_count": null,
      "outputs": []
    },
    {
      "cell_type": "code",
      "source": [],
      "metadata": {
        "id": "npNGZBWesjBI"
      },
      "execution_count": null,
      "outputs": []
    },
    {
      "cell_type": "markdown",
      "source": [
        "## Ordenación de arrays\n",
        "En términos generales, existen dos formas de ordenar cualquier estructura de datos, una que modifica «in-situ» los valores (destructiva) y otra que devuelve «nuevos» valores (no destructiva). En el caso de NumPy también es así."
      ],
      "metadata": {
        "id": "XP6OAV1U_eL8"
      }
    },
    {
      "cell_type": "code",
      "source": [
        "np.sort(array) # no destructivo"
      ],
      "metadata": {
        "id": "mPzoP_6tAqTH"
      },
      "execution_count": null,
      "outputs": []
    },
    {
      "cell_type": "code",
      "source": [
        "array.sort #destructivo"
      ],
      "metadata": {
        "id": "9-3GL5ICAytP"
      },
      "execution_count": null,
      "outputs": []
    },
    {
      "cell_type": "code",
      "source": [
        "# np.sort(values, axis=1)  # equivale a np.sort(values)"
      ],
      "metadata": {
        "id": "R9-63mpMBNl4"
      },
      "execution_count": null,
      "outputs": []
    },
    {
      "cell_type": "code",
      "source": [
        "#2D"
      ],
      "metadata": {
        "id": "qYJ8F_beCZhQ"
      },
      "execution_count": null,
      "outputs": []
    },
    {
      "cell_type": "code",
      "source": [],
      "metadata": {
        "id": "QLaHpK17smO_"
      },
      "execution_count": null,
      "outputs": []
    },
    {
      "cell_type": "markdown",
      "source": [
        "## Funciones comunes\n",
        "- Funciones matemáticas:\n",
        "    `np.sqrt(array), np.sin(array), np.log(), np.abs()`\n",
        "- Funciones reductoras: `np.sum(), np.prod()`\n",
        "- Funciones estadísticas: `np.mean(), np.std(), np.median()`\n",
        "- Funciones algebraicas:  `np.dot(), np.matmult(), np.linalg.inv()`\n",
        "\n",
        "- Máximos y mínimos\n",
        "\n",
        "\n",
        "<img src=\"https://jalammar.github.io/images/numpy/numpy-matrix-aggregation-1.png\" alt=\"data\" width=\"700\">\n",
        "\n",
        "\n",
        "\n"
      ],
      "metadata": {
        "id": "gr7axn714YLf"
      }
    },
    {
      "cell_type": "code",
      "source": [
        "# Ejemplo funciones matematicas"
      ],
      "metadata": {
        "id": "HOsK2UEY6bo5"
      },
      "execution_count": null,
      "outputs": []
    },
    {
      "cell_type": "markdown",
      "source": [],
      "metadata": {
        "id": "YUlGL7GPaq7V"
      }
    },
    {
      "cell_type": "code",
      "source": [
        "# Ejemplo con np.sum()"
      ],
      "metadata": {
        "id": "uoPukxwICyx4"
      },
      "execution_count": null,
      "outputs": []
    },
    {
      "cell_type": "markdown",
      "source": [
        "Cuando configuramos el eje = 0, la función en realidad suma las columnas. El resultado es una nueva matriz NumPy que contiene la suma de cada columna. ¿Por qué? ¿No se refiere el eje 0 a las filas?\n",
        "\n",
        "El parámetro del eje indica qué eje se contrae.\n",
        "Cuando utiliza la función de suma NumPy con el parámetro de eje, el eje que especifica es el eje que se contrae.\n",
        "Entonces, cuando establecemos el eje = 0, no estamos sumando las filas. Cuando configuramos el eje = 0, agregamos los datos de manera que colapsamos las filas... colapsamos el eje 0.\n",
        "\n",
        "<img src=\"https://miro.medium.com/v2/resize:fit:1138/1*UEg1gfz5kZ0-eAUcewiOWw.png\" alt=\"data\" width=\"500\">"
      ],
      "metadata": {
        "id": "k97CxTIB6cI8"
      }
    },
    {
      "cell_type": "code",
      "source": [
        "# Ejemplo funciones estadisticas"
      ],
      "metadata": {
        "id": "zAj5EVRJC3wx"
      },
      "execution_count": null,
      "outputs": []
    },
    {
      "cell_type": "markdown",
      "source": [
        "<img src=\"https://jalammar.github.io/images/numpy/numpy-matrix-aggregation-4.png\" alt=\"data\" width=\"700\">"
      ],
      "metadata": {
        "id": "uiulA2hHDsPZ"
      }
    },
    {
      "cell_type": "code",
      "source": [
        "# Máximos y mínimps\n",
        "# np.min(array)\n",
        "# np.max()"
      ],
      "metadata": {
        "id": "LBr3OUWE7LZZ"
      },
      "execution_count": null,
      "outputs": []
    },
    {
      "cell_type": "markdown",
      "source": [
        "Si lo que interesa es obtener los índices de aquellos elementos con valores máximos o mínimos, podemos hacer uso de las funciones argmax() y argmin() respectivamente.\n",
        "\n"
      ],
      "metadata": {
        "id": "wLzy-bHROm2g"
      }
    },
    {
      "cell_type": "code",
      "source": [
        "#idx = np.argmax(values, axis=0)\n"
      ],
      "metadata": {
        "id": "EQcGLrJsOW37"
      },
      "execution_count": null,
      "outputs": []
    },
    {
      "cell_type": "code",
      "source": [
        "#Obtener los valores\n",
        "# values[idx, range(values.shape[1])]"
      ],
      "metadata": {
        "id": "4NIGUZWKOtVI"
      },
      "execution_count": null,
      "outputs": []
    },
    {
      "cell_type": "code",
      "source": [],
      "metadata": {
        "id": "j3A2YuQDso5J"
      },
      "execution_count": null,
      "outputs": []
    },
    {
      "cell_type": "markdown",
      "source": [
        "## Operaciones Aritméticas"
      ],
      "metadata": {
        "id": "Z1cAR7aIHZmD"
      }
    },
    {
      "cell_type": "markdown",
      "source": [
        "Las operaciones básicas en matrices numerosas (suma, etc.) son por elementos (element-wise). Pra esto los arrays deben ser del mismo tamaño.\n",
        "\n",
        "A menudo hay casos en los que queremos realizar una operación entre una matriz y un solo número (también podemos llamar a esto una operación entre un vector y un escalar). Digamos, por ejemplo, que nuestra matriz representa la distancia en millas y queremos convertirla a kilómetros. Simplemente decimos datos * 1.6:\n",
        "\n",
        "<img src=\"https://jalammar.github.io/images/numpy/numpy-array-broadcast.png\" alt=\"data\" width=\"700\">\n",
        "\n",
        "¿Ves cómo NumPy entendió que esa operación significaba que la multiplicación debería ocurrir con cada celda? Ese concepto se llama **broadcasting**."
      ],
      "metadata": {
        "id": "mUtLwgqDN5c7"
      }
    },
    {
      "cell_type": "code",
      "source": [
        "# Ejemplos arrays y escalares"
      ],
      "metadata": {
        "id": "q3IAJPjMOFp_"
      },
      "execution_count": null,
      "outputs": []
    },
    {
      "cell_type": "markdown",
      "source": [
        "Es posible realizar operaciones en matrices de diferentes tamaños ya que NumPy puede transformar estas matrices para que todas tengan el mismo tamaño: esta conversión se llama **broadcasting**.\n",
        "\n",
        "<img src=\"https://lectures.scientific-python.org/_images/numpy_broadcasting.png\" alt=\"data\" width=\"750\">"
      ],
      "metadata": {
        "id": "Vtwqu-GUQN1B"
      }
    },
    {
      "cell_type": "code",
      "source": [
        "# Ejercicio: Crear matrices\n",
        "# tu código va aquí"
      ],
      "metadata": {
        "id": "gub2IA51HZNG"
      },
      "execution_count": null,
      "outputs": []
    },
    {
      "cell_type": "code",
      "source": [
        "#Verificar broadcasting primer y segundo caso"
      ],
      "metadata": {
        "id": "MOOsuggtDwzb"
      },
      "execution_count": null,
      "outputs": []
    },
    {
      "cell_type": "code",
      "source": [
        "# 1D array to 2D array\n",
        "# a = np.arange(0, 8)\n",
        "# print(a.shape)\n",
        "# a = a[:, np.newaxis]  # añade un nuevo eje,dimension -> 2D array\n",
        "# print(a)\n",
        "# print(a.shape)"
      ],
      "metadata": {
        "id": "TgiiFRyuSnDQ"
      },
      "execution_count": null,
      "outputs": []
    },
    {
      "cell_type": "code",
      "source": [
        "# verificar tercer caso"
      ],
      "metadata": {
        "id": "o2e0nNwvTO7c"
      },
      "execution_count": null,
      "outputs": []
    },
    {
      "cell_type": "markdown",
      "source": [
        "*Ejercicio*\n",
        "\n",
        "Dado el siguiente vector que muestra los hitos kilométricos de 10 ciudades.\n",
        "\n",
        "\n",
        "```\n",
        "hitos_km = np.array([0, 198, 303, 736, 871, 1175, 1475, 1544,\n",
        "       1913, 2448])\n",
        "```\n",
        "\n",
        "\n",
        "\n",
        "Cree la matriz de distancias entre cada ciudad.\n",
        "\n",
        "Resultado esperado:\n",
        "\n",
        "\n",
        "```\n",
        "\n",
        "array([[   0,  198,  303,  736,  871, 1175, 1475, 1544, 1913, 2448],\n",
        "       [ 198,    0,  105,  538,  673,  977, 1277, 1346, 1715, 2250],\n",
        "       [ 303,  105,    0,  433,  568,  872, 1172, 1241, 1610, 2145],\n",
        "       [ 736,  538,  433,    0,  135,  439,  739,  808, 1177, 1712],\n",
        "       [ 871,  673,  568,  135,    0,  304,  604,  673, 1042, 1577],\n",
        "       [1175,  977,  872,  439,  304,    0,  300,  369,  738, 1273],\n",
        "       [1475, 1277, 1172,  739,  604,  300,    0,   69,  438,  973],\n",
        "       [1544, 1346, 1241,  808,  673,  369,   69,    0,  369,  904],\n",
        "       [1913, 1715, 1610, 1177, 1042,  738,  438,  369,    0,  535],\n",
        "       [2448, 2250, 2145, 1712, 1577, 1273,  973,  904,  535,    0]])\n",
        "```\n",
        "\n"
      ],
      "metadata": {
        "id": "vUHEP8LiTxbw"
      }
    },
    {
      "cell_type": "code",
      "source": [
        "# tu codigo va aquí"
      ],
      "metadata": {
        "id": "KYUzB3bwUt9I"
      },
      "execution_count": null,
      "outputs": []
    },
    {
      "cell_type": "markdown",
      "metadata": {
        "id": "CpI8ktt7NQJM"
      },
      "source": [
        "Numpy proporciona cientos de funciones para realizar operaciones en matrices. A continuación, se muestran algunas funciones de uso común:\n",
        "\n",
        "\n",
        "* Matemáticas: `np.sum`,` np.exp`, `np.round`\n",
        "* Manipulación de matrices: `np.reshape`,` np.stack`, `np.concatenate`,` np.split`\n",
        "* Álgebra lineal: `np.matmul`,` np.dot`, `np.transpose`,` np.eigvals`\n",
        "* Estadísticas: `np.mean`,` np.median`, `np.std`,` np.max`\n",
        "\n",
        "> **¿Cómo encontrar la función que necesita?** La forma más fácil de encontrar la función correcta para una operación o caso de uso específico es hacer una búsqueda en la web. Por ejemplo, la búsqueda de \"Cómo unir matrices numpy\" conduce a [este tutorial sobre concatenación de matrices] (https://cmdlinetips.com/2018/04/how-to-concatenate-arrays-in-numpy/).\n",
        "\n",
        "Puede encontrar una lista completa de funciones aquí: https://numpy.org/doc/stable/reference/routines.html"
      ]
    },
    {
      "cell_type": "code",
      "source": [],
      "metadata": {
        "id": "UegeECk6ehKV"
      },
      "execution_count": null,
      "outputs": []
    },
    {
      "cell_type": "markdown",
      "source": [
        "# Referencias\n",
        "\n",
        "\n",
        "\n",
        "*   [Te damos la bienvenida a Colaboratory](https://colab.research.google.com/?hl=es#scrollTo=5fCEDCU_qrC0)\n",
        "*   Parlante, N. [Python Guide](https://cs.stanford.edu/people/nick/py/): University of Stanford -  CS106A - https://cs.stanford.edu/people/nick/py/\n",
        "*  A Visual Intro to NumPy and Data Representation  https://jalammar.github.io/visual-numpy/\n",
        "* Numpy Axes, Explained https://www.sharpsightlabs.com/blog/numpy-axes-explained/\n",
        "\n",
        "* Como Pensar Como um Cientista da Computação, Universidad de Sao Paulo, https://panda.ime.usp.br/pensepy/static/pensepy/\n"
      ],
      "metadata": {
        "id": "I_FtAHfouNMp"
      }
    },
    {
      "cell_type": "markdown",
      "source": [],
      "metadata": {
        "id": "_-EjugVlvqDm"
      }
    },
    {
      "cell_type": "markdown",
      "source": [
        "*© Copyright: Este notebook no puede ser distribuido parcial o totalmente sin autorizacion*\n",
        "\n"
      ],
      "metadata": {
        "id": "LdKQa1osvqTN"
      }
    }
  ]
}