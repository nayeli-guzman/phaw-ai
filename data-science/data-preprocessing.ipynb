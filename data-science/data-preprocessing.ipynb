{
 "cells": [
  {
   "cell_type": "markdown",
   "id": "2e3d76f9",
   "metadata": {},
   "source": [
    "# **Python + DS**\n",
    "\n",
    "Se analizará el dataset [`Data Developer Salary in 2024💰`](https://www.kaggle.com/datasets/zeesolver/data-eng-salary-2024) de Kaggle. Para esto primero se realizará el **preprocesamiento de la data** y posteriormente la **visualización de la data** limpia.\n",
    "\n",
    "## **Data preprocessing**\n",
    "\n",
    "### **1. Importing packages**\n",
    "Se importarán las librerias a usar a lo largo de todo el documento."
   ]
  },
  {
   "cell_type": "code",
   "execution_count": 149,
   "id": "a257980e",
   "metadata": {},
   "outputs": [],
   "source": [
    "import pandas as pd\n",
    "import kagglehub\n",
    "import os\n",
    "import seaborn as sns\n",
    "import matplotlib.pyplot as plt"
   ]
  },
  {
   "cell_type": "markdown",
   "id": "77039ee3",
   "metadata": {},
   "source": [
    "### **2. Downloading data**\n",
    "A través de la libreria `kagglehub` se descargará el dataset mencionado"
   ]
  },
  {
   "cell_type": "code",
   "execution_count": 46,
   "id": "d8165799",
   "metadata": {},
   "outputs": [
    {
     "name": "stdout",
     "output_type": "stream",
     "text": [
      "Downloading from https://www.kaggle.com/api/v1/datasets/download/zeesolver/data-eng-salary-2024?dataset_version_number=1...\n"
     ]
    },
    {
     "name": "stderr",
     "output_type": "stream",
     "text": [
      "100%|██████████| 108k/108k [00:00<00:00, 259kB/s]"
     ]
    },
    {
     "name": "stdout",
     "output_type": "stream",
     "text": [
      "Extracting files...\n"
     ]
    },
    {
     "name": "stderr",
     "output_type": "stream",
     "text": [
      "\n"
     ]
    }
   ],
   "source": [
    "path = kagglehub.dataset_download(\"zeesolver/data-eng-salary-2024\")"
   ]
  },
  {
   "cell_type": "code",
   "execution_count": 47,
   "id": "a2572d2e",
   "metadata": {},
   "outputs": [
    {
     "name": "stdout",
     "output_type": "stream",
     "text": [
      "Dataset guardado en: /Users/nayeli/.cache/kagglehub/datasets/zeesolver/data-eng-salary-2024/versions/1/Dataset salary 2024.csv\n"
     ]
    }
   ],
   "source": [
    "path = os.path.join(path, \"Dataset salary 2024.csv\")\n",
    "print(\"Dataset guardado en:\", path)"
   ]
  },
  {
   "cell_type": "markdown",
   "id": "da778fbb",
   "metadata": {},
   "source": [
    "### **3. Analysing data**\n",
    "\n",
    "Primero con ayuda de `pandas` leeremos el csv que acabamos de descargar"
   ]
  },
  {
   "cell_type": "code",
   "execution_count": 113,
   "id": "5855e45d",
   "metadata": {},
   "outputs": [],
   "source": [
    "df = pd.read_csv(path)"
   ]
  },
  {
   "cell_type": "code",
   "execution_count": 88,
   "id": "4bdd819a",
   "metadata": {},
   "outputs": [
    {
     "data": {
      "text/plain": [
       "(16534, 11)"
      ]
     },
     "execution_count": 88,
     "metadata": {},
     "output_type": "execute_result"
    }
   ],
   "source": [
    "df.shape"
   ]
  },
  {
   "cell_type": "markdown",
   "id": "c61ef0ee",
   "metadata": {},
   "source": [
    "El dataset cuenta con $16534$ tuplas y $11$ atributos."
   ]
  },
  {
   "cell_type": "code",
   "execution_count": 89,
   "id": "f8338df7",
   "metadata": {},
   "outputs": [
    {
     "data": {
      "text/plain": [
       "Index(['work_year', 'experience_level', 'employment_type', 'job_title',\n",
       "       'salary', 'salary_currency', 'salary_in_usd', 'employee_residence',\n",
       "       'remote_ratio', 'company_location', 'company_size'],\n",
       "      dtype='object')"
      ]
     },
     "execution_count": 89,
     "metadata": {},
     "output_type": "execute_result"
    }
   ],
   "source": [
    "df.columns"
   ]
  },
  {
   "cell_type": "markdown",
   "id": "646f132b",
   "metadata": {},
   "source": [
    "Donde el significado de cada columna es el siguiente:\n",
    "- **experience_level:** Level of professional experience (e.g., junior, mid, senior).\n",
    "- **employment_type:** Type of job contract (e.g., full-time, part-time, contract).\n",
    "- **job_title:** The specific role or title of the employee (e.g., Data Engineer).\n",
    "- **salary:** The compensation received, in the original currency.\n",
    "- **salary_currency:** The currency in which the salary is paid.\n",
    "- **salary_in_usd:** The salary converted into US dollars for comparison.\n",
    "- **employee_residence:** The location where the employee resides.\n",
    "- **remote_ratio:** Percentage of work done remotely.\n",
    "- **company_location:** The geographical location of the company.\n",
    "- **company_size:** The scale of the company, often based on employee count."
   ]
  },
  {
   "cell_type": "code",
   "execution_count": 90,
   "id": "23442031",
   "metadata": {},
   "outputs": [
    {
     "data": {
      "text/html": [
       "<div>\n",
       "<style scoped>\n",
       "    .dataframe tbody tr th:only-of-type {\n",
       "        vertical-align: middle;\n",
       "    }\n",
       "\n",
       "    .dataframe tbody tr th {\n",
       "        vertical-align: top;\n",
       "    }\n",
       "\n",
       "    .dataframe thead th {\n",
       "        text-align: right;\n",
       "    }\n",
       "</style>\n",
       "<table border=\"1\" class=\"dataframe\">\n",
       "  <thead>\n",
       "    <tr style=\"text-align: right;\">\n",
       "      <th></th>\n",
       "      <th>work_year</th>\n",
       "      <th>experience_level</th>\n",
       "      <th>employment_type</th>\n",
       "      <th>job_title</th>\n",
       "      <th>salary</th>\n",
       "      <th>salary_currency</th>\n",
       "      <th>salary_in_usd</th>\n",
       "      <th>employee_residence</th>\n",
       "      <th>remote_ratio</th>\n",
       "      <th>company_location</th>\n",
       "      <th>company_size</th>\n",
       "    </tr>\n",
       "  </thead>\n",
       "  <tbody>\n",
       "    <tr>\n",
       "      <th>0</th>\n",
       "      <td>2024</td>\n",
       "      <td>SE</td>\n",
       "      <td>FT</td>\n",
       "      <td>AI Engineer</td>\n",
       "      <td>202730</td>\n",
       "      <td>USD</td>\n",
       "      <td>202730</td>\n",
       "      <td>US</td>\n",
       "      <td>0</td>\n",
       "      <td>US</td>\n",
       "      <td>M</td>\n",
       "    </tr>\n",
       "    <tr>\n",
       "      <th>1</th>\n",
       "      <td>2024</td>\n",
       "      <td>SE</td>\n",
       "      <td>FT</td>\n",
       "      <td>AI Engineer</td>\n",
       "      <td>92118</td>\n",
       "      <td>USD</td>\n",
       "      <td>92118</td>\n",
       "      <td>US</td>\n",
       "      <td>0</td>\n",
       "      <td>US</td>\n",
       "      <td>M</td>\n",
       "    </tr>\n",
       "    <tr>\n",
       "      <th>2</th>\n",
       "      <td>2024</td>\n",
       "      <td>SE</td>\n",
       "      <td>FT</td>\n",
       "      <td>Data Engineer</td>\n",
       "      <td>130500</td>\n",
       "      <td>USD</td>\n",
       "      <td>130500</td>\n",
       "      <td>US</td>\n",
       "      <td>0</td>\n",
       "      <td>US</td>\n",
       "      <td>M</td>\n",
       "    </tr>\n",
       "    <tr>\n",
       "      <th>3</th>\n",
       "      <td>2024</td>\n",
       "      <td>SE</td>\n",
       "      <td>FT</td>\n",
       "      <td>Data Engineer</td>\n",
       "      <td>96000</td>\n",
       "      <td>USD</td>\n",
       "      <td>96000</td>\n",
       "      <td>US</td>\n",
       "      <td>0</td>\n",
       "      <td>US</td>\n",
       "      <td>M</td>\n",
       "    </tr>\n",
       "    <tr>\n",
       "      <th>4</th>\n",
       "      <td>2024</td>\n",
       "      <td>SE</td>\n",
       "      <td>FT</td>\n",
       "      <td>Machine Learning Engineer</td>\n",
       "      <td>190000</td>\n",
       "      <td>USD</td>\n",
       "      <td>190000</td>\n",
       "      <td>US</td>\n",
       "      <td>0</td>\n",
       "      <td>US</td>\n",
       "      <td>M</td>\n",
       "    </tr>\n",
       "  </tbody>\n",
       "</table>\n",
       "</div>"
      ],
      "text/plain": [
       "   work_year experience_level employment_type                  job_title  \\\n",
       "0       2024               SE              FT                AI Engineer   \n",
       "1       2024               SE              FT                AI Engineer   \n",
       "2       2024               SE              FT              Data Engineer   \n",
       "3       2024               SE              FT              Data Engineer   \n",
       "4       2024               SE              FT  Machine Learning Engineer   \n",
       "\n",
       "   salary salary_currency  salary_in_usd employee_residence  remote_ratio  \\\n",
       "0  202730             USD         202730                 US             0   \n",
       "1   92118             USD          92118                 US             0   \n",
       "2  130500             USD         130500                 US             0   \n",
       "3   96000             USD          96000                 US             0   \n",
       "4  190000             USD         190000                 US             0   \n",
       "\n",
       "  company_location company_size  \n",
       "0               US            M  \n",
       "1               US            M  \n",
       "2               US            M  \n",
       "3               US            M  \n",
       "4               US            M  "
      ]
     },
     "execution_count": 90,
     "metadata": {},
     "output_type": "execute_result"
    }
   ],
   "source": [
    "df.head()"
   ]
  },
  {
   "cell_type": "code",
   "execution_count": 91,
   "id": "47a69dbf",
   "metadata": {},
   "outputs": [
    {
     "name": "stdout",
     "output_type": "stream",
     "text": [
      "<class 'pandas.core.frame.DataFrame'>\n",
      "RangeIndex: 16534 entries, 0 to 16533\n",
      "Data columns (total 11 columns):\n",
      " #   Column              Non-Null Count  Dtype \n",
      "---  ------              --------------  ----- \n",
      " 0   work_year           16534 non-null  int64 \n",
      " 1   experience_level    16534 non-null  object\n",
      " 2   employment_type     16534 non-null  object\n",
      " 3   job_title           16534 non-null  object\n",
      " 4   salary              16534 non-null  int64 \n",
      " 5   salary_currency     16534 non-null  object\n",
      " 6   salary_in_usd       16534 non-null  int64 \n",
      " 7   employee_residence  16534 non-null  object\n",
      " 8   remote_ratio        16534 non-null  int64 \n",
      " 9   company_location    16534 non-null  object\n",
      " 10  company_size        16534 non-null  object\n",
      "dtypes: int64(4), object(7)\n",
      "memory usage: 1.4+ MB\n"
     ]
    }
   ],
   "source": [
    "df.info()"
   ]
  },
  {
   "cell_type": "markdown",
   "id": "4c08fe42",
   "metadata": {},
   "source": [
    "Verificaremos la cantidad de nulos en cada columna con el siguiente comando:"
   ]
  },
  {
   "cell_type": "code",
   "execution_count": 92,
   "id": "c91b4348",
   "metadata": {},
   "outputs": [
    {
     "data": {
      "text/plain": [
       "work_year             0\n",
       "experience_level      0\n",
       "employment_type       0\n",
       "job_title             0\n",
       "salary                0\n",
       "salary_currency       0\n",
       "salary_in_usd         0\n",
       "employee_residence    0\n",
       "remote_ratio          0\n",
       "company_location      0\n",
       "company_size          0\n",
       "dtype: int64"
      ]
     },
     "execution_count": 92,
     "metadata": {},
     "output_type": "execute_result"
    }
   ],
   "source": [
    "df.isnull().sum()"
   ]
  },
  {
   "cell_type": "markdown",
   "id": "8be2282d",
   "metadata": {},
   "source": [
    "Al parecer, el dataset no tiene ningun atributo nulo, por lo que no será necesario aplicar ninguna técnica para manejar valores nulos"
   ]
  },
  {
   "cell_type": "code",
   "execution_count": 93,
   "id": "c6a7982d",
   "metadata": {},
   "outputs": [
    {
     "data": {
      "text/html": [
       "<div>\n",
       "<style scoped>\n",
       "    .dataframe tbody tr th:only-of-type {\n",
       "        vertical-align: middle;\n",
       "    }\n",
       "\n",
       "    .dataframe tbody tr th {\n",
       "        vertical-align: top;\n",
       "    }\n",
       "\n",
       "    .dataframe thead th {\n",
       "        text-align: right;\n",
       "    }\n",
       "</style>\n",
       "<table border=\"1\" class=\"dataframe\">\n",
       "  <thead>\n",
       "    <tr style=\"text-align: right;\">\n",
       "      <th></th>\n",
       "      <th>work_year</th>\n",
       "      <th>salary</th>\n",
       "      <th>salary_in_usd</th>\n",
       "      <th>remote_ratio</th>\n",
       "    </tr>\n",
       "  </thead>\n",
       "  <tbody>\n",
       "    <tr>\n",
       "      <th>count</th>\n",
       "      <td>16534.000000</td>\n",
       "      <td>1.653400e+04</td>\n",
       "      <td>16534.000000</td>\n",
       "      <td>16534.000000</td>\n",
       "    </tr>\n",
       "    <tr>\n",
       "      <th>mean</th>\n",
       "      <td>2023.226866</td>\n",
       "      <td>1.637270e+05</td>\n",
       "      <td>149686.777973</td>\n",
       "      <td>32.003750</td>\n",
       "    </tr>\n",
       "    <tr>\n",
       "      <th>std</th>\n",
       "      <td>0.713558</td>\n",
       "      <td>3.402057e+05</td>\n",
       "      <td>68505.293156</td>\n",
       "      <td>46.245158</td>\n",
       "    </tr>\n",
       "    <tr>\n",
       "      <th>min</th>\n",
       "      <td>2020.000000</td>\n",
       "      <td>1.400000e+04</td>\n",
       "      <td>15000.000000</td>\n",
       "      <td>0.000000</td>\n",
       "    </tr>\n",
       "    <tr>\n",
       "      <th>25%</th>\n",
       "      <td>2023.000000</td>\n",
       "      <td>1.017630e+05</td>\n",
       "      <td>101125.000000</td>\n",
       "      <td>0.000000</td>\n",
       "    </tr>\n",
       "    <tr>\n",
       "      <th>50%</th>\n",
       "      <td>2023.000000</td>\n",
       "      <td>1.422000e+05</td>\n",
       "      <td>141300.000000</td>\n",
       "      <td>0.000000</td>\n",
       "    </tr>\n",
       "    <tr>\n",
       "      <th>75%</th>\n",
       "      <td>2024.000000</td>\n",
       "      <td>1.872000e+05</td>\n",
       "      <td>185900.000000</td>\n",
       "      <td>100.000000</td>\n",
       "    </tr>\n",
       "    <tr>\n",
       "      <th>max</th>\n",
       "      <td>2024.000000</td>\n",
       "      <td>3.040000e+07</td>\n",
       "      <td>800000.000000</td>\n",
       "      <td>100.000000</td>\n",
       "    </tr>\n",
       "  </tbody>\n",
       "</table>\n",
       "</div>"
      ],
      "text/plain": [
       "          work_year        salary  salary_in_usd  remote_ratio\n",
       "count  16534.000000  1.653400e+04   16534.000000  16534.000000\n",
       "mean    2023.226866  1.637270e+05  149686.777973     32.003750\n",
       "std        0.713558  3.402057e+05   68505.293156     46.245158\n",
       "min     2020.000000  1.400000e+04   15000.000000      0.000000\n",
       "25%     2023.000000  1.017630e+05  101125.000000      0.000000\n",
       "50%     2023.000000  1.422000e+05  141300.000000      0.000000\n",
       "75%     2024.000000  1.872000e+05  185900.000000    100.000000\n",
       "max     2024.000000  3.040000e+07  800000.000000    100.000000"
      ]
     },
     "execution_count": 93,
     "metadata": {},
     "output_type": "execute_result"
    }
   ],
   "source": [
    "df.describe()"
   ]
  },
  {
   "cell_type": "markdown",
   "id": "6758c38f",
   "metadata": {},
   "source": [
    "- **Columna `work_year`:**  \n",
    "  Solo interesan los valores mínimo y máximo para conocer el rango temporal del dataset. Ambos están dentro de lo esperado, por lo que no hay problemas con esta variable.\n",
    "\n",
    "- **Columna `remote_ratio`:**  \n",
    "  Recordemos que esta representa el porcentaje de trabajo remoto, y su valor máximo es 100, lo cual está dentro del rango permitido (0 a 100).\n",
    "\n",
    "- **Columna `salary`:**  \n",
    "  Esta columna no es tan útil para el análisis, ya que los salarios están en distintas monedas, lo que impide una comparación directa (luego se eliminará).\n",
    "\n",
    "- **Columna `salary_in_usd`:**  \n",
    "  Esta sí resulta útil, pues los valores están estandarizados en dólares estadounidenses. Además, los valores observados están dentro de un rango razonable, por lo que no se identifican anomalías.\n"
   ]
  },
  {
   "cell_type": "code",
   "execution_count": 94,
   "id": "134ea25f",
   "metadata": {},
   "outputs": [
    {
     "data": {
      "text/html": [
       "<div>\n",
       "<style scoped>\n",
       "    .dataframe tbody tr th:only-of-type {\n",
       "        vertical-align: middle;\n",
       "    }\n",
       "\n",
       "    .dataframe tbody tr th {\n",
       "        vertical-align: top;\n",
       "    }\n",
       "\n",
       "    .dataframe thead th {\n",
       "        text-align: right;\n",
       "    }\n",
       "</style>\n",
       "<table border=\"1\" class=\"dataframe\">\n",
       "  <thead>\n",
       "    <tr style=\"text-align: right;\">\n",
       "      <th></th>\n",
       "      <th>work_year</th>\n",
       "      <th>experience_level</th>\n",
       "      <th>employment_type</th>\n",
       "      <th>job_title</th>\n",
       "      <th>salary</th>\n",
       "      <th>salary_currency</th>\n",
       "      <th>salary_in_usd</th>\n",
       "      <th>employee_residence</th>\n",
       "      <th>remote_ratio</th>\n",
       "      <th>company_location</th>\n",
       "      <th>company_size</th>\n",
       "    </tr>\n",
       "  </thead>\n",
       "  <tbody>\n",
       "    <tr>\n",
       "      <th>62</th>\n",
       "      <td>2024</td>\n",
       "      <td>SE</td>\n",
       "      <td>FT</td>\n",
       "      <td>Machine Learning Engineer</td>\n",
       "      <td>190000</td>\n",
       "      <td>USD</td>\n",
       "      <td>190000</td>\n",
       "      <td>US</td>\n",
       "      <td>0</td>\n",
       "      <td>US</td>\n",
       "      <td>M</td>\n",
       "    </tr>\n",
       "    <tr>\n",
       "      <th>151</th>\n",
       "      <td>2024</td>\n",
       "      <td>SE</td>\n",
       "      <td>FT</td>\n",
       "      <td>Research Analyst</td>\n",
       "      <td>130000</td>\n",
       "      <td>USD</td>\n",
       "      <td>130000</td>\n",
       "      <td>US</td>\n",
       "      <td>0</td>\n",
       "      <td>US</td>\n",
       "      <td>M</td>\n",
       "    </tr>\n",
       "    <tr>\n",
       "      <th>238</th>\n",
       "      <td>2024</td>\n",
       "      <td>MI</td>\n",
       "      <td>FT</td>\n",
       "      <td>Data Analyst</td>\n",
       "      <td>95000</td>\n",
       "      <td>USD</td>\n",
       "      <td>95000</td>\n",
       "      <td>US</td>\n",
       "      <td>0</td>\n",
       "      <td>US</td>\n",
       "      <td>M</td>\n",
       "    </tr>\n",
       "    <tr>\n",
       "      <th>239</th>\n",
       "      <td>2024</td>\n",
       "      <td>MI</td>\n",
       "      <td>FT</td>\n",
       "      <td>Data Analyst</td>\n",
       "      <td>80000</td>\n",
       "      <td>USD</td>\n",
       "      <td>80000</td>\n",
       "      <td>US</td>\n",
       "      <td>0</td>\n",
       "      <td>US</td>\n",
       "      <td>M</td>\n",
       "    </tr>\n",
       "    <tr>\n",
       "      <th>247</th>\n",
       "      <td>2024</td>\n",
       "      <td>SE</td>\n",
       "      <td>FT</td>\n",
       "      <td>Data Scientist</td>\n",
       "      <td>146000</td>\n",
       "      <td>USD</td>\n",
       "      <td>146000</td>\n",
       "      <td>US</td>\n",
       "      <td>0</td>\n",
       "      <td>US</td>\n",
       "      <td>M</td>\n",
       "    </tr>\n",
       "    <tr>\n",
       "      <th>...</th>\n",
       "      <td>...</td>\n",
       "      <td>...</td>\n",
       "      <td>...</td>\n",
       "      <td>...</td>\n",
       "      <td>...</td>\n",
       "      <td>...</td>\n",
       "      <td>...</td>\n",
       "      <td>...</td>\n",
       "      <td>...</td>\n",
       "      <td>...</td>\n",
       "      <td>...</td>\n",
       "    </tr>\n",
       "    <tr>\n",
       "      <th>16235</th>\n",
       "      <td>2022</td>\n",
       "      <td>MI</td>\n",
       "      <td>FT</td>\n",
       "      <td>Data Scientist</td>\n",
       "      <td>78000</td>\n",
       "      <td>USD</td>\n",
       "      <td>78000</td>\n",
       "      <td>US</td>\n",
       "      <td>100</td>\n",
       "      <td>US</td>\n",
       "      <td>M</td>\n",
       "    </tr>\n",
       "    <tr>\n",
       "      <th>16236</th>\n",
       "      <td>2022</td>\n",
       "      <td>SE</td>\n",
       "      <td>FT</td>\n",
       "      <td>Data Engineer</td>\n",
       "      <td>135000</td>\n",
       "      <td>USD</td>\n",
       "      <td>135000</td>\n",
       "      <td>US</td>\n",
       "      <td>100</td>\n",
       "      <td>US</td>\n",
       "      <td>M</td>\n",
       "    </tr>\n",
       "    <tr>\n",
       "      <th>16237</th>\n",
       "      <td>2022</td>\n",
       "      <td>SE</td>\n",
       "      <td>FT</td>\n",
       "      <td>Data Engineer</td>\n",
       "      <td>115000</td>\n",
       "      <td>USD</td>\n",
       "      <td>115000</td>\n",
       "      <td>US</td>\n",
       "      <td>100</td>\n",
       "      <td>US</td>\n",
       "      <td>M</td>\n",
       "    </tr>\n",
       "    <tr>\n",
       "      <th>16376</th>\n",
       "      <td>2021</td>\n",
       "      <td>MI</td>\n",
       "      <td>FT</td>\n",
       "      <td>Data Engineer</td>\n",
       "      <td>200000</td>\n",
       "      <td>USD</td>\n",
       "      <td>200000</td>\n",
       "      <td>US</td>\n",
       "      <td>100</td>\n",
       "      <td>US</td>\n",
       "      <td>L</td>\n",
       "    </tr>\n",
       "    <tr>\n",
       "      <th>16490</th>\n",
       "      <td>2021</td>\n",
       "      <td>MI</td>\n",
       "      <td>FT</td>\n",
       "      <td>Data Scientist</td>\n",
       "      <td>76760</td>\n",
       "      <td>EUR</td>\n",
       "      <td>90734</td>\n",
       "      <td>DE</td>\n",
       "      <td>50</td>\n",
       "      <td>DE</td>\n",
       "      <td>L</td>\n",
       "    </tr>\n",
       "  </tbody>\n",
       "</table>\n",
       "<p>6421 rows × 11 columns</p>\n",
       "</div>"
      ],
      "text/plain": [
       "       work_year experience_level employment_type                  job_title  \\\n",
       "62          2024               SE              FT  Machine Learning Engineer   \n",
       "151         2024               SE              FT           Research Analyst   \n",
       "238         2024               MI              FT               Data Analyst   \n",
       "239         2024               MI              FT               Data Analyst   \n",
       "247         2024               SE              FT             Data Scientist   \n",
       "...          ...              ...             ...                        ...   \n",
       "16235       2022               MI              FT             Data Scientist   \n",
       "16236       2022               SE              FT              Data Engineer   \n",
       "16237       2022               SE              FT              Data Engineer   \n",
       "16376       2021               MI              FT              Data Engineer   \n",
       "16490       2021               MI              FT             Data Scientist   \n",
       "\n",
       "       salary salary_currency  salary_in_usd employee_residence  remote_ratio  \\\n",
       "62     190000             USD         190000                 US             0   \n",
       "151    130000             USD         130000                 US             0   \n",
       "238     95000             USD          95000                 US             0   \n",
       "239     80000             USD          80000                 US             0   \n",
       "247    146000             USD         146000                 US             0   \n",
       "...       ...             ...            ...                ...           ...   \n",
       "16235   78000             USD          78000                 US           100   \n",
       "16236  135000             USD         135000                 US           100   \n",
       "16237  115000             USD         115000                 US           100   \n",
       "16376  200000             USD         200000                 US           100   \n",
       "16490   76760             EUR          90734                 DE            50   \n",
       "\n",
       "      company_location company_size  \n",
       "62                  US            M  \n",
       "151                 US            M  \n",
       "238                 US            M  \n",
       "239                 US            M  \n",
       "247                 US            M  \n",
       "...                ...          ...  \n",
       "16235               US            M  \n",
       "16236               US            M  \n",
       "16237               US            M  \n",
       "16376               US            L  \n",
       "16490               DE            L  \n",
       "\n",
       "[6421 rows x 11 columns]"
      ]
     },
     "execution_count": 94,
     "metadata": {},
     "output_type": "execute_result"
    }
   ],
   "source": [
    "df[df.duplicated()]"
   ]
  },
  {
   "cell_type": "markdown",
   "id": "4bd50843",
   "metadata": {},
   "source": [
    "Hay $6421$ tuplas que se repiten, verificaremos si en efecto se están repitiendo"
   ]
  },
  {
   "cell_type": "code",
   "execution_count": 100,
   "id": "0283761d",
   "metadata": {},
   "outputs": [],
   "source": [
    "duplicated_rows = df[df.duplicated()]  # todas las duplicadas\n",
    "random_duplicated_row = duplicated_rows.iloc[9]  # random fila duplicada\n",
    "repeated_tuple_rows = df[df.eq(random_duplicated_row).all(axis=1)] # Filtra todas las filas iguales a esa tupla\n"
   ]
  },
  {
   "cell_type": "code",
   "execution_count": 101,
   "id": "bb889b4e",
   "metadata": {},
   "outputs": [
    {
     "data": {
      "text/html": [
       "<div>\n",
       "<style scoped>\n",
       "    .dataframe tbody tr th:only-of-type {\n",
       "        vertical-align: middle;\n",
       "    }\n",
       "\n",
       "    .dataframe tbody tr th {\n",
       "        vertical-align: top;\n",
       "    }\n",
       "\n",
       "    .dataframe thead th {\n",
       "        text-align: right;\n",
       "    }\n",
       "</style>\n",
       "<table border=\"1\" class=\"dataframe\">\n",
       "  <thead>\n",
       "    <tr style=\"text-align: right;\">\n",
       "      <th></th>\n",
       "      <th>work_year</th>\n",
       "      <th>experience_level</th>\n",
       "      <th>employment_type</th>\n",
       "      <th>job_title</th>\n",
       "      <th>salary</th>\n",
       "      <th>salary_currency</th>\n",
       "      <th>salary_in_usd</th>\n",
       "      <th>employee_residence</th>\n",
       "      <th>remote_ratio</th>\n",
       "      <th>company_location</th>\n",
       "      <th>company_size</th>\n",
       "    </tr>\n",
       "  </thead>\n",
       "  <tbody>\n",
       "    <tr>\n",
       "      <th>227</th>\n",
       "      <td>2024</td>\n",
       "      <td>MI</td>\n",
       "      <td>FT</td>\n",
       "      <td>Data Scientist</td>\n",
       "      <td>90000</td>\n",
       "      <td>USD</td>\n",
       "      <td>90000</td>\n",
       "      <td>US</td>\n",
       "      <td>100</td>\n",
       "      <td>US</td>\n",
       "      <td>M</td>\n",
       "    </tr>\n",
       "    <tr>\n",
       "      <th>303</th>\n",
       "      <td>2024</td>\n",
       "      <td>MI</td>\n",
       "      <td>FT</td>\n",
       "      <td>Data Scientist</td>\n",
       "      <td>90000</td>\n",
       "      <td>USD</td>\n",
       "      <td>90000</td>\n",
       "      <td>US</td>\n",
       "      <td>100</td>\n",
       "      <td>US</td>\n",
       "      <td>M</td>\n",
       "    </tr>\n",
       "    <tr>\n",
       "      <th>1791</th>\n",
       "      <td>2024</td>\n",
       "      <td>MI</td>\n",
       "      <td>FT</td>\n",
       "      <td>Data Scientist</td>\n",
       "      <td>90000</td>\n",
       "      <td>USD</td>\n",
       "      <td>90000</td>\n",
       "      <td>US</td>\n",
       "      <td>100</td>\n",
       "      <td>US</td>\n",
       "      <td>M</td>\n",
       "    </tr>\n",
       "    <tr>\n",
       "      <th>1939</th>\n",
       "      <td>2024</td>\n",
       "      <td>MI</td>\n",
       "      <td>FT</td>\n",
       "      <td>Data Scientist</td>\n",
       "      <td>90000</td>\n",
       "      <td>USD</td>\n",
       "      <td>90000</td>\n",
       "      <td>US</td>\n",
       "      <td>100</td>\n",
       "      <td>US</td>\n",
       "      <td>M</td>\n",
       "    </tr>\n",
       "    <tr>\n",
       "      <th>2785</th>\n",
       "      <td>2024</td>\n",
       "      <td>MI</td>\n",
       "      <td>FT</td>\n",
       "      <td>Data Scientist</td>\n",
       "      <td>90000</td>\n",
       "      <td>USD</td>\n",
       "      <td>90000</td>\n",
       "      <td>US</td>\n",
       "      <td>100</td>\n",
       "      <td>US</td>\n",
       "      <td>M</td>\n",
       "    </tr>\n",
       "    <tr>\n",
       "      <th>3712</th>\n",
       "      <td>2024</td>\n",
       "      <td>MI</td>\n",
       "      <td>FT</td>\n",
       "      <td>Data Scientist</td>\n",
       "      <td>90000</td>\n",
       "      <td>USD</td>\n",
       "      <td>90000</td>\n",
       "      <td>US</td>\n",
       "      <td>100</td>\n",
       "      <td>US</td>\n",
       "      <td>M</td>\n",
       "    </tr>\n",
       "    <tr>\n",
       "      <th>3783</th>\n",
       "      <td>2024</td>\n",
       "      <td>MI</td>\n",
       "      <td>FT</td>\n",
       "      <td>Data Scientist</td>\n",
       "      <td>90000</td>\n",
       "      <td>USD</td>\n",
       "      <td>90000</td>\n",
       "      <td>US</td>\n",
       "      <td>100</td>\n",
       "      <td>US</td>\n",
       "      <td>M</td>\n",
       "    </tr>\n",
       "    <tr>\n",
       "      <th>5209</th>\n",
       "      <td>2024</td>\n",
       "      <td>MI</td>\n",
       "      <td>FT</td>\n",
       "      <td>Data Scientist</td>\n",
       "      <td>90000</td>\n",
       "      <td>USD</td>\n",
       "      <td>90000</td>\n",
       "      <td>US</td>\n",
       "      <td>100</td>\n",
       "      <td>US</td>\n",
       "      <td>M</td>\n",
       "    </tr>\n",
       "    <tr>\n",
       "      <th>5637</th>\n",
       "      <td>2024</td>\n",
       "      <td>MI</td>\n",
       "      <td>FT</td>\n",
       "      <td>Data Scientist</td>\n",
       "      <td>90000</td>\n",
       "      <td>USD</td>\n",
       "      <td>90000</td>\n",
       "      <td>US</td>\n",
       "      <td>100</td>\n",
       "      <td>US</td>\n",
       "      <td>M</td>\n",
       "    </tr>\n",
       "  </tbody>\n",
       "</table>\n",
       "</div>"
      ],
      "text/plain": [
       "      work_year experience_level employment_type       job_title  salary  \\\n",
       "227        2024               MI              FT  Data Scientist   90000   \n",
       "303        2024               MI              FT  Data Scientist   90000   \n",
       "1791       2024               MI              FT  Data Scientist   90000   \n",
       "1939       2024               MI              FT  Data Scientist   90000   \n",
       "2785       2024               MI              FT  Data Scientist   90000   \n",
       "3712       2024               MI              FT  Data Scientist   90000   \n",
       "3783       2024               MI              FT  Data Scientist   90000   \n",
       "5209       2024               MI              FT  Data Scientist   90000   \n",
       "5637       2024               MI              FT  Data Scientist   90000   \n",
       "\n",
       "     salary_currency  salary_in_usd employee_residence  remote_ratio  \\\n",
       "227              USD          90000                 US           100   \n",
       "303              USD          90000                 US           100   \n",
       "1791             USD          90000                 US           100   \n",
       "1939             USD          90000                 US           100   \n",
       "2785             USD          90000                 US           100   \n",
       "3712             USD          90000                 US           100   \n",
       "3783             USD          90000                 US           100   \n",
       "5209             USD          90000                 US           100   \n",
       "5637             USD          90000                 US           100   \n",
       "\n",
       "     company_location company_size  \n",
       "227                US            M  \n",
       "303                US            M  \n",
       "1791               US            M  \n",
       "1939               US            M  \n",
       "2785               US            M  \n",
       "3712               US            M  \n",
       "3783               US            M  \n",
       "5209               US            M  \n",
       "5637               US            M  "
      ]
     },
     "execution_count": 101,
     "metadata": {},
     "output_type": "execute_result"
    }
   ],
   "source": [
    "repeated_tuple_rows"
   ]
  },
  {
   "cell_type": "markdown",
   "id": "31a130e0",
   "metadata": {},
   "source": [
    "\n",
    "En efecto, se identificaron filas duplicadas dentro del dataset. La decisión de eliminarlas depende directamente del objetivo del análisis y del tipo de consultas que se desean realizar. En este caso, se optó por eliminar las filas duplicada, puesto que en este caso específico, las filas duplicadas no aportan información adicional ni valor analítico, ya que representan exactamente los mismos datos ya existentes. Mantener estos registros podría introducir sesgos o distorsiones en los resultados estadísticos o en los modelos que se generen. Por ello, se opta por su eliminación para asegurar la calidad, precisión y eficiencia del análisis posterior.\n"
   ]
  },
  {
   "cell_type": "code",
   "execution_count": 114,
   "id": "89d015ee",
   "metadata": {},
   "outputs": [],
   "source": [
    "df_copy = df.copy()\n",
    "df_copy.drop_duplicates(inplace=True) # se eliminan en el mismo DataFrame"
   ]
  },
  {
   "cell_type": "code",
   "execution_count": 115,
   "id": "0b7e9975",
   "metadata": {},
   "outputs": [
    {
     "data": {
      "text/plain": [
       "(10113, 11)"
      ]
     },
     "execution_count": 115,
     "metadata": {},
     "output_type": "execute_result"
    }
   ],
   "source": [
    "df_copy.shape"
   ]
  },
  {
   "cell_type": "markdown",
   "id": "3628e56c",
   "metadata": {},
   "source": [
    "Ahora veremos que datos hay en cada columna, y si hay algún dato anormal se lo borrará del DataFrame    "
   ]
  },
  {
   "cell_type": "code",
   "execution_count": 59,
   "id": "c6882a4b",
   "metadata": {},
   "outputs": [
    {
     "data": {
      "text/plain": [
       "array(['SE', 'MI', 'EN', 'EX'], dtype=object)"
      ]
     },
     "execution_count": 59,
     "metadata": {},
     "output_type": "execute_result"
    }
   ],
   "source": [
    "df.experience_level.unique()"
   ]
  },
  {
   "cell_type": "code",
   "execution_count": 60,
   "id": "45a903d4",
   "metadata": {},
   "outputs": [
    {
     "data": {
      "text/plain": [
       "array(['FT', 'CT', 'PT', 'FL'], dtype=object)"
      ]
     },
     "execution_count": 60,
     "metadata": {},
     "output_type": "execute_result"
    }
   ],
   "source": [
    "df.employment_type.unique()"
   ]
  },
  {
   "cell_type": "code",
   "execution_count": 61,
   "id": "f9b571a7",
   "metadata": {},
   "outputs": [
    {
     "data": {
      "text/plain": [
       "array(['AI Engineer', 'Data Engineer', 'Machine Learning Engineer',\n",
       "       'ML Engineer', 'Data Analyst', 'NLP Engineer', 'Data Scientist',\n",
       "       'Applied Scientist', 'Data Manager', 'Data Architect',\n",
       "       'Data Operations Manager', 'Research Scientist',\n",
       "       'Data Science Manager', 'Business Intelligence Engineer',\n",
       "       'Business Intelligence', 'Data Modeler',\n",
       "       'Data Integration Specialist', 'Data Product Manager',\n",
       "       'Data Visualization Specialist', 'Data Science', 'Data Specialist',\n",
       "       'Business Intelligence Lead', 'Research Analyst',\n",
       "       'Business Intelligence Analyst', 'AI Software Engineer',\n",
       "       'Machine Learning Scientist', 'Data Science Engineer',\n",
       "       'Machine Learning Operations Engineer', 'Analytics Engineer',\n",
       "       'Data Management Analyst',\n",
       "       'Encounter Data Management Professional',\n",
       "       'Data Analytics Specialist', 'Head of Data', 'Data Analytics Lead',\n",
       "       'Research Engineer', 'AI Scientist',\n",
       "       'Business Intelligence Developer', 'Machine Learning Developer',\n",
       "       'Data Management Specialist', 'Data Infrastructure Engineer',\n",
       "       'BI Developer', 'Admin & Data Analyst', 'Insight Analyst',\n",
       "       'Consultant Data Engineer', 'Business Intelligence Manager',\n",
       "       'Manager Data Management', 'Data Quality Manager',\n",
       "       'Data Analytics Manager', 'Robotics Engineer',\n",
       "       'Business Intelligence Specialist', 'Data Operations Analyst',\n",
       "       'Director of Business Intelligence', 'Data Product Owner',\n",
       "       'AI Research Scientist', 'Data Operations Specialist',\n",
       "       'Bear Robotics', 'Data Science Consultant', 'Data Lead',\n",
       "       'Data Operations Associate', 'AI Architect', 'Lead Data Scientist',\n",
       "       'MLOps Engineer', 'BI Analyst', 'Applied Research Scientist',\n",
       "       'Prompt Engineer', 'Data Integration Engineer',\n",
       "       'Machine Learning Infrastructure Engineer', 'Data Developer',\n",
       "       'CRM Data Analyst', 'ETL Developer', 'Cloud Database Engineer',\n",
       "       'Data Science Analyst', 'Data Science Practitioner',\n",
       "       'BI Data Analyst', 'Applied Data Scientist',\n",
       "       'Data Quality Engineer', 'Computational Biologist',\n",
       "       'Big Data Engineer', 'Data Analytics Associate',\n",
       "       'Data Reporting Analyst', 'Data Management Consultant',\n",
       "       'Data Quality Analyst', 'Robotics Software Engineer',\n",
       "       'Machine Learning Researcher', 'Data DevOps Engineer',\n",
       "       'Data Science Director', 'Data Strategist', 'Big Data Developer',\n",
       "       'Quantitative Research Analyst', 'Lead Machine Learning Engineer',\n",
       "       'Machine Learning Research Engineer', 'Data Analytics Consultant',\n",
       "       'AI Research Engineer', 'AI Programmer', 'ETL Engineer',\n",
       "       'AI Product Manager', 'AI Developer', 'Computer Vision Engineer',\n",
       "       'Head of Machine Learning', 'Data Analyst Lead',\n",
       "       'Data Integration Developer', 'ML Ops Engineer',\n",
       "       'Data Pipeline Engineer', 'Lead Data Analyst', 'Data Science Lead',\n",
       "       'Director of Data Science', 'Managing Director Data Science',\n",
       "       'Business Data Analyst', 'Marketing Data Scientist',\n",
       "       'Deep Learning Engineer', 'Machine Learning Modeler',\n",
       "       'Decision Scientist', 'Financial Data Analyst',\n",
       "       'Data Strategy Manager', 'Data Visualization Engineer',\n",
       "       'Azure Data Engineer', 'Principal Data Scientist',\n",
       "       'Staff Data Analyst', 'Machine Learning Software Engineer',\n",
       "       'Applied Machine Learning Scientist', 'Data Operations Engineer',\n",
       "       'Machine Learning Manager', 'Principal Machine Learning Engineer',\n",
       "       'Principal Data Engineer', 'Power BI Developer',\n",
       "       'Head of Data Science', 'Staff Machine Learning Engineer',\n",
       "       'Staff Data Scientist', 'Machine Learning Specialist',\n",
       "       'Business Intelligence Data Analyst', 'Data Modeller',\n",
       "       'Finance Data Analyst', 'Software Data Engineer',\n",
       "       'Compliance Data Analyst', 'Cloud Data Engineer',\n",
       "       'Analytics Engineering Manager', 'AWS Data Architect',\n",
       "       'Product Data Analyst', 'Data Visualization Analyst',\n",
       "       'Autonomous Vehicle Technician', 'Sales Data Analyst',\n",
       "       'Applied Machine Learning Engineer', 'BI Data Engineer',\n",
       "       'Deep Learning Researcher', 'Big Data Architect',\n",
       "       'Computer Vision Software Engineer', 'Marketing Data Engineer',\n",
       "       'Data Science Tech Lead', 'Data Scientist Lead',\n",
       "       'Marketing Data Analyst', 'Principal Data Architect',\n",
       "       'Data Analytics Engineer', 'Cloud Data Architect',\n",
       "       'Lead Data Engineer', 'Principal Data Analyst'], dtype=object)"
      ]
     },
     "execution_count": 61,
     "metadata": {},
     "output_type": "execute_result"
    }
   ],
   "source": [
    "df.job_title.unique()"
   ]
  },
  {
   "cell_type": "code",
   "execution_count": 63,
   "id": "8cf4d376",
   "metadata": {},
   "outputs": [
    {
     "data": {
      "text/plain": [
       "array(['USD', 'GBP', 'CAD', 'EUR', 'DKK', 'INR', 'ILS', 'BRL', 'CHF',\n",
       "       'NZD', 'AUD', 'PLN', 'PHP', 'TRY', 'NOK', 'JPY', 'ZAR', 'HKD',\n",
       "       'SGD', 'THB', 'HUF', 'MXN', 'CLP'], dtype=object)"
      ]
     },
     "execution_count": 63,
     "metadata": {},
     "output_type": "execute_result"
    }
   ],
   "source": [
    "df.salary_currency.unique()"
   ]
  },
  {
   "cell_type": "code",
   "execution_count": 64,
   "id": "abd41f1e",
   "metadata": {},
   "outputs": [
    {
     "data": {
      "text/plain": [
       "array(['US', 'AU', 'GB', 'CA', 'NL', 'LT', 'DK', 'FR', 'ZA', 'NZ', 'AR',\n",
       "       'ES', 'KE', 'LV', 'GE', 'IN', 'DE', 'IL', 'FI', 'AT', 'HR', 'BR',\n",
       "       'CH', 'AE', 'GR', 'PL', 'SA', 'UA', 'EG', 'PH', 'TR', 'OM', 'MX',\n",
       "       'PT', 'BA', 'IT', 'IE', 'EE', 'MT', 'LB', 'RO', 'HU', 'VN', 'NG',\n",
       "       'CZ', 'PK', 'UG', 'CO', 'SI', 'MU', 'AM', 'TH', 'KR', 'QA', 'RU',\n",
       "       'TN', 'GH', 'BE', 'AD', 'EC', 'PE', 'MD', 'NO', 'UZ', 'JP', 'HK',\n",
       "       'CF', 'SG', 'SE', 'KW', 'CY', 'IR', 'AS', 'CN', 'CR', 'CL', 'PR',\n",
       "       'BO', 'DO', 'ID', 'MY', 'HN', 'DZ', 'IQ', 'BG', 'JE', 'RS', 'LU'],\n",
       "      dtype=object)"
      ]
     },
     "execution_count": 64,
     "metadata": {},
     "output_type": "execute_result"
    }
   ],
   "source": [
    "df.employee_residence.unique()"
   ]
  },
  {
   "cell_type": "code",
   "execution_count": 65,
   "id": "ad06d7c5",
   "metadata": {},
   "outputs": [
    {
     "data": {
      "text/plain": [
       "array(['US', 'AU', 'GB', 'CA', 'NL', 'LT', 'DK', 'FR', 'ZA', 'NZ', 'AR',\n",
       "       'ES', 'KE', 'LV', 'IN', 'DE', 'IL', 'FI', 'AT', 'BR', 'CH', 'AE',\n",
       "       'PL', 'SA', 'UA', 'EG', 'PH', 'TR', 'OM', 'MX', 'PT', 'BA', 'IT',\n",
       "       'AS', 'IE', 'EE', 'MT', 'HU', 'LB', 'RO', 'VN', 'NG', 'LU', 'GI',\n",
       "       'CO', 'SI', 'GR', 'MU', 'RU', 'KR', 'CZ', 'QA', 'GH', 'SE', 'AD',\n",
       "       'EC', 'NO', 'JP', 'HK', 'CF', 'SG', 'TH', 'HR', 'AM', 'PK', 'IR',\n",
       "       'BS', 'PR', 'BE', 'ID', 'MY', 'HN', 'DZ', 'IQ', 'CN', 'CL', 'MD'],\n",
       "      dtype=object)"
      ]
     },
     "execution_count": 65,
     "metadata": {},
     "output_type": "execute_result"
    }
   ],
   "source": [
    "df.company_location.unique()"
   ]
  },
  {
   "cell_type": "code",
   "execution_count": 66,
   "id": "1cff9c34",
   "metadata": {},
   "outputs": [
    {
     "data": {
      "text/plain": [
       "array(['M', 'L', 'S'], dtype=object)"
      ]
     },
     "execution_count": 66,
     "metadata": {},
     "output_type": "execute_result"
    }
   ],
   "source": [
    "df.company_size.unique()"
   ]
  },
  {
   "cell_type": "code",
   "execution_count": 44,
   "id": "6e42f563",
   "metadata": {},
   "outputs": [
    {
     "data": {
      "text/plain": [
       "array(['United States', 'South Africa', nan, 'India',\n",
       "       'United States, Ghana, Burkina Faso, United Kingdom, Germany, Ethiopia',\n",
       "       'United Kingdom', 'Germany, Czech Republic', 'Mexico', 'Turkey',\n",
       "       'Australia', 'United States, India, France', 'Finland',\n",
       "       'China, Canada, United States',\n",
       "       'South Africa, United States, Japan', 'Nigeria', 'Japan',\n",
       "       'Spain, United States', 'France', 'Belgium',\n",
       "       'United Kingdom, United States', 'United States, United Kingdom',\n",
       "       'France, United States', 'South Korea', 'Spain',\n",
       "       'United States, Singapore', 'United Kingdom, Australia, France',\n",
       "       'United Kingdom, Australia, France, United States',\n",
       "       'United States, Canada', 'Germany, United States',\n",
       "       'South Africa, United States', 'United States, Mexico',\n",
       "       'United States, Italy, France, Japan',\n",
       "       'United States, Italy, Romania, United Kingdom',\n",
       "       'Australia, United States', 'Argentina, Venezuela',\n",
       "       'United States, United Kingdom, Canada', 'China, Hong Kong',\n",
       "       'Russia', 'Canada', 'Hong Kong', 'United States, China, Hong Kong',\n",
       "       'Italy, United States', 'United States, Germany',\n",
       "       'United Kingdom, Canada, United States', ', South Korea',\n",
       "       'Ireland', 'India, Nepal',\n",
       "       'New Zealand, Australia, France, United States', 'Italy',\n",
       "       'Italy, Brazil, Greece', 'Argentina', 'Jordan', 'Colombia',\n",
       "       'United States, Japan', 'Belgium, United Kingdom',\n",
       "       'Switzerland, United Kingdom, Australia', 'Israel, United States',\n",
       "       'Canada, United States', 'Brazil', 'Argentina, Spain', 'Taiwan',\n",
       "       'United States, Nigeria', 'Bulgaria, United States',\n",
       "       'Spain, United Kingdom, United States', 'United States, China',\n",
       "       'United States, France',\n",
       "       'Spain, France, United Kingdom, United States',\n",
       "       ', France, Algeria', 'Poland', 'Germany',\n",
       "       'France, Israel, Germany, United States, United Kingdom',\n",
       "       'New Zealand', 'Saudi Arabia', 'Thailand', 'Indonesia',\n",
       "       'Egypt, Denmark, Germany', 'United States, Switzerland',\n",
       "       'Hong Kong, Canada, United States', 'Kuwait, United States',\n",
       "       'France, Canada, United States, Spain',\n",
       "       'France, Netherlands, Singapore', 'France, Belgium',\n",
       "       'Ireland, United States, United Kingdom', 'Egypt', 'Malaysia',\n",
       "       'Israel', 'Australia, New Zealand', 'United Kingdom, Germany',\n",
       "       'Belgium, Netherlands', 'South Korea, Czech Republic',\n",
       "       'Australia, Germany', 'Vietnam', 'United Kingdom, Belgium',\n",
       "       'United Kingdom, Australia, United States',\n",
       "       'France, Japan, United States',\n",
       "       'United Kingdom, Germany, Spain, United States',\n",
       "       'United Kingdom, United States, France, Italy',\n",
       "       'United States, Germany, Canada',\n",
       "       'United States, France, Italy, United Kingdom',\n",
       "       'United States, United Kingdom, Germany, Hungary',\n",
       "       'United States, New Zealand', 'Sweden', 'China', 'Lebanon',\n",
       "       'Romania', 'Finland, Germany', 'Lebanon, Syria', 'Philippines',\n",
       "       'Iceland', 'Denmark', 'United States, India',\n",
       "       'Philippines, Singapore, Indonesia',\n",
       "       'China, United States, Canada', 'Lebanon, United Arab Emirates',\n",
       "       'Canada, United States, Denmark', 'United Arab Emirates',\n",
       "       'Mexico, France, Colombia', 'Netherlands',\n",
       "       'Germany, United States, France', 'United States, Bulgaria',\n",
       "       'United Kingdom, France, Germany, United States',\n",
       "       'Norway, Denmark', 'Syria, France, Lebanon, Qatar',\n",
       "       'United States, Czech Republic', 'Mauritius',\n",
       "       'Canada, South Africa', 'Austria', 'Mexico, Brazil',\n",
       "       'Germany, France', 'Mexico, United States',\n",
       "       'United Kingdom, France, Spain, United States',\n",
       "       'United States, Australia',\n",
       "       'United States, United Kingdom, France', 'United States, Russia',\n",
       "       'United States, United Kingdom, New Zealand',\n",
       "       'Australia, United Kingdom', 'Canada, Nigeria, United States',\n",
       "       'France, United States, United Kingdom, Canada',\n",
       "       'France, United Kingdom', 'India, United Kingdom',\n",
       "       'Canada, United States, Mexico',\n",
       "       'United Kingdom, Germany, United States',\n",
       "       'Czech Republic, United Kingdom, United States',\n",
       "       'China, United Kingdom', 'Italy, United Kingdom', 'China, Taiwan',\n",
       "       'United States, Brazil, Japan, Spain, India',\n",
       "       'United States, China, United Kingdom', 'Cameroon',\n",
       "       'Lebanon, Palestine, Denmark, Qatar', 'Japan, United States',\n",
       "       'Uruguay, Germany', 'Egypt, Saudi Arabia',\n",
       "       'United Kingdom, France, Poland, Germany, United States',\n",
       "       'Ireland, Switzerland, United Kingdom, France, United States',\n",
       "       'United Kingdom, South Africa, France',\n",
       "       'Ireland, United Kingdom, France, Germany',\n",
       "       'Russia, United States', 'United Kingdom, United States, France',\n",
       "       'United Kingdom,', 'United States, India, United Kingdom', 'Kenya',\n",
       "       'Spain, Argentina', 'India, United Kingdom, France, Qatar',\n",
       "       'Belgium, France', 'Argentina, Chile', 'United States, Thailand',\n",
       "       'Chile, Brazil', 'United States, Colombia',\n",
       "       'Canada, United States, United Kingdom', 'Uruguay', 'Luxembourg',\n",
       "       'United States, Cambodia, Romania', 'Bangladesh',\n",
       "       'Spain, Belgium, United States',\n",
       "       'United Kingdom, United States, Australia',\n",
       "       'Canada, United States, France', 'Portugal, United States',\n",
       "       'Portugal, Spain', 'India, United States',\n",
       "       'United Kingdom, Ireland', 'United Kingdom, Spain, United States',\n",
       "       'Hungary, United States', 'United States, South Korea',\n",
       "       'Canada, United States, Cayman Islands', 'India, France',\n",
       "       'France, Canada', 'Canada, Hungary, United States', 'Norway',\n",
       "       'Canada, United Kingdom, United States',\n",
       "       'United Kingdom, Germany, France, United States',\n",
       "       'Denmark, United States', 'Senegal', 'France, Algeria',\n",
       "       'United Kingdom, Finland, Germany, United States, Australia, Japan, France, Ireland',\n",
       "       'Philippines, Canada, United Kingdom, United States',\n",
       "       'Ireland, France, Iceland, United States, Mexico, Belgium, United Kingdom, Hong Kong',\n",
       "       'Singapore', 'Kuwait', 'United States, France, Serbia',\n",
       "       'United States, Italy', 'Spain, Italy',\n",
       "       'United States, Ireland, United Kingdom, India',\n",
       "       'United Kingdom, Singapore', 'Hong Kong, United States',\n",
       "       'United States, Malta, France, United Kingdom',\n",
       "       'United States, China, Canada', 'Canada, United States, Ireland',\n",
       "       'Lebanon, Canada, France', 'Japan, Canada, United States',\n",
       "       'Spain, France, Canada',\n",
       "       'Denmark, Singapore, Canada, United States',\n",
       "       'United States, France, Denmark', 'United States, China, Colombia',\n",
       "       'Spain, Thailand, United States', 'Mexico, Spain',\n",
       "       'Ireland, Luxembourg, Belgium', 'China, United States',\n",
       "       'Canada, Belgium', 'Canada, United Kingdom',\n",
       "       'Lebanon, United Arab Emirates, France, Switzerland, Germany',\n",
       "       'France, Belgium, Italy',\n",
       "       'Lebanon, United States, United Arab Emirates', 'Lebanon, France',\n",
       "       'France, Lebanon', 'France, Lebanon, United Kingdom',\n",
       "       'France, Norway, Lebanon, Belgium',\n",
       "       'Sweden, Czech Republic, United Kingdom, Denmark, Netherlands',\n",
       "       'United States, United Kingdom, India', 'Indonesia, Netherlands',\n",
       "       'Turkey, South Korea', 'Serbia, United States', 'Namibia',\n",
       "       'United Kingdom, Kenya', 'United Kingdom, France, Germany, Spain',\n",
       "       'United Kingdom, France, United States, Belgium, Luxembourg, China, Germany',\n",
       "       'Thailand, United States',\n",
       "       'United States, France, Canada, Belgium', 'United Kingdom, China',\n",
       "       'Germany, China, United Kingdom',\n",
       "       'Australia, New Zealand, United States',\n",
       "       'Hong Kong, Iceland, United States', 'France, Australia, Germany',\n",
       "       'United States, Belgium, Canada, France', 'South Africa, Angola',\n",
       "       'United States, Philippines',\n",
       "       'United States, United Kingdom, Canada, China',\n",
       "       'United States, Canada, United Kingdom', 'Turkey, United States',\n",
       "       'Peru, Germany, Norway', 'Mozambique', 'Brazil, France',\n",
       "       'China, Spain, South Korea, United States', 'Spain, Germany',\n",
       "       'Hong Kong, China', 'France, Belgium, Luxembourg, Cambodia,',\n",
       "       'United Kingdom, Australia', 'Belarus',\n",
       "       'Indonesia, United Kingdom',\n",
       "       'Switzerland, France, Belgium, United States', 'Ghana',\n",
       "       'Spain, France, Canada, United States', 'Chile, Italy',\n",
       "       'United Kingdom, Nigeria', 'Chile', 'France, Egypt',\n",
       "       'Egypt, France', 'France, Brazil, Spain, Belgium',\n",
       "       'Egypt, Algeria', 'Canada, South Korea, United States',\n",
       "       'Nigeria, United Kingdom', 'United States, France, Canada',\n",
       "       'Poland, United States',\n",
       "       'United Arab Emirates, Jordan, Lebanon, Saudi Arabia',\n",
       "       'United States, Mexico, Spain, Malta',\n",
       "       'Saudi Arabia, United Arab Emirates', 'Zimbabwe',\n",
       "       'United Kingdom, Germany, United Arab Emirates, New Zealand',\n",
       "       'Romania, United States', 'Canada, Nigeria',\n",
       "       'Saudi Arabia, Netherlands, Germany, Jordan, United Arab Emirates, United States',\n",
       "       'United Kingdom, Spain', 'Finland, France',\n",
       "       'United Kingdom, Germany, United States, France',\n",
       "       'India, United Kingdom, China, Canada, Japan, South Korea, United States',\n",
       "       'Italy, United Kingdom, France', 'United States, Mexico, Colombia',\n",
       "       'Turkey, India', 'Italy, Turkey',\n",
       "       'United Kingdom, United States, Japan',\n",
       "       'France, Belgium, United States',\n",
       "       'Puerto Rico, United States, Colombia', 'Uruguay, Argentina',\n",
       "       'United States, United Kingdom, Japan', 'United States, Argentina',\n",
       "       'United Kingdom, Italy', 'Ireland, United Kingdom',\n",
       "       'United Kingdom, France, Belgium, Canada, United States',\n",
       "       'Netherlands, Germany, Denmark, United Kingdom', 'Hungary',\n",
       "       'Austria, Germany', 'Taiwan, China',\n",
       "       'United Kingdom, United States, Ireland',\n",
       "       'South Korea, United States', 'Brazil, United Kingdom',\n",
       "       'Pakistan, United States', 'Romania, France, Switzerland, Germany',\n",
       "       'Romania, United Kingdom', 'France, Malta, United States',\n",
       "       'Cyprus',\n",
       "       'United Kingdom, France, Belgium, Ireland, United States',\n",
       "       'United States, Norway, Canada', 'Kenya, United States',\n",
       "       'France, South Korea, Japan, United States', 'Taiwan, Malaysia',\n",
       "       'Uruguay, Argentina, Germany, Spain',\n",
       "       'United States, United Kingdom, France, Germany, Japan',\n",
       "       'United States, France, Japan',\n",
       "       'United Kingdom, France, United States',\n",
       "       'Spain, France, United States',\n",
       "       'Indonesia, South Korea, Singapore', 'United States, Spain',\n",
       "       'Netherlands, Germany, Italy, Canada',\n",
       "       'Spain, Germany, Denmark, United States', 'Norway, Sweden',\n",
       "       'South Korea, Canada, United States, China',\n",
       "       'Argentina, Uruguay, Serbia', 'France, Japan',\n",
       "       'Mauritius, South Africa', 'United States, Poland',\n",
       "       'United Kingdom, United States, Germany, Denmark, Belgium, Japan',\n",
       "       'India, Germany', 'India, United Kingdom, Canada, United States',\n",
       "       'Philippines, United States', 'Romania, Bulgaria, Hungary',\n",
       "       'Uruguay, Guatemala', 'France, Senegal, Belgium',\n",
       "       'United Kingdom, Canada', 'Mexico, United States, Spain, Colombia',\n",
       "       'Canada, Norway', 'Singapore, United States',\n",
       "       'Finland, Germany, Belgium', 'United Kingdom, France',\n",
       "       'United States, Chile', 'United Kingdom, Japan, United States',\n",
       "       'Spain, United Kingdom', 'Argentina, United States, Mexico',\n",
       "       'United States, South Korea, Japan', 'Canada, Australia',\n",
       "       'United Kingdom, Hungary, Australia', 'Italy, Belgium',\n",
       "       'United States, United Kingdom, Germany', 'Switzerland',\n",
       "       'Singapore, Malaysia',\n",
       "       'France, Belgium, Luxembourg, Romania, Canada, United States',\n",
       "       'South Africa, Nigeria', 'Spain, France',\n",
       "       'United Kingdom, Hong Kong', 'Pakistan', 'Brazil, United States',\n",
       "       'Denmark, Brazil, France, Portugal, Sweden', 'India, Turkey',\n",
       "       'Malaysia, Singapore, Hong Kong', 'Philippines, Singapore',\n",
       "       'Australia, Canada', 'Taiwan, China, France, United States',\n",
       "       'Germany, Italy', 'Colombia, Peru, United Kingdom',\n",
       "       'Thailand, China, United States', 'Argentina, United States',\n",
       "       'Sweden, United States', 'Uruguay, Spain, Mexico',\n",
       "       'France, Luxembourg, Canada', 'Denmark, Spain', 'Chile, Argentina',\n",
       "       'United Kingdom, Belgium, Sweden', 'Canada, Brazil',\n",
       "       'Italy, France', 'Canada, Germany',\n",
       "       'Pakistan, United Arab Emirates', 'Ghana, United States',\n",
       "       'Mexico, Finland', 'United Arab Emirates, United Kingdom, India',\n",
       "       'Netherlands, Belgium', 'United States, Taiwan',\n",
       "       'Austria, Iraq, United States', 'United Kingdom, Malawi',\n",
       "       'Paraguay, Argentina', 'United Kingdom, Russia, United States',\n",
       "       'India, Pakistan', 'Indonesia, Singapore', 'Spain, Belgium',\n",
       "       'Iceland, Sweden, Belgium', 'Croatia', 'Uruguay, Argentina, Spain',\n",
       "       'United Kingdom, Ireland, United States',\n",
       "       'Canada, Germany, France, United States', 'United Kingdom, Japan',\n",
       "       'Norway, Denmark, Netherlands, Sweden',\n",
       "       'Hong Kong, China, United States', 'Ireland, Canada',\n",
       "       'Italy, Switzerland, France, Germany', 'Mexico, Netherlands',\n",
       "       'United States, Sweden', 'Germany, France, Russia',\n",
       "       'France, Iran, United States', 'United Kingdom, India',\n",
       "       'Russia, Poland, Serbia', 'Spain, Portugal', 'Peru',\n",
       "       'Mexico, Argentina',\n",
       "       'United Kingdom, Canada, United States, Cayman Islands',\n",
       "       'Indonesia, United States',\n",
       "       'United States, Israel, United Kingdom, Canada',\n",
       "       'Norway, Iceland, United States', 'Czech Republic, United States',\n",
       "       'United Kingdom, India, United States',\n",
       "       'United Kingdom, West Germany', 'India, Australia',\n",
       "       'United States,', 'Belgium, United Kingdom, United States',\n",
       "       'India, Germany, Austria',\n",
       "       'United States, Brazil, South Korea, Mexico, Japan, Germany',\n",
       "       'Spain, Mexico', 'China, Japan', 'Argentina, France',\n",
       "       'China, United States, United Kingdom',\n",
       "       'France, Luxembourg, United States',\n",
       "       'China, United States, Australia', 'Colombia, Mexico',\n",
       "       'United States, Canada, Ireland', 'Chile, Peru',\n",
       "       'Argentina, Italy', 'Canada, Japan, United States',\n",
       "       'United Kingdom, Canada, United States, Germany',\n",
       "       'Italy, Switzerland, Albania, Poland',\n",
       "       'United States, Japan, Canada', 'Cambodia',\n",
       "       'Italy, United States, Argentina',\n",
       "       'Saudi Arabia, Syria, Egypt, Lebanon, Kuwait',\n",
       "       'United States, Canada, Indonesia, United Kingdom, China, Singapore',\n",
       "       'Spain, Colombia',\n",
       "       'United Kingdom, South Africa, Australia, United States',\n",
       "       'Bulgaria', 'Argentina, Brazil, France, Poland, Germany, Denmark',\n",
       "       'United Kingdom, Spain, United States, Germany',\n",
       "       'Philippines, Qatar', 'Netherlands, Belgium, Germany, Jordan',\n",
       "       'United Arab Emirates, United States', 'Norway, Germany, Sweden',\n",
       "       'South Korea, China', 'Georgia', 'Soviet Union, India',\n",
       "       'Australia, United Arab Emirates', 'Canada, Germany, South Africa',\n",
       "       'South Korea, China, United States', 'India, Soviet Union',\n",
       "       'India, Mexico', 'Georgia, Germany, France',\n",
       "       'United Arab Emirates, Romania', 'India, Malaysia',\n",
       "       'Germany, Jordan, Netherlands', 'Turkey, France, Germany, Poland',\n",
       "       'Greece, United States', 'France, United Kingdom, United States',\n",
       "       'Norway, Germany', 'France, Morocco', 'Cambodia, United States',\n",
       "       'United States, Denmark', 'United States, Colombia, Mexico',\n",
       "       'United Kingdom, Italy, Israel, Peru, United States',\n",
       "       'Argentina, Uruguay, Spain, France',\n",
       "       'United Kingdom, France, United States, Belgium',\n",
       "       'France, Canada, China, Cambodia',\n",
       "       'United Kingdom, France, Belgium, United States', 'Chile, France',\n",
       "       'Netherlands, United States', 'France, United Kingdom, India',\n",
       "       'Czech Republic, Slovakia', 'Singapore, France',\n",
       "       'Spain, Switzerland', 'United States, Australia, China',\n",
       "       'South Africa, United States, Germany',\n",
       "       'United States, United Kingdom, Australia',\n",
       "       'Spain, Italy, Argentina', 'Chile, Spain, Argentina, Germany',\n",
       "       'West Germany', 'Austria, Czech Republic', 'Lebanon, Qatar',\n",
       "       'United Kingdom, Jordan, Qatar, Iran',\n",
       "       'France, South Korea, Japan', 'Israel, Germany, France',\n",
       "       'Canada, Japan, Netherlands', 'United States, Hungary',\n",
       "       'France, Germany', 'France, Qatar',\n",
       "       'United Kingdom, Germany, Canada', 'Ireland, South Africa',\n",
       "       'Chile, United States, France', 'Belgium, France, Netherlands',\n",
       "       'United Kingdom, Ukraine, United States',\n",
       "       'Germany, Australia, France, China', 'Norway, United States',\n",
       "       'United States, Bermuda, Ecuador',\n",
       "       'United States, Hungary, Ireland, Canada',\n",
       "       'United Kingdom, Egypt, United States',\n",
       "       'United States, France, United Kingdom', 'Spain, Mexico, France',\n",
       "       'United States, South Africa', 'Hong Kong, China, Singapore',\n",
       "       'South Africa, China, United States', 'Denmark, France, Poland',\n",
       "       'New Zealand, United Kingdom',\n",
       "       'Netherlands, Denmark, South Africa', 'Iran, France',\n",
       "       'United Kingdom, United States, France, Germany',\n",
       "       'Australia, France', 'Ireland, United Kingdom, United States',\n",
       "       'United Kingdom, France, Germany', 'Canada, Luxembourg',\n",
       "       'Brazil, Netherlands, United States, Colombia, Austria, Germany',\n",
       "       'France, Canada, Belgium', 'Canada, France',\n",
       "       'Bulgaria, United States, Spain, Canada', 'Sweden, Netherlands',\n",
       "       'France, United States, Mexico',\n",
       "       'Australia, United Kingdom, United Arab Emirates, Canada',\n",
       "       'Australia, Armenia, Japan, Jordan, Mexico, Mongolia, New Zealand, Philippines, South Africa, Sweden, United States, Uruguay',\n",
       "       'India, Iran', 'France, Belgium, Spain',\n",
       "       'Denmark, Sweden, Israel, United States', 'United States, Iceland',\n",
       "       'United Kingdom, Russia',\n",
       "       'United States, Israel, Italy, South Africa',\n",
       "       'Netherlands, Denmark, France, Germany', 'South Korea, Japan',\n",
       "       'United Kingdom, Pakistan', 'France, New Zealand',\n",
       "       'United Kingdom, Czech Republic, United States, Germany, Bahamas',\n",
       "       'China, Germany, India, United States', 'Germany, Sri Lanka',\n",
       "       'United States, India, Bangladesh',\n",
       "       'United States, Canada, France', 'Brazil, France, Germany',\n",
       "       'Germany, United States, Hong Kong, Singapore',\n",
       "       'France, Germany, Switzerland',\n",
       "       'Germany, France, Luxembourg, United Kingdom, United States',\n",
       "       'United Kingdom, Canada, Italy', 'Czech Republic, France',\n",
       "       'Taiwan, Hong Kong, United States, China', 'Germany, Australia',\n",
       "       'United Kingdom, Poland, United States', 'Denmark, Zimbabwe',\n",
       "       'United Kingdom, South Africa',\n",
       "       'Finland, Sweden, Norway, Latvia, Germany',\n",
       "       'South Africa, United States, New Zealand, Canada',\n",
       "       'United States, Italy, United Kingdom, Liechtenstein',\n",
       "       'Denmark, France, Belgium, Italy, Netherlands, United States, United Kingdom',\n",
       "       'United States, Australia, Mexico',\n",
       "       'United Kingdom, Czech Republic, Germany, United States',\n",
       "       'France, China, Japan, United States',\n",
       "       'United States, South Korea, China', 'Germany, Belgium',\n",
       "       'Pakistan, Norway, United States',\n",
       "       'United States, Canada, Belgium, United Kingdom', 'Venezuela',\n",
       "       'Canada, France, Italy, Morocco, United States',\n",
       "       'Canada, Spain, France', 'United States, Indonesia',\n",
       "       'Spain, France, Italy',\n",
       "       'United Arab Emirates, United States, United Kingdom',\n",
       "       'United Kingdom, Israel, Russia', 'Spain, Cuba',\n",
       "       'United States, Brazil', 'United States, France, Mexico',\n",
       "       'United States, Nicaragua',\n",
       "       'United Kingdom, United States, Spain, Germany, Greece, Canada',\n",
       "       'Italy, Canada, France',\n",
       "       'United Kingdom, Denmark, Canada, Croatia', 'Italy, Germany',\n",
       "       'United States, France, United Kingdom, Japan',\n",
       "       'United States, United Kingdom, Denmark, Sweden',\n",
       "       'United States, United Kingdom, Italy',\n",
       "       'United States, France, Canada, Spain',\n",
       "       'Russia, United States, China', 'United States, Canada, Germany',\n",
       "       'Ireland, United States', 'United States, United Arab Emirates',\n",
       "       'United States, Ireland',\n",
       "       'Ireland, United Kingdom, Italy, United States', 'Poland,',\n",
       "       'Slovenia, Croatia, Germany, Czech Republic, Qatar',\n",
       "       'Canada, United Kingdom, Netherlands',\n",
       "       'United States, Spain, Germany', 'India, Japan',\n",
       "       'China, South Korea, United States',\n",
       "       'United Kingdom, France, Belgium',\n",
       "       'Canada, Ireland, United States',\n",
       "       'United Kingdom, United States, Dominican Republic',\n",
       "       'United States, Senegal', 'Germany, United Kingdom, United States',\n",
       "       'South Africa, Germany, Netherlands, France',\n",
       "       'Canada, United States, United Kingdom, France, Luxembourg',\n",
       "       'Ireland, United States, France', 'Germany, United States, Canada',\n",
       "       'United Kingdom, Germany, Canada, United States',\n",
       "       'United States, France, Canada, Lebanon, Qatar',\n",
       "       'Netherlands, Belgium, United Kingdom, United States',\n",
       "       'France, Belgium, China, United States',\n",
       "       'United States, Chile, Israel',\n",
       "       'United Kingdom, Norway, Denmark, Germany, Sweden',\n",
       "       'Norway, Denmark, Sweden', 'China, India, Nepal',\n",
       "       'Colombia, Mexico, United States', 'United Kingdom, South Korea',\n",
       "       'Denmark, China', 'United States, Greece, Brazil',\n",
       "       'South Korea, France',\n",
       "       'United States, Australia, Samoa, United Kingdom',\n",
       "       'Germany, United Kingdom', 'Argentina, Chile, Peru',\n",
       "       'Turkey, Azerbaijan', 'Poland, West Germany',\n",
       "       'Germany, United States, Sweden', 'Canada, Spain',\n",
       "       'United States, Cambodia', 'United States, Greece',\n",
       "       'Norway, United Kingdom, France, Ireland',\n",
       "       'United Kingdom, Poland', 'Israel, Sweden, Germany, Netherlands',\n",
       "       'Switzerland, France', 'Italy, India', 'United States, Botswana',\n",
       "       'Chile, Argentina, France, Spain, United States',\n",
       "       'United States, India, South Korea, China',\n",
       "       'Denmark, Germany, Belgium, United Kingdom, France',\n",
       "       'Denmark, Germany, Belgium, United Kingdom, France, Sweden',\n",
       "       'France, Switzerland, Spain, United States, United Arab Emirates',\n",
       "       'Brazil, India, China, United States',\n",
       "       'Denmark, France, United States, Sweden', 'Australia, Iraq',\n",
       "       'China, Morocco, Hong Kong', 'Canada, United States, Germany',\n",
       "       'United Kingdom, Thailand', 'Venezuela, Colombia',\n",
       "       'Colombia, United States',\n",
       "       'France, Germany, Czech Republic, Belgium',\n",
       "       'Switzerland, Vatican City, Italy, Germany, France',\n",
       "       'Portugal, France, Poland, United States',\n",
       "       'United States, New Zealand, Japan',\n",
       "       'United States, Netherlands, Japan, France', 'India, Switzerland',\n",
       "       'Canada, India', 'United States, Morocco',\n",
       "       'Singapore, Japan, France',\n",
       "       'Canada, Mexico, Germany, South Africa',\n",
       "       'United Kingdom, United States, Canada',\n",
       "       'Germany, France, United States, Canada, United Kingdom',\n",
       "       'United States, Uruguay', 'India, Canada',\n",
       "       'Ireland, Canada, United Kingdom, United States',\n",
       "       'United States, Germany, Australia', 'Australia, France, Ireland',\n",
       "       'Australia, India', 'United States, United Kingdom, Canada, Japan',\n",
       "       'Sweden, United Kingdom, Finland', 'Hong Kong, Taiwan',\n",
       "       'United States, United Kingdom, Spain, South Korea', 'Guatemala',\n",
       "       'Ukraine',\n",
       "       'Italy, South Africa, West Germany, Australia, United States',\n",
       "       'United States, Germany, United Kingdom, Australia',\n",
       "       'Italy, France, Switzerland', 'Canada, France, United States',\n",
       "       'Switzerland, United States', 'Thailand, Canada, United States',\n",
       "       'China, Hong Kong, United States', 'United Kingdom, New Zealand',\n",
       "       'Czech Republic, United Kingdom, France',\n",
       "       'Australia, United Kingdom, Canada', 'Jamaica, United States',\n",
       "       'Australia, United Kingdom, United States, New Zealand, Italy, France',\n",
       "       'France, United States, Canada',\n",
       "       'United Kingdom, France, Canada, Belgium, United States',\n",
       "       'Denmark, United Kingdom, Sweden', 'United States, Hong Kong',\n",
       "       'United States, Kazakhstan',\n",
       "       'Argentina, France, United States, Germany, Qatar',\n",
       "       'United States, Germany, United Kingdom',\n",
       "       'United States, Germany, United Kingdom, Italy',\n",
       "       'United States, New Zealand, United Kingdom',\n",
       "       'Finland, United States', 'Spain, France, Uruguay',\n",
       "       'France, Canada, United States', 'United States, Canada, China',\n",
       "       'Ireland, Canada, Luxembourg, United States, United Kingdom, Philippines, India',\n",
       "       'United States, Czech Republic, United Kingdom', 'Israel, Germany',\n",
       "       'Mexico, France',\n",
       "       'Israel, Germany, Poland, Luxembourg, Belgium, France, United States',\n",
       "       'Austria, United States', 'United Kingdom, Lithuania',\n",
       "       'United States, Greece, United Kingdom',\n",
       "       'United Kingdom, China, United States, India',\n",
       "       'United States, Sweden, Norway',\n",
       "       'United Kingdom, United States, Morocco',\n",
       "       'United States, United Kingdom, Morocco',\n",
       "       'Spain, Canada, United States',\n",
       "       'United States, India, United Arab Emirates',\n",
       "       'United Kingdom, Canada, France, United States',\n",
       "       'India, Germany, France',\n",
       "       'Belgium, Ireland, Netherlands, Germany, Afghanistan',\n",
       "       'France, Canada, Italy, United States, China',\n",
       "       'Ireland, United Kingdom, Greece, France, Netherlands',\n",
       "       'Denmark, Indonesia, Finland, Norway, United Kingdom, Israel, France, United States, Germany, Netherlands',\n",
       "       'New Zealand, United States',\n",
       "       'United States, Australia, South Africa, United Kingdom',\n",
       "       'United States, Germany, Mexico',\n",
       "       'Somalia, Kenya, Sudan, South Africa, United States',\n",
       "       'United States, Canada, Japan, Panama',\n",
       "       'United Kingdom, Spain, Belgium', 'Serbia, South Korea, Slovenia',\n",
       "       'Denmark, United Kingdom, South Africa, Sweden, Belgium',\n",
       "       'Germany, Canada, United States',\n",
       "       'Ireland, Canada, United States, United Kingdom',\n",
       "       'New Zealand, United Kingdom, Australia',\n",
       "       'United Kingdom, Australia, Canada, United States',\n",
       "       'Germany, United States, Italy', 'United States, Venezuela',\n",
       "       'United Kingdom, Canada, Japan',\n",
       "       'United Kingdom, United States, Czech Republic',\n",
       "       'United Kingdom, China, United States',\n",
       "       'United Kingdom, Brazil, Germany',\n",
       "       'United Kingdom, Namibia, South Africa, Zimbabwe, United States',\n",
       "       'Canada, United States, India, United Kingdom',\n",
       "       'Switzerland, United Kingdom, United States',\n",
       "       'United Kingdom, India, Sweden',\n",
       "       'United States, Brazil, India, Uganda, China',\n",
       "       'Peru, United States, United Kingdom',\n",
       "       'Germany, United States, United Kingdom, Canada',\n",
       "       'Canada, India, Thailand, United States, United Arab Emirates',\n",
       "       'United States, East Germany, West Germany',\n",
       "       'France, Netherlands, South Africa, Finland',\n",
       "       'Egypt, Austria, United States', 'Russia, Spain',\n",
       "       'Croatia, Slovenia, Serbia, Montenegro', 'Japan, Canada',\n",
       "       'United States, France, South Korea, Indonesia',\n",
       "       'United Arab Emirates, Jordan'], dtype=object)"
      ]
     },
     "execution_count": 44,
     "metadata": {},
     "output_type": "execute_result"
    }
   ],
   "source": [
    "df.country.unique()"
   ]
  },
  {
   "cell_type": "markdown",
   "id": "1810013f",
   "metadata": {},
   "source": [
    "Al parecer, todos los valores categóricos son considerados normales, por lo que no se eliminará ninguno de ellos."
   ]
  },
  {
   "cell_type": "markdown",
   "id": "eea2cf62",
   "metadata": {},
   "source": [
    "Como se mencionó anteriormente, se eliminarán las columnas `salary` y `salary_currency`, ya que `salary_in_usd` representa el salario convertido a una moneda común (USD), permitiendo una comparación justa y uniforme entre todos los registros.\n",
    "\n",
    "Mantener las otras dos columnas sería redundante, ya que `salary_in_usd` ya contiene la información relevante en una escala comparable. Además, eliminar estas columnas reduce la complejidad del dataset y facilita el análisis posterior.\n"
   ]
  },
  {
   "cell_type": "code",
   "execution_count": 116,
   "id": "98027c0f",
   "metadata": {},
   "outputs": [],
   "source": [
    "df_copy = df_copy.drop(labels=[\"salary\", \"salary_currency\"], axis=1)"
   ]
  },
  {
   "cell_type": "code",
   "execution_count": 117,
   "id": "1353b298",
   "metadata": {},
   "outputs": [
    {
     "data": {
      "text/plain": [
       "Index(['work_year', 'experience_level', 'employment_type', 'job_title',\n",
       "       'salary_in_usd', 'employee_residence', 'remote_ratio',\n",
       "       'company_location', 'company_size'],\n",
       "      dtype='object')"
      ]
     },
     "execution_count": 117,
     "metadata": {},
     "output_type": "execute_result"
    }
   ],
   "source": [
    "df_copy.columns"
   ]
  },
  {
   "cell_type": "code",
   "execution_count": 118,
   "id": "4da824a9",
   "metadata": {},
   "outputs": [
    {
     "data": {
      "text/html": [
       "<div>\n",
       "<style scoped>\n",
       "    .dataframe tbody tr th:only-of-type {\n",
       "        vertical-align: middle;\n",
       "    }\n",
       "\n",
       "    .dataframe tbody tr th {\n",
       "        vertical-align: top;\n",
       "    }\n",
       "\n",
       "    .dataframe thead th {\n",
       "        text-align: right;\n",
       "    }\n",
       "</style>\n",
       "<table border=\"1\" class=\"dataframe\">\n",
       "  <thead>\n",
       "    <tr style=\"text-align: right;\">\n",
       "      <th></th>\n",
       "      <th>work_year</th>\n",
       "      <th>salary_in_usd</th>\n",
       "      <th>remote_ratio</th>\n",
       "    </tr>\n",
       "  </thead>\n",
       "  <tbody>\n",
       "    <tr>\n",
       "      <th>count</th>\n",
       "      <td>10113.000000</td>\n",
       "      <td>10113.000000</td>\n",
       "      <td>10113.000000</td>\n",
       "    </tr>\n",
       "    <tr>\n",
       "      <th>mean</th>\n",
       "      <td>2023.227529</td>\n",
       "      <td>146662.179571</td>\n",
       "      <td>35.553248</td>\n",
       "    </tr>\n",
       "    <tr>\n",
       "      <th>std</th>\n",
       "      <td>0.783372</td>\n",
       "      <td>72697.319441</td>\n",
       "      <td>47.227660</td>\n",
       "    </tr>\n",
       "    <tr>\n",
       "      <th>min</th>\n",
       "      <td>2020.000000</td>\n",
       "      <td>15000.000000</td>\n",
       "      <td>0.000000</td>\n",
       "    </tr>\n",
       "    <tr>\n",
       "      <th>25%</th>\n",
       "      <td>2023.000000</td>\n",
       "      <td>95000.000000</td>\n",
       "      <td>0.000000</td>\n",
       "    </tr>\n",
       "    <tr>\n",
       "      <th>50%</th>\n",
       "      <td>2023.000000</td>\n",
       "      <td>138750.000000</td>\n",
       "      <td>0.000000</td>\n",
       "    </tr>\n",
       "    <tr>\n",
       "      <th>75%</th>\n",
       "      <td>2024.000000</td>\n",
       "      <td>185900.000000</td>\n",
       "      <td>100.000000</td>\n",
       "    </tr>\n",
       "    <tr>\n",
       "      <th>max</th>\n",
       "      <td>2024.000000</td>\n",
       "      <td>800000.000000</td>\n",
       "      <td>100.000000</td>\n",
       "    </tr>\n",
       "  </tbody>\n",
       "</table>\n",
       "</div>"
      ],
      "text/plain": [
       "          work_year  salary_in_usd  remote_ratio\n",
       "count  10113.000000   10113.000000  10113.000000\n",
       "mean    2023.227529  146662.179571     35.553248\n",
       "std        0.783372   72697.319441     47.227660\n",
       "min     2020.000000   15000.000000      0.000000\n",
       "25%     2023.000000   95000.000000      0.000000\n",
       "50%     2023.000000  138750.000000      0.000000\n",
       "75%     2024.000000  185900.000000    100.000000\n",
       "max     2024.000000  800000.000000    100.000000"
      ]
     },
     "execution_count": 118,
     "metadata": {},
     "output_type": "execute_result"
    }
   ],
   "source": [
    "df_copy.describe()"
   ]
  },
  {
   "cell_type": "markdown",
   "id": "6ca3d1c5",
   "metadata": {},
   "source": [
    "Se decidió aplicar normalización únicamente a las siguientes columnas:\n",
    "\n",
    "1. **`remote_radio`**\n",
    "2. **`max_handover_attempts`**\n",
    "\n",
    "Ambas columnas contienen valores numéricos que pueden variar en un rango amplio. Al no estar en una misma escala, podrían influir de manera desproporcionada en ciertos modelos o visualizaciones.\n",
    "\n",
    "**Normalización de `remote_radio`**"
   ]
  },
  {
   "cell_type": "code",
   "execution_count": 119,
   "id": "ffa08ec5",
   "metadata": {},
   "outputs": [],
   "source": [
    "df_copy[\"remote_ratio_nrm\"] = df_copy[\"remote_ratio\"] / 100"
   ]
  },
  {
   "cell_type": "markdown",
   "id": "bbb90b28",
   "metadata": {},
   "source": [
    "Aunque la columna ya se encuentra en una escala conocida, convertirla a un rango de 0 a 1 permite uniformidad con otras variables y evita que su escala influya más que otras en procesos posteriores."
   ]
  },
  {
   "cell_type": "markdown",
   "id": "1f13516b",
   "metadata": {},
   "source": [
    "**Estandarización de `salary_in_usd`**"
   ]
  },
  {
   "cell_type": "code",
   "execution_count": 120,
   "id": "4a295620",
   "metadata": {},
   "outputs": [],
   "source": [
    "media = df_copy['salary_in_usd'].mean()\n",
    "desviacion = df_copy['salary_in_usd'].std()\n",
    "\n",
    "df_copy['salary_in_usd_std'] = (df_copy['salary_in_usd'] - media) / desviacion"
   ]
  },
  {
   "cell_type": "markdown",
   "id": "27053775",
   "metadata": {},
   "source": [
    "Para evitar que la columna `salary_in_usd` tenga un peso desproporcionado en el análisis se aplicó la **estandarización** porque sus valores no se encontraban en una escala fija y podían tener una distribución diferente a la de otras variables. Al estandarizar, transformamos los datos para que tengan una media de 0 y una desviación estándar de 1, lo que permite compararlos de manera más justa con otras variables en algoritmos sensibles a la escala, como modelos de machine learning o análisis estadísticos. Esta técnica es especialmente útil cuando los datos no están en una escala conocida o no están acotados. No se aplicó normalización ayq ue esta es sensible a outliers\n",
    "\n"
   ]
  },
  {
   "cell_type": "code",
   "execution_count": 121,
   "id": "5e84e683",
   "metadata": {},
   "outputs": [
    {
     "data": {
      "text/html": [
       "<div>\n",
       "<style scoped>\n",
       "    .dataframe tbody tr th:only-of-type {\n",
       "        vertical-align: middle;\n",
       "    }\n",
       "\n",
       "    .dataframe tbody tr th {\n",
       "        vertical-align: top;\n",
       "    }\n",
       "\n",
       "    .dataframe thead th {\n",
       "        text-align: right;\n",
       "    }\n",
       "</style>\n",
       "<table border=\"1\" class=\"dataframe\">\n",
       "  <thead>\n",
       "    <tr style=\"text-align: right;\">\n",
       "      <th></th>\n",
       "      <th>work_year</th>\n",
       "      <th>salary_in_usd</th>\n",
       "      <th>remote_ratio</th>\n",
       "      <th>remote_ratio_nrm</th>\n",
       "      <th>salary_in_usd_std</th>\n",
       "    </tr>\n",
       "  </thead>\n",
       "  <tbody>\n",
       "    <tr>\n",
       "      <th>count</th>\n",
       "      <td>10113.000000</td>\n",
       "      <td>10113.000000</td>\n",
       "      <td>10113.000000</td>\n",
       "      <td>10113.000000</td>\n",
       "      <td>1.011300e+04</td>\n",
       "    </tr>\n",
       "    <tr>\n",
       "      <th>mean</th>\n",
       "      <td>2023.227529</td>\n",
       "      <td>146662.179571</td>\n",
       "      <td>35.553248</td>\n",
       "      <td>0.355532</td>\n",
       "      <td>-1.124165e-17</td>\n",
       "    </tr>\n",
       "    <tr>\n",
       "      <th>std</th>\n",
       "      <td>0.783372</td>\n",
       "      <td>72697.319441</td>\n",
       "      <td>47.227660</td>\n",
       "      <td>0.472277</td>\n",
       "      <td>1.000000e+00</td>\n",
       "    </tr>\n",
       "    <tr>\n",
       "      <th>min</th>\n",
       "      <td>2020.000000</td>\n",
       "      <td>15000.000000</td>\n",
       "      <td>0.000000</td>\n",
       "      <td>0.000000</td>\n",
       "      <td>-1.811101e+00</td>\n",
       "    </tr>\n",
       "    <tr>\n",
       "      <th>25%</th>\n",
       "      <td>2023.000000</td>\n",
       "      <td>95000.000000</td>\n",
       "      <td>0.000000</td>\n",
       "      <td>0.000000</td>\n",
       "      <td>-7.106477e-01</td>\n",
       "    </tr>\n",
       "    <tr>\n",
       "      <th>50%</th>\n",
       "      <td>2023.000000</td>\n",
       "      <td>138750.000000</td>\n",
       "      <td>0.000000</td>\n",
       "      <td>0.000000</td>\n",
       "      <td>-1.088373e-01</td>\n",
       "    </tr>\n",
       "    <tr>\n",
       "      <th>75%</th>\n",
       "      <td>2024.000000</td>\n",
       "      <td>185900.000000</td>\n",
       "      <td>100.000000</td>\n",
       "      <td>1.000000</td>\n",
       "      <td>5.397423e-01</td>\n",
       "    </tr>\n",
       "    <tr>\n",
       "      <th>max</th>\n",
       "      <td>2024.000000</td>\n",
       "      <td>800000.000000</td>\n",
       "      <td>100.000000</td>\n",
       "      <td>1.000000</td>\n",
       "      <td>8.987096e+00</td>\n",
       "    </tr>\n",
       "  </tbody>\n",
       "</table>\n",
       "</div>"
      ],
      "text/plain": [
       "          work_year  salary_in_usd  remote_ratio  remote_ratio_nrm  \\\n",
       "count  10113.000000   10113.000000  10113.000000      10113.000000   \n",
       "mean    2023.227529  146662.179571     35.553248          0.355532   \n",
       "std        0.783372   72697.319441     47.227660          0.472277   \n",
       "min     2020.000000   15000.000000      0.000000          0.000000   \n",
       "25%     2023.000000   95000.000000      0.000000          0.000000   \n",
       "50%     2023.000000  138750.000000      0.000000          0.000000   \n",
       "75%     2024.000000  185900.000000    100.000000          1.000000   \n",
       "max     2024.000000  800000.000000    100.000000          1.000000   \n",
       "\n",
       "       salary_in_usd_std  \n",
       "count       1.011300e+04  \n",
       "mean       -1.124165e-17  \n",
       "std         1.000000e+00  \n",
       "min        -1.811101e+00  \n",
       "25%        -7.106477e-01  \n",
       "50%        -1.088373e-01  \n",
       "75%         5.397423e-01  \n",
       "max         8.987096e+00  "
      ]
     },
     "execution_count": 121,
     "metadata": {},
     "output_type": "execute_result"
    }
   ],
   "source": [
    "df_copy.describe()"
   ]
  },
  {
   "cell_type": "code",
   "execution_count": 125,
   "id": "16b92377",
   "metadata": {},
   "outputs": [],
   "source": [
    "df_clean = df_copy.copy()"
   ]
  },
  {
   "cell_type": "code",
   "execution_count": 127,
   "id": "3f6603e9",
   "metadata": {},
   "outputs": [
    {
     "data": {
      "text/plain": [
       "Index(['work_year', 'experience_level', 'employment_type', 'job_title',\n",
       "       'salary_in_usd', 'employee_residence', 'remote_ratio',\n",
       "       'company_location', 'company_size', 'remote_ratio_nrm',\n",
       "       'salary_in_usd_std'],\n",
       "      dtype='object')"
      ]
     },
     "execution_count": 127,
     "metadata": {},
     "output_type": "execute_result"
    }
   ],
   "source": [
    "df_clean.columns"
   ]
  },
  {
   "cell_type": "markdown",
   "id": "628d993b",
   "metadata": {},
   "source": [
    "### **4. Visualización de datos**"
   ]
  },
  {
   "cell_type": "markdown",
   "id": "191cde15",
   "metadata": {},
   "source": [
    "**1. ¿Qué tipos de empleo (employment_type) están más asociados con salarios altos?**"
   ]
  },
  {
   "cell_type": "code",
   "execution_count": null,
   "id": "ae740e3a",
   "metadata": {},
   "outputs": [
    {
     "name": "stderr",
     "output_type": "stream",
     "text": [
      "/var/folders/76/ws8z3mnx1634t9z0jpzfq6k00000gn/T/ipykernel_65843/8805928.py:9: FutureWarning: \n",
      "\n",
      "Passing `palette` without assigning `hue` is deprecated and will be removed in v0.14.0. Assign the `x` variable to `hue` and set `legend=False` for the same effect.\n",
      "\n",
      "  sns.barplot(data=salary_by_employment, x=\"employment_type\", y=\"salary_in_usd\", palette=\"viridis\")\n"
     ]
    },
    {
     "data": {
      "image/png": "[encoded data removed]",
      "text/plain": [
       "<Figure size 400x400 with 1 Axes>"
      ]
     },
     "metadata": {},
     "output_type": "display_data"
    }
   ],
   "source": [
    "# Agrupar por tipo de empleo y calcular el salario promedio\n",
    "salary_by_employment = df_clean.groupby(\"employment_type\")[\"salary_in_usd\"].mean().reset_index()\n",
    "\n",
    "# Ordenar de mayor a menor\n",
    "salary_by_employment = salary_by_employment.sort_values(by=\"salary_in_usd\", ascending=False)\n",
    "\n",
    "# Crear el gráfico\n",
    "plt.figure(figsize=(4, 4))\n",
    "sns.barplot(data=salary_by_employment, x=\"employment_type\", y=\"salary_in_usd\", palette=\"viridis\")\n",
    "\n",
    "# Labels\n",
    "plt.title(\"Salario Promedio por Tipo de Empleo\", fontsize=10)\n",
    "plt.xlabel(\"Tipo de Empleo\", fontsize=12)\n",
    "plt.ylabel(\"Salario Promedio (USD)\", fontsize=12)\n",
    "plt.xticks(fontsize=8)\n",
    "plt.yticks(fontsize=8)\n",
    "plt.tight_layout()\n",
    "plt.show()"
   ]
  },
  {
   "cell_type": "markdown",
   "id": "c0a047fb",
   "metadata": {},
   "source": [
    "Este gráfico muestra el salario promedio en dólares estadounidenses (salary_in_usd) para cada categoría de employment_type. Se puede ver como:\n",
    "- FT (Full-time) con salarios más altos y mayor volumen de empleados.\n",
    "- PT (Part-time) y FL (Freelance) con salarios más bajos en promedio, ya que generalmente trabajan menos horas.\n",
    "- CT (Contract) tiene salarios variables, esto puede deberse al país y la industria.\n",
    "\n",
    "Este análisis permite identificar qué tipo de contratos ofrecen mayores oportunidades económicas para los data developers en 2024."
   ]
  },
  {
   "cell_type": "markdown",
   "id": "48ff1d9a",
   "metadata": {},
   "source": [
    "**2. ¿Cuál es la distribución de salarios según el nivel de experiencia (experience_level)?**"
   ]
  },
  {
   "cell_type": "code",
   "execution_count": null,
   "id": "b1eecb65",
   "metadata": {},
   "outputs": [
    {
     "name": "stderr",
     "output_type": "stream",
     "text": [
      "/var/folders/76/ws8z3mnx1634t9z0jpzfq6k00000gn/T/ipykernel_65843/2454644724.py:8: FutureWarning: \n",
      "\n",
      "Passing `palette` without assigning `hue` is deprecated and will be removed in v0.14.0. Assign the `x` variable to `hue` and set `legend=False` for the same effect.\n",
      "\n",
      "  sns.boxplot(x='experience_level', y='salary_in_usd', data=df_clean, palette='Set2', order=experience_order)\n"
     ]
    },
    {
     "data": {
      "image/png": "[encoded data removed]",
      "text/plain": [
       "<Figure size 500x400 with 1 Axes>"
      ]
     },
     "metadata": {},
     "output_type": "display_data"
    }
   ],
   "source": [
    "sns.set(style=\"whitegrid\")\n",
    "\n",
    "# Define el orden jerárquico de los niveles de experiencia\n",
    "experience_order = ['EN', 'MI', 'SE', 'EX']  # Entry-level, Mid-level, Senior, Executive\n",
    "\n",
    "# Crear el boxplot\n",
    "plt.figure(figsize=(5, 4))\n",
    "sns.boxplot(x='experience_level', y='salary_in_usd', data=df_clean, palette='Set2', order=experience_order)\n",
    "\n",
    "# Labels\n",
    "plt.title('Distribución de Salarios según Nivel de Experiencia', fontsize=10)\n",
    "plt.xlabel('Nivel de Experiencia')\n",
    "plt.ylabel('Salario en USD')\n",
    "\n",
    "plt.show()"
   ]
  },
  {
   "cell_type": "markdown",
   "id": "29ce69cb",
   "metadata": {},
   "source": [
    "El boxplot muestra cómo varía el salario dependiendo del nivel de experiencia, con las siguientes observaciones:\n",
    "- EX (Executive-level):\n",
    "    Tiene la mediana salarial más alta. También muestra poca dispersión comparado con el resto, lo que indica que la mayoría gana más o menos lo mismo. Posiblemente no existen outliers muy positivos, esto puede deberse a que no se está tomando en cuenta el tipo de trabajo en cada nivel de experiencia, puede que en este nivel estén los tipos de trabajos con un sueldo regular\n",
    "- SE (Senior-level):\n",
    "    Segundo nivel con mayor mediana salarial. Lo esperado. La distribución es más dispersa que la de los ejecutivos,y presenta una gama más alta de salarios.\n",
    "- MI (Mid-level):\n",
    "    La mediana es significativamente más baja que la de los niveles senior y executive. Pero es posible que nos hayamos topado con outliers, ya que en este nivel lo esperado es que los salarios sean menores que los de nivel EX\n",
    "- EN (Entry-level):\n",
    "    Tiene la mediana más baja de todos los niveles. Menor dispersión salarial. Sin embargo, pasa algo similar a MI, ya que hay un salario mayor a todos los de EX, lo cual es algo bastante inesperado.\n",
    "\n",
    "\n",
    "A medida que el nivel de experiencia aumenta, también lo hace el salario.\n",
    "La diferencia de mediana de salario entre niveles es clara, justificando la importancia de la experiencia en el mercado laboral de ciencia de datos.\n",
    "Las empresas parecen estar dispuestas a pagar mucho más a empleados senior y ejecutivos, aunque esto también viene con mayor variabilidad."
   ]
  },
  {
   "cell_type": "markdown",
   "id": "5f4b518c",
   "metadata": {},
   "source": [
    "3. ¿Cuál es la distribución de los salarios (en USD) para cada nivel de trabajo remoto (0%, 50%, 100%)?"
   ]
  },
  {
   "cell_type": "code",
   "execution_count": 140,
   "id": "b3097d55",
   "metadata": {},
   "outputs": [
    {
     "data": {
      "image/png": "[encoded data removed]",
      "text/plain": [
       "<Figure size 500x400 with 1 Axes>"
      ]
     },
     "metadata": {},
     "output_type": "display_data"
    }
   ],
   "source": [
    "plt.figure(figsize=(5, 4))\n",
    "sns.boxplot(data=df, x='remote_ratio', y='salary_in_usd')\n",
    "plt.title('Distribución del salario según modalidad de trabajo')\n",
    "plt.xlabel('Modalidad (remote_ratio)')\n",
    "plt.ylabel('Salario en USD')\n",
    "plt.show()\n"
   ]
  },
  {
   "cell_type": "markdown",
   "id": "63133072",
   "metadata": {},
   "source": [
    "- Modalidad 0% (presencial):\n",
    "    La mediana salarial es moderada. Existe una gran cantidad de outliers con salarios altos. La dispersión salarial es considerable, con un amplio rango intercuartílico.\n",
    "- Modalidad 50% (híbrido):\n",
    "    La mediana salarial es la más baja entre las tres modalidades. Menor dispersión comparada con las otras modalidades. Aunque hay algunos outliers altos, son menos frecuentes que en otras modalidades.\n",
    "- Modalidad 100% (remoto):\n",
    "    La mediana salarial es ligeramente mayor que la del trabajo presencial. La mayor cantidad de outliers altos, lo cual indica que los salarios más elevados tienden a estar en trabajos remotos. Alta dispersión, similar al trabajo 100% presencial.\n",
    "\n",
    "El trabajo 100% remoto parece estar más asociado a salarios altos, especialmente observando la cola superior (outliers).\n",
    "La modalidad híbrida (50%) muestra la mediana salarial más baja, lo cual podría indicar menor remuneración en este esquema.\n",
    "En general, la modalidad remota total ofrece una mejor oportunidad de obtener salarios más altos, aunque con alta variabilidad. Sin embargo aquí no se está tomando en cuenta el tipo de nivel que tienen los trabajadores"
   ]
  },
  {
   "cell_type": "markdown",
   "id": "4f0e8706",
   "metadata": {},
   "source": [
    "**4. ¿Cuáles son los puestos de trabajo mejor y peor remunerados en el área de desarrollo de datos?**"
   ]
  },
  {
   "cell_type": "code",
   "execution_count": null,
   "id": "98cf0545",
   "metadata": {},
   "outputs": [
    {
     "name": "stderr",
     "output_type": "stream",
     "text": [
      "/var/folders/76/ws8z3mnx1634t9z0jpzfq6k00000gn/T/ipykernel_65843/1857824250.py:11: FutureWarning: \n",
      "\n",
      "Passing `palette` without assigning `hue` is deprecated and will be removed in v0.14.0. Assign the `y` variable to `hue` and set `legend=False` for the same effect.\n",
      "\n",
      "  sns.barplot(x=top_10_jobs.values, y=top_10_jobs.index, palette=\"viridis\")\n"
     ]
    },
    {
     "data": {
      "image/png": "[encoded data removed]",
      "text/plain": [
       "<Figure size 800x600 with 1 Axes>"
      ]
     },
     "metadata": {},
     "output_type": "display_data"
    }
   ],
   "source": [
    "avg_salary_by_job = df_clean.groupby('job_title')['salary_in_usd'].mean().sort_values(ascending=False)\n",
    "\n",
    "# Seleccionar los 10 trabajos mejor pagados\n",
    "top_10_jobs = avg_salary_by_job.head(10)\n",
    "\n",
    "# Configurar el gráfico\n",
    "plt.figure(figsize=(8, 6))\n",
    "sns.set(style=\"whitegrid\")\n",
    "\n",
    "# Crear gráfico de barras horizontal\n",
    "sns.barplot(x=top_10_jobs.values, y=top_10_jobs.index, palette=\"viridis\")\n",
    "\n",
    "# Labels\n",
    "plt.title('Top 10 Puestos con Mayor Salario Promedio', fontsize=14)\n",
    "plt.xlabel('Salario Promedio en USD')\n",
    "plt.ylabel('Puesto de Trabajo')\n",
    "\n",
    "plt.tight_layout()\n",
    "plt.show()\n"
   ]
  },
  {
   "cell_type": "markdown",
   "id": "bf2438df",
   "metadata": {},
   "source": [
    "Los tres primeros lugares son ocupados por roles de alta jerarquía:\n",
    "- Analytics Engineering Manager\n",
    "- Data Science Tech Lead\n",
    "- Head of Machine Learning\n",
    "\n",
    "Esto confirma que los cargos ejecutivos y de dirección en el ámbito de datos tienen una remuneración significativamente más alta.\n",
    "\n",
    "Estos puestos requieren un alto nivel técnico y especialización, lo cual se traduce en una compensación elevada.\n",
    "Emergencia de nuevos roles:\n",
    "Prompt Engineer aparece en el top 10, lo que indica que nuevos perfiles enfocados en IA generativa están siendo altamente valorados en el mercado.\n",
    "\n",
    "Los puestos que combinan liderazgo técnico, experiencia en arquitectura de sistemas de datos y conocimientos en inteligencia artificial son los que perciben los salarios más altos en el sector de data development."
   ]
  },
  {
   "cell_type": "code",
   "execution_count": null,
   "id": "709ad46a",
   "metadata": {},
   "outputs": [
    {
     "name": "stderr",
     "output_type": "stream",
     "text": [
      "/var/folders/76/ws8z3mnx1634t9z0jpzfq6k00000gn/T/ipykernel_65843/1517040900.py:11: FutureWarning: \n",
      "\n",
      "Passing `palette` without assigning `hue` is deprecated and will be removed in v0.14.0. Assign the `y` variable to `hue` and set `legend=False` for the same effect.\n",
      "\n",
      "  sns.barplot(x=bottom_10_jobs.values, y=bottom_10_jobs.index, palette=\"viridis\")\n"
     ]
    },
    {
     "data": {
      "image/png": "[encoded data removed]",
      "text/plain": [
       "<Figure size 1000x300 with 1 Axes>"
      ]
     },
     "metadata": {},
     "output_type": "display_data"
    }
   ],
   "source": [
    "avg_salary_by_job = df_clean.groupby('job_title')['salary_in_usd'].mean().sort_values(ascending=False)\n",
    "\n",
    "# Seleccionar los 10 trabajos peor pagados\n",
    "bottom_10_jobs = avg_salary_by_job.tail(5)\n",
    "\n",
    "# Configurar el gráfico\n",
    "plt.figure(figsize=(10, 3))\n",
    "sns.set(style=\"whitegrid\")\n",
    "\n",
    "sns.barplot(x=bottom_10_jobs.values, y=bottom_10_jobs.index, palette=\"viridis\")\n",
    "\n",
    "# Labels\n",
    "plt.title('Top 10 Puestos con Mayor Salario Promedio', fontsize=14)\n",
    "plt.xlabel('Salario Promedio en USD')\n",
    "plt.ylabel('Puesto de Trabajo')\n",
    "\n",
    "plt.tight_layout()\n",
    "plt.show()"
   ]
  },
  {
   "cell_type": "markdown",
   "id": "0f63591d",
   "metadata": {},
   "source": [
    "Todos los trabajos peor pagados están relacionados con análisis de datos, pero en áreas específicas dentro de negocios, cumplimiento, o marketing.\n",
    "A diferencia de roles técnicos más especializados como Machine Learning Engineer o AI Architect, estos cargos tienden a tener:\n",
    "- Menor nivel técnico en herramientas avanzadas de programación o modelado\n",
    "- Menor demanda en el mercado actual, lo que puede presionar los salarios a la baja.\n",
    "\n",
    "Recordar que aquí no se está analizando el tamaño de la empresa ni el nivel de trabajador, por lo que también es posible que muchos de estos cargos existan en empresas pequeñas o medianas, donde el presupuesto para roles analíticos no es tan alto.\n",
    "\n",
    "Aunque todos estos roles están en el ámbito de Data, no todos se benefician por igual. Los puestos más orientados a negocio tradicional tienden a tener salarios menos competitivos, destacando la importancia de la especialización técnica y la actualización continua en el campo de datos."
   ]
  },
  {
   "cell_type": "markdown",
   "id": "04a6ad8c",
   "metadata": {},
   "source": [
    "**5. ¿Qué combinación de tamaño de empresa (company_size) y nivel de experiencia (experience_level) está asociada con mayores salarios promedio?**"
   ]
  },
  {
   "cell_type": "code",
   "execution_count": null,
   "id": "2f542d45",
   "metadata": {},
   "outputs": [
    {
     "data": {
      "image/png": "[encoded data removed]",
      "text/plain": [
       "<Figure size 800x400 with 1 Axes>"
      ]
     },
     "metadata": {},
     "output_type": "display_data"
    }
   ],
   "source": [
    "grouped = df_clean.groupby(['company_size', 'experience_level'])['salary_in_usd'].mean().reset_index()\n",
    "\n",
    "# Crear gráfico de barras agrupadas\n",
    "plt.figure(figsize=(8, 4))\n",
    "sns.barplot(data=grouped, x='company_size', y='salary_in_usd', hue='experience_level', palette='Set2')\n",
    "\n",
    "# Labels\n",
    "plt.title('Salario Promedio por Tamaño de Empresa y Nivel de Experiencia')\n",
    "plt.xlabel('Tamaño de la Empresa')\n",
    "plt.ylabel('Salario Promedio (USD)')\n",
    "plt.legend(title='Nivel de Experiencia')\n",
    "\n",
    "# Mostrar gráfico\n",
    "plt.tight_layout()\n",
    "plt.show()"
   ]
  },
  {
   "cell_type": "markdown",
   "id": "373e1c68",
   "metadata": {},
   "source": [
    "Los empleados con mayor experiencia (EX - Executive) reciben los salarios más altos, sin importar el tamaño de la empresa.\n",
    "Especialmente en empresas medianas (M), donde el salario promedio para este nivel alcanza su punto máximo (~200 000 USD).\n",
    "Los empleados junior (EN - Entry Level) reciben los salarios más bajos en todos los tamaños de empresa, lo cual es esperado.\n",
    "En empresas grandes (L), el salario promedio para nivel EN ronda los 75 000 USD.\n",
    "Las empresas medianas (M) tienden a pagar mejor en todos los niveles de experiencia comparado con empresas grandes (L) y pequeñas (S).\n",
    "Esto puede ser un hallazgo un poco sorprendente, ya que a menudo se espera que las grandes empresas paguen más.\n",
    "Los perfiles senior (SE) y mid-level (MI) tienen una progresión salarial clara, y los sueldos también tienden a ser más altos en empresas medianas.\n",
    "\n",
    "Las empresas medianas podrían estar compitiendo con grandes empresas por talento, ofreciendo salarios más competitivos.\n",
    "Las empresas pequeñas probablemente tengan restricciones presupuestarias, lo que se refleja generalmente en salarios más bajos.\n",
    "A medida que aumenta el nivel de experiencia, el impacto del tamaño de empresa es más notorio en el salario final."
   ]
  }
 ],
 "metadata": {
  "kernelspec": {
   "display_name": "Python 3",
   "language": "python",
   "name": "python3"
  },
  "language_info": {
   "codemirror_mode": {
    "name": "ipython",
    "version": 3
   },
   "file_extension": ".py",
   "mimetype": "text/x-python",
   "name": "python",
   "nbconvert_exporter": "python",
   "pygments_lexer": "ipython3",
   "version": "3.13.5"
  }
 },
 "nbformat": 4,
 "nbformat_minor": 5
}
